{
 "cells": [
  {
   "cell_type": "markdown",
   "id": "1169df18",
   "metadata": {},
   "source": [
    "#### QUESTION 1"
   ]
  },
  {
   "cell_type": "code",
   "execution_count": 1,
   "id": "f1a3a0dc",
   "metadata": {},
   "outputs": [],
   "source": [
    "def twosum(nums, target):\n",
    "    num_dict = {}\n",
    "    for i, num in enumerate(nums):\n",
    "        complement = target - num\n",
    "        if complement in num_dict:\n",
    "            return [num_dict[complement], i]\n",
    "        num_dict[num] = i\n",
    "    return []           \n",
    "            "
   ]
  },
  {
   "cell_type": "code",
   "execution_count": 5,
   "id": "6c363d5d",
   "metadata": {},
   "outputs": [
    {
     "name": "stdout",
     "output_type": "stream",
     "text": [
      "[0, 3]\n"
     ]
    }
   ],
   "source": [
    "nums = [2,6,7,4]\n",
    "target = 6\n",
    "result = twosum(nums, target)\n",
    "print(result)"
   ]
  },
  {
   "cell_type": "markdown",
   "id": "555f8a7b",
   "metadata": {},
   "source": [
    "#### QUESTION 2"
   ]
  },
  {
   "cell_type": "code",
   "execution_count": 12,
   "id": "f439bcac",
   "metadata": {},
   "outputs": [],
   "source": [
    "def removeElem(nums, val):\n",
    "    while val in nums:\n",
    "        nums.remove(val)\n",
    "    return len(nums)"
   ]
  },
  {
   "cell_type": "code",
   "execution_count": 13,
   "id": "8f06fc45",
   "metadata": {},
   "outputs": [
    {
     "name": "stdout",
     "output_type": "stream",
     "text": [
      "4\n",
      "[2, 4, 2, 2]\n"
     ]
    }
   ],
   "source": [
    "nums = [3,2,3,4,2,2,3]\n",
    "val = 3\n",
    "result = removeElem(nums,val)\n",
    "print(result)\n",
    "print(nums)"
   ]
  },
  {
   "cell_type": "markdown",
   "id": "aecd9209",
   "metadata": {},
   "source": [
    "#### QUESTION 3"
   ]
  },
  {
   "cell_type": "code",
   "execution_count": 14,
   "id": "ee5a5f5a",
   "metadata": {},
   "outputs": [],
   "source": [
    "import bisect\n",
    "def targetindex(nums, target):\n",
    "    index= bisect.bisect_left(nums,target)\n",
    "    return index        "
   ]
  },
  {
   "cell_type": "code",
   "execution_count": 17,
   "id": "ac2754d3",
   "metadata": {},
   "outputs": [
    {
     "data": {
      "text/plain": [
       "1"
      ]
     },
     "execution_count": 17,
     "metadata": {},
     "output_type": "execute_result"
    }
   ],
   "source": [
    "nums = [1,3,4,5,9]\n",
    "tg = 2\n",
    "result = targetindex(nums,tg)\n",
    "result"
   ]
  },
  {
   "cell_type": "markdown",
   "id": "34bf7108",
   "metadata": {},
   "source": [
    "#### QUESTION 4"
   ]
  },
  {
   "cell_type": "code",
   "execution_count": 21,
   "id": "f8923f92",
   "metadata": {},
   "outputs": [],
   "source": [
    "def plusone(nums):\n",
    "    n = len(nums)\n",
    "    carry = 1\n",
    "    for i in range(n-1, -1,-1):\n",
    "        digit_sum = nums[i] + carry\n",
    "        nums[i] = digit_sum % 10\n",
    "        carry = digit_sum // 10\n",
    "    if carry:\n",
    "        digits.insert(0, carry)\n",
    "    return nums           "
   ]
  },
  {
   "cell_type": "code",
   "execution_count": 22,
   "id": "3d92d7f9",
   "metadata": {},
   "outputs": [
    {
     "data": {
      "text/plain": [
       "[1, 3, 0]"
      ]
     },
     "execution_count": 22,
     "metadata": {},
     "output_type": "execute_result"
    }
   ],
   "source": [
    "nums = [1,2,9]\n",
    "result = plusone(nums)\n",
    "result"
   ]
  },
  {
   "cell_type": "markdown",
   "id": "a7d87049",
   "metadata": {},
   "source": [
    "#### QUESTION 5"
   ]
  },
  {
   "cell_type": "code",
   "execution_count": 30,
   "id": "c9f6c3bc",
   "metadata": {},
   "outputs": [],
   "source": [
    "def merge(num1,m, num2, n):\n",
    "    n1 = num1[:m]\n",
    "    n2 = num2[:n]\n",
    "    i=j=k=0\n",
    "    while i < m and j < n:\n",
    "        if n1[i] <= n2[j]:\n",
    "            num1[k] = n1[i]\n",
    "            i+=1\n",
    "        else:\n",
    "            num1[k] = n2[j]\n",
    "            j+=1\n",
    "        k+=1\n",
    "    while i < m:\n",
    "        num1[k] = n1[i]\n",
    "        i+=1\n",
    "        k+=1\n",
    "    while j < n:\n",
    "        num1[k] = n2[j]\n",
    "        j+=1\n",
    "        k+=1\n",
    "    num1.sort()\n",
    "    return num1"
   ]
  },
  {
   "cell_type": "code",
   "execution_count": 31,
   "id": "6a9df89f",
   "metadata": {},
   "outputs": [
    {
     "data": {
      "text/plain": [
       "[1, 1, 2, 2, 4, 4, 5, 5]"
      ]
     },
     "execution_count": 31,
     "metadata": {},
     "output_type": "execute_result"
    }
   ],
   "source": [
    "n1 = [1,2,4,5,0,0,0,0]\n",
    "m = 4\n",
    "n2 = [2,4,5,1]\n",
    "n = 4\n",
    "result = merge(n1,m,n2,n)\n",
    "result"
   ]
  },
  {
   "cell_type": "markdown",
   "id": "fa0431cb",
   "metadata": {},
   "source": [
    "#### QUESTION 6"
   ]
  },
  {
   "cell_type": "code",
   "execution_count": 32,
   "id": "4eaeb4d2",
   "metadata": {},
   "outputs": [],
   "source": [
    "def dup_val(nums):\n",
    "    a = set()\n",
    "    for num in nums:\n",
    "        if num in a:\n",
    "            return True\n",
    "        a.add(num)\n",
    "    return False"
   ]
  },
  {
   "cell_type": "code",
   "execution_count": 36,
   "id": "9fd6c06e",
   "metadata": {},
   "outputs": [
    {
     "data": {
      "text/plain": [
       "True"
      ]
     },
     "execution_count": 36,
     "metadata": {},
     "output_type": "execute_result"
    }
   ],
   "source": [
    "num = [1,4,7,9,2,3,3]\n",
    "result =dup_val(num)\n",
    "result"
   ]
  },
  {
   "cell_type": "markdown",
   "id": "5c61cf57",
   "metadata": {},
   "source": [
    "#### QUESTION 7"
   ]
  },
  {
   "cell_type": "code",
   "execution_count": 68,
   "id": "8943f9f6",
   "metadata": {},
   "outputs": [],
   "source": [
    "def moveZeroes(nums):\n",
    "    zero_index = 0\n",
    "\n",
    "    # Iterate through the array and move non-zero elements to the left\n",
    "    for i in range(len(nums)):\n",
    "        if nums[i] != 0:\n",
    "            nums[zero_index] = nums[i]\n",
    "            zero_index += 1\n",
    "\n",
    "    # Fill the remaining positions with zeros\n",
    "    for i in range(zero_index, len(nums)):\n",
    "        nums[i] = 0\n",
    "    return nums"
   ]
  },
  {
   "cell_type": "code",
   "execution_count": 72,
   "id": "5d005c25",
   "metadata": {},
   "outputs": [
    {
     "data": {
      "text/plain": [
       "[1, 4, 6, 9, 7, 4, 8, 0, 0, 0]"
      ]
     },
     "execution_count": 72,
     "metadata": {},
     "output_type": "execute_result"
    }
   ],
   "source": [
    "nums = [0,1,4,0,6,9,7,0,4,8]\n",
    "moveZeroes(nums)"
   ]
  },
  {
   "cell_type": "markdown",
   "id": "56ba228b",
   "metadata": {},
   "source": [
    "####  QUESTION 8 "
   ]
  },
  {
   "cell_type": "code",
   "execution_count": 73,
   "id": "b272ec0b",
   "metadata": {},
   "outputs": [],
   "source": [
    "def finderror(nums):\n",
    "    n = len(nums)\n",
    "    num_set = set(nums)\n",
    "    duplicate = sum(nums) - sum(num_set)\n",
    "    missing = (n* (n+1)//2) - sum(num_set)\n",
    "    return [duplicate, missing]"
   ]
  },
  {
   "cell_type": "code",
   "execution_count": 76,
   "id": "4e22e8aa",
   "metadata": {},
   "outputs": [
    {
     "data": {
      "text/plain": [
       "[4, 5]"
      ]
     },
     "execution_count": 76,
     "metadata": {},
     "output_type": "execute_result"
    }
   ],
   "source": [
    "nums = [1,2,3,4,4,6,7,8]\n",
    "result = finderror(nums)\n",
    "result"
   ]
  },
  {
   "cell_type": "code",
   "execution_count": null,
   "id": "3c5157ca",
   "metadata": {},
   "outputs": [],
   "source": []
  }
 ],
 "metadata": {
  "kernelspec": {
   "display_name": "Python 3 (ipykernel)",
   "language": "python",
   "name": "python3"
  },
  "language_info": {
   "codemirror_mode": {
    "name": "ipython",
    "version": 3
   },
   "file_extension": ".py",
   "mimetype": "text/x-python",
   "name": "python",
   "nbconvert_exporter": "python",
   "pygments_lexer": "ipython3",
   "version": "3.9.12"
  }
 },
 "nbformat": 4,
 "nbformat_minor": 5
}
