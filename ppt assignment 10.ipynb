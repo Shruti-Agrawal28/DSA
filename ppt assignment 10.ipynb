{
 "cells": [
  {
   "cell_type": "markdown",
   "id": "833a4637",
   "metadata": {},
   "source": [
    "### Question 1."
   ]
  },
  {
   "cell_type": "code",
   "execution_count": 60,
   "id": "104c08cc",
   "metadata": {},
   "outputs": [],
   "source": [
    "def powerOfThree(n):\n",
    "    if n <= 0:\n",
    "        return False\n",
    "    while n % 3 == 0:\n",
    "        n //= 3\n",
    "    return n == 1\n"
   ]
  },
  {
   "cell_type": "code",
   "execution_count": 61,
   "id": "0028acf5",
   "metadata": {},
   "outputs": [
    {
     "data": {
      "text/plain": [
       "True"
      ]
     },
     "execution_count": 61,
     "metadata": {},
     "output_type": "execute_result"
    }
   ],
   "source": [
    "powerOfThree(27)"
   ]
  },
  {
   "cell_type": "markdown",
   "id": "b272dad9",
   "metadata": {},
   "source": [
    "### Question 2."
   ]
  },
  {
   "cell_type": "code",
   "execution_count": 23,
   "id": "20a2c1ff",
   "metadata": {},
   "outputs": [],
   "source": [
    "def last_remaining(n):\n",
    "    left_to_right = True\n",
    "    remaining = n\n",
    "    step = 1\n",
    "    head = 1\n",
    "\n",
    "    while remaining > 1:\n",
    "        if left_to_right or remaining % 2 == 1:\n",
    "            head += step\n",
    "        \n",
    "        remaining //= 2\n",
    "        step *= 2\n",
    "        left_to_right = not left_to_right\n",
    "    \n",
    "    return head"
   ]
  },
  {
   "cell_type": "code",
   "execution_count": 24,
   "id": "e2a9262a",
   "metadata": {},
   "outputs": [
    {
     "data": {
      "text/plain": [
       "6"
      ]
     },
     "execution_count": 24,
     "metadata": {},
     "output_type": "execute_result"
    }
   ],
   "source": [
    "last_remaining(9)"
   ]
  },
  {
   "cell_type": "markdown",
   "id": "d269e45b",
   "metadata": {},
   "source": [
    "### Question 3."
   ]
  },
  {
   "cell_type": "code",
   "execution_count": 52,
   "id": "d283105a",
   "metadata": {},
   "outputs": [],
   "source": [
    "def generate_subsets(s, subset, index):\n",
    "    if index == len(s):\n",
    "        print(subset)\n",
    "        return\n",
    "\n",
    "    # Excluding the current character\n",
    "    generate_subsets(s, subset, index + 1)\n",
    "\n",
    "    # Including the current character\n",
    "    generate_subsets(s, subset + s[index], index + 1)\n",
    "\n",
    "def print_all_subsets(s):\n",
    "    generate_subsets(s, \"\", 0)"
   ]
  },
  {
   "cell_type": "code",
   "execution_count": 53,
   "id": "8c659c70",
   "metadata": {},
   "outputs": [
    {
     "name": "stdout",
     "output_type": "stream",
     "text": [
      "\n",
      "c\n",
      "b\n",
      "bc\n",
      "a\n",
      "ac\n",
      "ab\n",
      "abc\n"
     ]
    }
   ],
   "source": [
    "print_all_subsets(\"abc\")"
   ]
  },
  {
   "cell_type": "markdown",
   "id": "9ed905e2",
   "metadata": {},
   "source": [
    "### Question 4."
   ]
  },
  {
   "cell_type": "code",
   "execution_count": 58,
   "id": "793c6aac",
   "metadata": {},
   "outputs": [],
   "source": [
    "def calculate_length(s):\n",
    "    if s == \"\":\n",
    "        return 0\n",
    "    return 1 + calculate_length(s[1:])"
   ]
  },
  {
   "cell_type": "code",
   "execution_count": 59,
   "id": "b68f3614",
   "metadata": {},
   "outputs": [
    {
     "name": "stdout",
     "output_type": "stream",
     "text": [
      "5\n"
     ]
    }
   ],
   "source": [
    "print(calculate_length(\"Hello\"))  \n"
   ]
  },
  {
   "cell_type": "markdown",
   "id": "aafe5160",
   "metadata": {},
   "source": [
    "### Question 5."
   ]
  },
  {
   "cell_type": "code",
   "execution_count": 69,
   "id": "4df8b491",
   "metadata": {},
   "outputs": [],
   "source": [
    "def count_contiguous_substrings(S):\n",
    "    count = 0\n",
    "    n = len(S)\n",
    "    for i in range(n):\n",
    "        count += 1\n",
    "        j = i + 1\n",
    "        while j < n and S[i] == S[j]:\n",
    "            count += 1\n",
    "            j += 1\n",
    "    return count"
   ]
  },
  {
   "cell_type": "code",
   "execution_count": 70,
   "id": "868f23a9",
   "metadata": {},
   "outputs": [
    {
     "name": "stdout",
     "output_type": "stream",
     "text": [
      "5\n"
     ]
    }
   ],
   "source": [
    "print(count_contiguous_substrings(\"abcab\"))  "
   ]
  },
  {
   "cell_type": "markdown",
   "id": "a3e2c2de",
   "metadata": {},
   "source": [
    "### Question 6."
   ]
  },
  {
   "cell_type": "code",
   "execution_count": 72,
   "id": "4c831a83",
   "metadata": {},
   "outputs": [],
   "source": [
    "def tower_of_hanoi(n, source, auxiliary, destination):\n",
    "    if n == 1:\n",
    "        print(\"Move disk 1 from rod\", source, \"to rod\", destination)\n",
    "        return 1\n",
    "    else:\n",
    "        moves = 0\n",
    "        moves += tower_of_hanoi(n-1, source, destination, auxiliary)\n",
    "        print(\"Move disk\", n, \"from rod\", source, \"to rod\", destination)\n",
    "        moves += 1\n",
    "        moves += tower_of_hanoi(n-1, auxiliary, source, destination)\n",
    "        return moves"
   ]
  },
  {
   "cell_type": "code",
   "execution_count": 74,
   "id": "c3a5f44b",
   "metadata": {},
   "outputs": [
    {
     "name": "stdout",
     "output_type": "stream",
     "text": [
      "Move disk 1 from rod 1 to rod 3\n",
      "Move disk 2 from rod 1 to rod 2\n",
      "Move disk 1 from rod 3 to rod 2\n",
      "Move disk 3 from rod 1 to rod 3\n",
      "Move disk 1 from rod 2 to rod 1\n",
      "Move disk 2 from rod 2 to rod 3\n",
      "Move disk 1 from rod 1 to rod 3\n",
      "7\n"
     ]
    }
   ],
   "source": [
    "N = 3\n",
    "total_moves = tower_of_hanoi(N, 1, 2, 3)\n",
    "print(total_moves)"
   ]
  },
  {
   "cell_type": "markdown",
   "id": "d434022a",
   "metadata": {},
   "source": [
    "### Question 7."
   ]
  },
  {
   "cell_type": "code",
   "execution_count": 75,
   "id": "17fea0f0",
   "metadata": {},
   "outputs": [],
   "source": [
    "def print_permutations(s, left, right):\n",
    "    if left == right:\n",
    "        print(\"\".join(s))\n",
    "    else:\n",
    "        for i in range(left, right + 1):\n",
    "            s[left], s[i] = s[i], s[left] \n",
    "            print_permutations(s, left + 1, right) \n",
    "            s[left], s[i] = s[i], s[left] "
   ]
  },
  {
   "cell_type": "code",
   "execution_count": 77,
   "id": "2e0bc041",
   "metadata": {},
   "outputs": [
    {
     "name": "stdout",
     "output_type": "stream",
     "text": [
      "cdc\n",
      "ccd\n",
      "dcc\n",
      "dcc\n",
      "cdc\n",
      "ccd\n"
     ]
    }
   ],
   "source": [
    "str = \"cdc\"\n",
    "n = len(str)\n",
    "print_permutations(list(str), 0, n - 1)"
   ]
  },
  {
   "cell_type": "markdown",
   "id": "a48699ed",
   "metadata": {},
   "source": [
    "### Question 8."
   ]
  },
  {
   "cell_type": "code",
   "execution_count": 78,
   "id": "fc449d78",
   "metadata": {},
   "outputs": [],
   "source": [
    "def count_consonants(string):\n",
    "    count = 0\n",
    "    vowels = ['a', 'e', 'i', 'o', 'u']\n",
    "\n",
    "    for char in string:\n",
    "        if char.isalpha() and char.lower() not in vowels:\n",
    "            count += 1\n",
    "\n",
    "    return count"
   ]
  },
  {
   "cell_type": "code",
   "execution_count": 80,
   "id": "b00a7c1a",
   "metadata": {},
   "outputs": [
    {
     "name": "stdout",
     "output_type": "stream",
     "text": [
      "6\n"
     ]
    }
   ],
   "source": [
    "input_string = \"abc defghi\"\n",
    "print(count_consonants(input_string))  "
   ]
  }
 ],
 "metadata": {
  "kernelspec": {
   "display_name": "Python 3 (ipykernel)",
   "language": "python",
   "name": "python3"
  },
  "language_info": {
   "codemirror_mode": {
    "name": "ipython",
    "version": 3
   },
   "file_extension": ".py",
   "mimetype": "text/x-python",
   "name": "python",
   "nbconvert_exporter": "python",
   "pygments_lexer": "ipython3",
   "version": "3.9.12"
  }
 },
 "nbformat": 4,
 "nbformat_minor": 5
}
