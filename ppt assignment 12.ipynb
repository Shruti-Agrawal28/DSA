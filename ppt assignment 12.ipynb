{
 "cells": [
  {
   "cell_type": "markdown",
   "id": "348a2fad",
   "metadata": {},
   "source": [
    "### QUESTION 1."
   ]
  },
  {
   "cell_type": "code",
   "execution_count": 29,
   "id": "d8cfc072",
   "metadata": {},
   "outputs": [],
   "source": [
    "class ListNode:\n",
    "    def __init__(self, val=0, next=None):\n",
    "        self.val = val\n",
    "        self.next = next\n",
    "\n",
    "def deleteMiddleNode(head):\n",
    "    if not head or not head.next:\n",
    "        return None \n",
    "\n",
    "    slow = head\n",
    "    fast = head\n",
    "    prev = None\n",
    "\n",
    "    while fast and fast.next:\n",
    "        fast = fast.next.next\n",
    "        prev = slow\n",
    "        slow = slow.next\n",
    "\n",
    "    prev.next = slow.next\n",
    "\n",
    "    return head\n"
   ]
  },
  {
   "cell_type": "code",
   "execution_count": 30,
   "id": "4d6ab238",
   "metadata": {},
   "outputs": [
    {
     "name": "stdout",
     "output_type": "stream",
     "text": [
      "[1, 2, 3, 5, 6]\n"
     ]
    }
   ],
   "source": [
    "head = ListNode(1)\n",
    "head.next = ListNode(2)\n",
    "head.next.next = ListNode(3)\n",
    "head.next.next.next = ListNode(4)\n",
    "head.next.next.next.next = ListNode(5)\n",
    "head.next.next.next.next.next = ListNode(6)\n",
    "\n",
    "\n",
    "modified = deleteMiddleNode(head)\n",
    "\n",
    "result = []\n",
    "while modified:\n",
    "    result.append(modified.val)\n",
    "    modified = modified.next\n",
    "print(result)  \n"
   ]
  },
  {
   "cell_type": "markdown",
   "id": "c1bf8627",
   "metadata": {},
   "source": [
    "### QUESTION 2."
   ]
  },
  {
   "cell_type": "code",
   "execution_count": 33,
   "id": "42205808",
   "metadata": {},
   "outputs": [],
   "source": [
    "class ListNode:\n",
    "    def __init__(self, val=0, next=None):\n",
    "        self.val = val\n",
    "        self.next = next\n",
    "\n",
    "def hasLoop(head):\n",
    "    if not head or not head.next:\n",
    "        return False \n",
    "    slow = head\n",
    "    fast = head\n",
    "\n",
    "    while fast and fast.next:\n",
    "        slow = slow.next\n",
    "        fast = fast.next.next\n",
    "\n",
    "        if slow == fast:\n",
    "            return True \n",
    "    return False \n"
   ]
  },
  {
   "cell_type": "code",
   "execution_count": 36,
   "id": "ff6b0b02",
   "metadata": {},
   "outputs": [
    {
     "name": "stdout",
     "output_type": "stream",
     "text": [
      "True\n"
     ]
    }
   ],
   "source": [
    "head = ListNode(1)\n",
    "node2 = ListNode(3)\n",
    "node3 = ListNode(4)\n",
    "node4 = ListNode(3)\n",
    "\n",
    "head.next = node2\n",
    "node2.next = node3\n",
    "node3.next = node4\n",
    "node4.next = node2 \n",
    "\n",
    "has_loop = hasLoop(head)\n",
    "\n",
    "print(has_loop) "
   ]
  },
  {
   "cell_type": "markdown",
   "id": "9b1f0e64",
   "metadata": {},
   "source": [
    "### QUESTION 3. "
   ]
  },
  {
   "cell_type": "code",
   "execution_count": 44,
   "id": "7075b6ec",
   "metadata": {},
   "outputs": [],
   "source": [
    "class ListNode:\n",
    "    def __init__(self, val=0, next=None):\n",
    "        self.val = val\n",
    "        self.next = next\n",
    "\n",
    "def findNthFromEnd(head, n):\n",
    "    if not head:\n",
    "        return None  # Empty list\n",
    "\n",
    "    slow = head\n",
    "    fast = head\n",
    "\n",
    "    for _ in range(n):\n",
    "        if not fast:\n",
    "            return None  \n",
    "        fast = fast.next\n",
    "\n",
    "    while fast:\n",
    "        slow = slow.next\n",
    "        fast = fast.next\n",
    "\n",
    "    return slow\n"
   ]
  },
  {
   "cell_type": "code",
   "execution_count": 45,
   "id": "9482e9ee",
   "metadata": {},
   "outputs": [
    {
     "name": "stdout",
     "output_type": "stream",
     "text": [
      "4\n"
     ]
    }
   ],
   "source": [
    "head = ListNode(1)\n",
    "head.next = ListNode(2)\n",
    "head.next.next = ListNode(3)\n",
    "head.next.next.next = ListNode(4)\n",
    "head.next.next.next.next = ListNode(5)\n",
    "n = 2\n",
    "nth_node = findNthFromEnd(head, n)\n",
    "\n",
    "if nth_node:\n",
    "    print(nth_node.val)\n",
    "else:\n",
    "    print(-1)"
   ]
  },
  {
   "cell_type": "markdown",
   "id": "64e33bc8",
   "metadata": {},
   "source": [
    "### QUESTION 5."
   ]
  },
  {
   "cell_type": "code",
   "execution_count": 1,
   "id": "c2c514c7",
   "metadata": {},
   "outputs": [],
   "source": [
    "class ListNode:\n",
    "    def __init__(self, val=0, next=None):\n",
    "        self.val = val\n",
    "        self.next = next\n",
    "\n",
    "def detect_and_remove_loop(head):\n",
    "    slow = head\n",
    "    fast = head\n",
    "\n",
    "    while fast and fast.next:\n",
    "        slow = slow.next\n",
    "        fast = fast.next.next\n",
    "        if slow == fast:\n",
    "            break\n",
    "\n",
    "    if slow != fast:\n",
    "        return head  \n",
    "    slow = head\n",
    "    while slow.next != fast.next:\n",
    "        slow = slow.next\n",
    "        fast = fast.next\n",
    "\n",
    "    fast.next = None\n",
    "\n",
    "    return head\n"
   ]
  },
  {
   "cell_type": "code",
   "execution_count": 5,
   "id": "97bb59bb",
   "metadata": {},
   "outputs": [],
   "source": [
    "# Creating the linked list\n",
    "node1 = ListNode(1)\n",
    "node2 = ListNode(3)\n",
    "node3 = ListNode(4)\n",
    "node1.next = node2\n",
    "node2.next = node3\n",
    "\n",
    "# Creating the loop\n",
    "node3.next = node2\n",
    "\n",
    "# Removing the loop\n",
    "head = detect_and_remove_loop(node1)\n"
   ]
  },
  {
   "cell_type": "code",
   "execution_count": 6,
   "id": "51289439",
   "metadata": {
    "scrolled": true
   },
   "outputs": [
    {
     "name": "stdout",
     "output_type": "stream",
     "text": [
      "1 3 4 "
     ]
    }
   ],
   "source": [
    "while head:\n",
    "    print(head.val, end=\" \")\n",
    "    head = head.next"
   ]
  },
  {
   "cell_type": "markdown",
   "id": "0952e999",
   "metadata": {},
   "source": [
    "### QUESTION 7."
   ]
  },
  {
   "cell_type": "code",
   "execution_count": 20,
   "id": "46db9b05",
   "metadata": {},
   "outputs": [],
   "source": [
    "class ListNode:\n",
    "    def __init__(self, val=0, next=None):\n",
    "        self.val = val\n",
    "        self.next = next\n",
    "\n",
    "def merge_alternate(head1, head2):\n",
    "    if not head2:\n",
    "        return head1\n",
    "\n",
    "    curr1 = head1\n",
    "    curr2 = head2\n",
    "\n",
    "    while curr1 and curr2:\n",
    "        next1 = curr1.next\n",
    "        next2 = curr2.next\n",
    "\n",
    "        curr1.next = curr2\n",
    "        curr2.next = next1\n",
    "\n",
    "        curr1 = next1\n",
    "        curr2 = next2\n",
    "\n",
    "    return head1"
   ]
  },
  {
   "cell_type": "code",
   "execution_count": 22,
   "id": "7694c4d6",
   "metadata": {},
   "outputs": [
    {
     "name": "stdout",
     "output_type": "stream",
     "text": [
      "5 12 7 10 17 2 13 "
     ]
    }
   ],
   "source": [
    "node1 = ListNode(5)\n",
    "node2 = ListNode(7)\n",
    "node3 = ListNode(17)\n",
    "node4 = ListNode(13)\n",
    "node1.next = node2\n",
    "node2.next = node3\n",
    "node3.next = node4\n",
    "\n",
    "second_node1 = ListNode(12)\n",
    "second_node2 = ListNode(10)\n",
    "second_node3 = ListNode(2)\n",
    "second_node1.next = second_node2\n",
    "second_node2.next = second_node3\n",
    "\n",
    "merge_alternate(node1, second_node1)\n",
    "\n",
    "while node1:\n",
    "    print(node1.val, end=\" \")\n",
    "    node1 = node1.next"
   ]
  },
  {
   "cell_type": "markdown",
   "id": "062cec22",
   "metadata": {},
   "source": [
    "### QUESTION 8."
   ]
  },
  {
   "cell_type": "code",
   "execution_count": 23,
   "id": "2006e574",
   "metadata": {},
   "outputs": [],
   "source": [
    "class ListNode:\n",
    "    def __init__(self, val=0, next=None):\n",
    "        self.val = val\n",
    "        self.next = next\n",
    "\n",
    "def is_circular(head):\n",
    "    if not head or not head.next:\n",
    "        return False\n",
    "\n",
    "    slow = head\n",
    "    fast = head.next\n",
    "\n",
    "    while fast and fast.next:\n",
    "        if slow == fast:\n",
    "            return True\n",
    "        slow = slow.next\n",
    "        fast = fast.next.next\n",
    "\n",
    "    return False"
   ]
  },
  {
   "cell_type": "code",
   "execution_count": 24,
   "id": "6169045d",
   "metadata": {},
   "outputs": [
    {
     "name": "stdout",
     "output_type": "stream",
     "text": [
      "True\n"
     ]
    }
   ],
   "source": [
    "# Example of a circular linked list\n",
    "node1 = ListNode(1)\n",
    "node2 = ListNode(2)\n",
    "node3 = ListNode(3)\n",
    "node4 = ListNode(4)\n",
    "node5 = ListNode(5)\n",
    "\n",
    "node1.next = node2\n",
    "node2.next = node3\n",
    "node3.next = node4\n",
    "node4.next = node5\n",
    "node5.next = node1\n",
    "print(is_circular(node1))"
   ]
  },
  {
   "cell_type": "code",
   "execution_count": 25,
   "id": "8050c58d",
   "metadata": {},
   "outputs": [
    {
     "name": "stdout",
     "output_type": "stream",
     "text": [
      "False\n"
     ]
    }
   ],
   "source": [
    "# Example of a non-circular linked list\n",
    "node6 = ListNode(6)\n",
    "node7 = ListNode(7)\n",
    "node8 = ListNode(8)\n",
    "\n",
    "node6.next = node7\n",
    "node7.next = node8\n",
    "\n",
    "print(is_circular(node6))"
   ]
  },
  {
   "cell_type": "code",
   "execution_count": null,
   "id": "6eb99567",
   "metadata": {},
   "outputs": [],
   "source": []
  }
 ],
 "metadata": {
  "kernelspec": {
   "display_name": "Python 3 (ipykernel)",
   "language": "python",
   "name": "python3"
  },
  "language_info": {
   "codemirror_mode": {
    "name": "ipython",
    "version": 3
   },
   "file_extension": ".py",
   "mimetype": "text/x-python",
   "name": "python",
   "nbconvert_exporter": "python",
   "pygments_lexer": "ipython3",
   "version": "3.9.12"
  }
 },
 "nbformat": 4,
 "nbformat_minor": 5
}
