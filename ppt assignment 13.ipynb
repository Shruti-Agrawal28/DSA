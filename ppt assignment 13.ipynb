{
 "cells": [
  {
   "cell_type": "markdown",
   "id": "6089d014",
   "metadata": {},
   "source": [
    "### QUESTION 1."
   ]
  },
  {
   "cell_type": "code",
   "execution_count": 25,
   "id": "354caea5",
   "metadata": {},
   "outputs": [
    {
     "name": "stdout",
     "output_type": "stream",
     "text": [
      "5 7 4 8 "
     ]
    }
   ],
   "source": [
    "class Node:\n",
    "    def __init__(self, value):\n",
    "        self.value = value\n",
    "        self.next = None\n",
    "\n",
    "def create_new_linked_list(list1, list2):\n",
    "    new_list_head = None\n",
    "    current_node = None\n",
    "\n",
    "    ptr1 = list1\n",
    "    ptr2 = list2\n",
    "\n",
    "    while ptr1 is not None and ptr2 is not None:\n",
    "        if ptr1.value >= ptr2.value:\n",
    "            new_node = Node(ptr1.value)\n",
    "            ptr1 = ptr1.next\n",
    "            ptr2 = ptr2.next\n",
    "            \n",
    "        else:\n",
    "            new_node = Node(ptr2.value)\n",
    "            ptr2 = ptr2.next\n",
    "            ptr1 = ptr1.next\n",
    "\n",
    "        if new_list_head is None:\n",
    "            new_list_head = new_node\n",
    "        else:\n",
    "            current_node.next = new_node\n",
    "\n",
    "        current_node = new_node\n",
    "\n",
    "    \n",
    "\n",
    "    return new_list_head\n",
    "\n",
    "list1 = Node(5)\n",
    "list1.next = Node(2)\n",
    "list1.next.next = Node(3)\n",
    "list1.next.next.next = Node(8)\n",
    "\n",
    "list2 = Node(1)\n",
    "list2.next = Node(7)\n",
    "list2.next.next = Node(4)\n",
    "list2.next.next.next = Node(5)\n",
    "\n",
    "new_list_head = create_new_linked_list(list1, list2)\n",
    "\n",
    "current_node = new_list_head\n",
    "while current_node is not None:\n",
    "    print(current_node.value, end=\" \")\n",
    "    current_node = current_node.next\n"
   ]
  },
  {
   "cell_type": "markdown",
   "id": "3f034ac7",
   "metadata": {},
   "source": [
    "### QUESTION 2."
   ]
  },
  {
   "cell_type": "code",
   "execution_count": 40,
   "id": "fd81b0ef",
   "metadata": {},
   "outputs": [
    {
     "name": "stdout",
     "output_type": "stream",
     "text": [
      "11 21 43 60 "
     ]
    }
   ],
   "source": [
    "class Node:\n",
    "    def __init__(self, value):\n",
    "        self.value = value\n",
    "        self.next = None\n",
    "\n",
    "def removeDuplicates(head):\n",
    "    if head is None or head.next is None:\n",
    "        return head\n",
    "\n",
    "    current = head\n",
    "    while current.next is not None:\n",
    "        if current.value == current.next.value:\n",
    "            current.next = current.next.next\n",
    "        else:\n",
    "            current = current.next\n",
    "\n",
    "    return head\n",
    "\n",
    "head = Node(11)\n",
    "head.next = Node(11)\n",
    "head.next.next = Node(11)\n",
    "head.next.next.next = Node(21)\n",
    "head.next.next.next.next = Node(43)\n",
    "head.next.next.next.next.next = Node(43)\n",
    "head.next.next.next.next.next.next = Node(60)\n",
    "\n",
    "new_head = removeDuplicates(head)\n",
    "\n",
    "current = new_head\n",
    "while current is not None:\n",
    "    print(current.value, end=\" \")\n",
    "    current = current.next\n"
   ]
  },
  {
   "cell_type": "markdown",
   "id": "bc0c4028",
   "metadata": {},
   "source": [
    "### QUESTION 3."
   ]
  },
  {
   "cell_type": "code",
   "execution_count": 53,
   "id": "8e8693de",
   "metadata": {},
   "outputs": [
    {
     "name": "stdout",
     "output_type": "stream",
     "text": [
      "3 2 1 6 5 4 "
     ]
    }
   ],
   "source": [
    "class Node:\n",
    "    def __init__(self, value):\n",
    "        self.value = value\n",
    "        self.next = None\n",
    "\n",
    "def reverseKNodes(head, k):\n",
    "    if head is None or head.next is None or k == 1:\n",
    "        return head\n",
    "\n",
    "    prev = None\n",
    "    current = head\n",
    "    next = None\n",
    "    count = 0\n",
    "\n",
    "    while current is not None and count < k:\n",
    "        next = current.next\n",
    "        current.next = prev\n",
    "        prev = current\n",
    "        current = next\n",
    "        count += 1\n",
    "\n",
    "    if next is not None:\n",
    "        head.next = reverseKNodes(next, k)\n",
    "\n",
    "    return prev\n",
    "\n",
    "head = Node(1)\n",
    "head.next = Node(2)\n",
    "head.next.next = Node(3)\n",
    "head.next.next.next = Node(4)\n",
    "head.next.next.next.next = Node(5)\n",
    "head.next.next.next.next.next = Node(6)\n",
    "\n",
    "k = 3\n",
    "\n",
    "new_head = reverseKNodes(head, k)\n",
    "\n",
    "current = new_head\n",
    "while current is not None:\n",
    "    print(current.value, end=\" \")\n",
    "    current = current.next\n"
   ]
  },
  {
   "cell_type": "markdown",
   "id": "0601fe16",
   "metadata": {},
   "source": [
    "### QUESTION 4."
   ]
  },
  {
   "cell_type": "code",
   "execution_count": 62,
   "id": "fe837e91",
   "metadata": {},
   "outputs": [
    {
     "name": "stdout",
     "output_type": "stream",
     "text": [
      "3 2 1 4 5 6 9 8 7 \n",
      "The time complexity of the reverseAlternateKNodes algorithm is O(N)\n"
     ]
    }
   ],
   "source": [
    "class Node:\n",
    "    def __init__(self, value):\n",
    "        self.value = value\n",
    "        self.next = None\n",
    "\n",
    "def reverseAlternateKNodes(head, k):\n",
    "    if head is None or head.next is None or k == 1:\n",
    "        return head\n",
    "\n",
    "    prev = None\n",
    "    current = head\n",
    "    next = None\n",
    "    count = 0\n",
    "\n",
    "    while current is not None and count < k:\n",
    "        next = current.next\n",
    "        current.next = prev\n",
    "        prev = current\n",
    "        current = next\n",
    "        count += 1\n",
    "\n",
    "    if head is not None:\n",
    "        head.next = current\n",
    "\n",
    "    count = 0\n",
    "    while current is not None and count < k - 1:\n",
    "        current = current.next\n",
    "        count += 1\n",
    "\n",
    "    if current is not None:\n",
    "        current.next = reverseAlternateKNodes(current.next, k)\n",
    "\n",
    "    return prev\n",
    "\n",
    "head = Node(1)\n",
    "head.next = Node(2)\n",
    "head.next.next = Node(3)\n",
    "head.next.next.next = Node(4)\n",
    "head.next.next.next.next = Node(5)\n",
    "head.next.next.next.next.next = Node(6)\n",
    "head.next.next.next.next.next.next = Node(7)\n",
    "head.next.next.next.next.next.next.next = Node(8)\n",
    "head.next.next.next.next.next.next.next.next = Node(9)\n",
    "\n",
    "\n",
    "k = 3\n",
    "\n",
    "new_head = reverseAlternateKNodes(head, k)\n",
    "\n",
    "current = new_head\n",
    "while current is not None:\n",
    "    print(current.value, end=\" \")\n",
    "    current = current.next\n",
    "print()\n",
    "print(\"The time complexity of the reverseAlternateKNodes algorithm is O(N)\")"
   ]
  },
  {
   "cell_type": "markdown",
   "id": "3bfc227d",
   "metadata": {},
   "source": [
    "### QUESTION 5."
   ]
  },
  {
   "cell_type": "code",
   "execution_count": 78,
   "id": "f4f48e7c",
   "metadata": {},
   "outputs": [
    {
     "name": "stdout",
     "output_type": "stream",
     "text": [
      "1 2 3 5 10 "
     ]
    }
   ],
   "source": [
    "class Node:\n",
    "    def __init__(self, value):\n",
    "        self.value = value\n",
    "        self.next = None\n",
    "\n",
    "def deleteLastOccurrence(head, key):\n",
    "    if head is None:\n",
    "        return head\n",
    "\n",
    "    prev = None\n",
    "    current = head\n",
    "    last_occurrence = None\n",
    "    prev_last_occurrence = None\n",
    "\n",
    "    while current is not None:\n",
    "        if current.value == key:\n",
    "            last_occurrence = current\n",
    "            prev_last_occurrence = prev\n",
    "        prev = current\n",
    "        current = current.next\n",
    "\n",
    "    if last_occurrence is None:\n",
    "        return head\n",
    "\n",
    "    if last_occurrence == head:\n",
    "        head = head.next\n",
    "    else:\n",
    "        prev_last_occurrence.next = last_occurrence.next\n",
    "\n",
    "    last_occurrence.next = None\n",
    "\n",
    "    return head\n",
    "\n",
    "head = Node(1)\n",
    "head.next = Node(2)\n",
    "head.next.next = Node(3)\n",
    "head.next.next.next = Node(5)\n",
    "head.next.next.next.next = Node(2)\n",
    "head.next.next.next.next.next = Node(10)\n",
    "\n",
    "key = 2\n",
    "\n",
    "new_head = deleteLastOccurrence(head, key)\n",
    "\n",
    "current = new_head\n",
    "while current is not None:\n",
    "    print(current.value, end=\" \")\n",
    "    current = current.next\n"
   ]
  },
  {
   "cell_type": "markdown",
   "id": "05bd1e5b",
   "metadata": {},
   "source": [
    "### QUESTION 6."
   ]
  },
  {
   "cell_type": "code",
   "execution_count": 91,
   "id": "12a62ab3",
   "metadata": {},
   "outputs": [
    {
     "name": "stdout",
     "output_type": "stream",
     "text": [
      "2 3 5 10 15 20 "
     ]
    }
   ],
   "source": [
    "class Node:\n",
    "    def __init__(self, value):\n",
    "        self.value = value\n",
    "        self.next = None\n",
    "\n",
    "def mergeSortedLists(a, b):\n",
    "    if a is None:\n",
    "        return b\n",
    "    if b is None:\n",
    "        return a\n",
    "\n",
    "    dummy = Node(0)\n",
    "    tail = dummy\n",
    "\n",
    "    while a is not None and b is not None:\n",
    "        if a.value <= b.value:\n",
    "            tail.next = a\n",
    "            a = a.next\n",
    "        else:\n",
    "            tail.next = b\n",
    "            b = b.next\n",
    "        tail = tail.next\n",
    "\n",
    "    if a is not None:\n",
    "        tail.next = a\n",
    "    else:\n",
    "        tail.next = b\n",
    "\n",
    "    return dummy.next\n",
    "\n",
    "a = Node(5)\n",
    "a.next = Node(10)\n",
    "a.next.next = Node(15)\n",
    "\n",
    "b = Node(2)\n",
    "b.next = Node(3)\n",
    "b.next.next = Node(20)\n",
    "\n",
    "merged_head = mergeSortedLists(a, b)\n",
    "\n",
    "current = merged_head\n",
    "while current is not None:\n",
    "    print(current.value, end=\" \")\n",
    "    current = current.next\n"
   ]
  },
  {
   "cell_type": "markdown",
   "id": "64935888",
   "metadata": {},
   "source": [
    "### QUESTION 7."
   ]
  },
  {
   "cell_type": "code",
   "execution_count": 93,
   "id": "6cb80a71",
   "metadata": {},
   "outputs": [
    {
     "name": "stdout",
     "output_type": "stream",
     "text": [
      "4 3 2 1 "
     ]
    }
   ],
   "source": [
    "class Node:\n",
    "    def __init__(self, value):\n",
    "        self.value = value\n",
    "        self.prev = None\n",
    "        self.next = None\n",
    "\n",
    "def reverseDoublyLinkedList(head):\n",
    "    if head is None or head.next is None:\n",
    "        return head\n",
    "\n",
    "    current = head\n",
    "    while current is not None:\n",
    "        current.prev, current.next = current.next, current.prev\n",
    "        if current.prev is None:\n",
    "            break\n",
    "        current = current.prev\n",
    "\n",
    "    head = current\n",
    "\n",
    "    return head\n",
    "\n",
    "head = Node(1)\n",
    "head.next = Node(2)\n",
    "head.next.prev = head\n",
    "head.next.next = Node(3)\n",
    "head.next.next.prev = head.next\n",
    "head.next.next.next = Node(4)\n",
    "head.next.next.next.prev = head.next.next\n",
    "\n",
    "reversed_head = reverseDoublyLinkedList(head)\n",
    "\n",
    "current = reversed_head\n",
    "while current is not None:\n",
    "    print(current.value, end=\" \")\n",
    "    current = current.next\n"
   ]
  }
 ],
 "metadata": {
  "kernelspec": {
   "display_name": "Python 3 (ipykernel)",
   "language": "python",
   "name": "python3"
  },
  "language_info": {
   "codemirror_mode": {
    "name": "ipython",
    "version": 3
   },
   "file_extension": ".py",
   "mimetype": "text/x-python",
   "name": "python",
   "nbconvert_exporter": "python",
   "pygments_lexer": "ipython3",
   "version": "3.9.12"
  }
 },
 "nbformat": 4,
 "nbformat_minor": 5
}
