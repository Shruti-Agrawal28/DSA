{
 "cells": [
  {
   "cell_type": "markdown",
   "id": "fbb175a8",
   "metadata": {},
   "source": [
    "### QUESTION 1."
   ]
  },
  {
   "cell_type": "code",
   "execution_count": 1,
   "id": "6841bde3",
   "metadata": {},
   "outputs": [],
   "source": [
    "def find_next_greater_elements(arr):\n",
    "    stack = []\n",
    "    result = [-1] * len(arr)\n",
    "    \n",
    "    for i in range(len(arr)-1, -1, -1):\n",
    "        while stack and stack[-1] <= arr[i]:\n",
    "            stack.pop()\n",
    "        \n",
    "        if stack:\n",
    "            result[i] = stack[-1]\n",
    "        \n",
    "        stack.append(arr[i])\n",
    "    \n",
    "    return result\n"
   ]
  },
  {
   "cell_type": "code",
   "execution_count": 2,
   "id": "471f71cb",
   "metadata": {},
   "outputs": [
    {
     "name": "stdout",
     "output_type": "stream",
     "text": [
      "[6, 8, 8, 8, 9, 9, -1]\n"
     ]
    }
   ],
   "source": [
    "arr = [4, 6, 3, 2, 8, 1, 9]\n",
    "result = find_next_greater_elements(arr)\n",
    "print(result)\n"
   ]
  },
  {
   "cell_type": "markdown",
   "id": "ed4353b3",
   "metadata": {},
   "source": [
    "### QUESTION 2."
   ]
  },
  {
   "cell_type": "code",
   "execution_count": 32,
   "id": "499633a5",
   "metadata": {},
   "outputs": [],
   "source": [
    "def find_prev_smaller_elements(arr):\n",
    "    stack = []\n",
    "    result = [-1] * len(arr)\n",
    "    \n",
    "    for i in range(0, len(arr)):\n",
    "        while stack and stack[0] >= arr[i]:\n",
    "            stack.pop()\n",
    "        \n",
    "        if stack:\n",
    "            result[i] = stack[-1]\n",
    "        \n",
    "        stack.append(arr[i])\n",
    "    \n",
    "    return result\n"
   ]
  },
  {
   "cell_type": "code",
   "execution_count": 33,
   "id": "e5d03b63",
   "metadata": {},
   "outputs": [
    {
     "data": {
      "text/plain": [
       "[-1, 1, -1, 0, 3, 4]"
      ]
     },
     "execution_count": 33,
     "metadata": {},
     "output_type": "execute_result"
    }
   ],
   "source": [
    "a = [1, 5, 0, 3, 4, 5]\n",
    "find_prev_smaller_elements(a)"
   ]
  },
  {
   "cell_type": "markdown",
   "id": "4c349456",
   "metadata": {},
   "source": [
    "### QUESTION 3."
   ]
  },
  {
   "cell_type": "code",
   "execution_count": 47,
   "id": "5fb6ab22",
   "metadata": {},
   "outputs": [],
   "source": [
    "class Stack:\n",
    "    def __init__(self):\n",
    "        self.q1 = []\n",
    "        self.q2 = []\n",
    "\n",
    "    def push(self, x):\n",
    "        self.q2.append(x)  \n",
    "        while self.q1:\n",
    "            self.q2.append(self.q1.pop(0))\n",
    "\n",
    "        self.q1, self.q2 = self.q2, self.q1\n",
    "\n",
    "    def pop(self):\n",
    "        if self.q1:\n",
    "            return self.q1.pop(0)\n",
    "        return None \n",
    "\n",
    "    def top(self):\n",
    "        if self.q1:\n",
    "            return self.q1[0]\n",
    "        return None  \n",
    "    \n",
    "    def is_empty(self):\n",
    "        return len(self.q1) == 0\n",
    "    \n",
    "    def print_stack(stack):\n",
    "        if stack.is_empty():\n",
    "            print(\"Stack is empty\")\n",
    "        else:\n",
    "            print(\"Stack elements:\")\n",
    "            print(stack.q1)\n"
   ]
  },
  {
   "cell_type": "code",
   "execution_count": 48,
   "id": "2673e591",
   "metadata": {},
   "outputs": [
    {
     "name": "stdout",
     "output_type": "stream",
     "text": [
      "Stack elements:\n",
      "[5, 2]\n"
     ]
    }
   ],
   "source": [
    "stack = Stack()\n",
    "stack.push(2)\n",
    "stack.push(3)\n",
    "stack.pop() \n",
    "stack.push(4)\n",
    "stack.pop()\n",
    "stack.push(5)\n",
    "stack.print_stack()"
   ]
  },
  {
   "cell_type": "markdown",
   "id": "0e03eb4a",
   "metadata": {},
   "source": [
    "### QUESTION 4."
   ]
  },
  {
   "cell_type": "code",
   "execution_count": 1,
   "id": "07ba45fc",
   "metadata": {},
   "outputs": [],
   "source": [
    "def reverse_stack(St):\n",
    "    if not St or len(St) == 1:\n",
    "        return\n",
    "    else:\n",
    "        x = St.pop()\n",
    "        reverse_stack(St)\n",
    "        insert_at_bottom(St, x)\n",
    "\n",
    "\n",
    "def insert_at_bottom(St, x):\n",
    "    if not St:\n",
    "        St.append(x)\n",
    "    else:\n",
    "        temp = St.pop()\n",
    "        insert_at_bottom(St, x)\n",
    "        St.append(temp)\n"
   ]
  },
  {
   "cell_type": "code",
   "execution_count": 2,
   "id": "2e384d00",
   "metadata": {},
   "outputs": [
    {
     "name": "stdout",
     "output_type": "stream",
     "text": [
      "Reversed Stack: [5, 4, 3, 2, 1]\n"
     ]
    }
   ],
   "source": [
    "stack = [1, 2, 3, 4, 5]\n",
    "reverse_stack(stack)\n",
    "print(\"Reversed Stack:\", stack)"
   ]
  },
  {
   "cell_type": "markdown",
   "id": "2b87e6a0",
   "metadata": {},
   "source": [
    "### QUESTION 5."
   ]
  },
  {
   "cell_type": "code",
   "execution_count": 17,
   "id": "d8819c06",
   "metadata": {},
   "outputs": [],
   "source": [
    "def reverse_string(S):\n",
    "    stack = []\n",
    "    reversed_str = \"\"\n",
    "\n",
    "    for char in S:\n",
    "        stack.append(char)\n",
    "\n",
    "    while stack:\n",
    "        reversed_str += stack.pop()\n",
    "\n",
    "    return reversed_str\n"
   ]
  },
  {
   "cell_type": "code",
   "execution_count": 19,
   "id": "e0dec7cf",
   "metadata": {},
   "outputs": [
    {
     "data": {
      "text/plain": [
       "'skeegrofskeeg'"
      ]
     },
     "execution_count": 19,
     "metadata": {},
     "output_type": "execute_result"
    }
   ],
   "source": [
    "stack = \"geeksforgeeks\"\n",
    "reverse_string(stack)"
   ]
  },
  {
   "cell_type": "markdown",
   "id": "1a6666be",
   "metadata": {},
   "source": [
    "### QUESTION 6."
   ]
  },
  {
   "cell_type": "code",
   "execution_count": 39,
   "id": "4ed572ad",
   "metadata": {},
   "outputs": [],
   "source": [
    "def evaluate_postfix(S):\n",
    "    stack = []\n",
    "\n",
    "    for char in S:\n",
    "        if char.isdigit():\n",
    "            stack.append(int(char))\n",
    "        else:\n",
    "            operand2 = stack.pop()\n",
    "            operand1 = stack.pop()\n",
    "\n",
    "            if char == '+':\n",
    "                result = operand1 + operand2\n",
    "            elif char == '-':\n",
    "                result = operand1 - operand2\n",
    "            elif char == '*':\n",
    "                result = operand1 * operand2\n",
    "            elif char == '/':\n",
    "                result = operand1 / operand2\n",
    "\n",
    "            stack.append(result)\n",
    "\n",
    "    return stack.pop()"
   ]
  },
  {
   "cell_type": "code",
   "execution_count": 40,
   "id": "eae563f9",
   "metadata": {},
   "outputs": [
    {
     "name": "stdout",
     "output_type": "stream",
     "text": [
      "-3\n"
     ]
    }
   ],
   "source": [
    "S = \"123+*8-\"\n",
    "result = evaluate_postfix(S)\n",
    "print(result)\n"
   ]
  },
  {
   "cell_type": "markdown",
   "id": "6c855fb0",
   "metadata": {},
   "source": [
    "### QUESTION 7."
   ]
  },
  {
   "cell_type": "code",
   "execution_count": 42,
   "id": "717556a2",
   "metadata": {},
   "outputs": [],
   "source": [
    "class MinStack:\n",
    "    def __init__(self):\n",
    "        self.stack = []          \n",
    "        self.min_stack = []      \n",
    "\n",
    "    def push(self, val):\n",
    "        self.stack.append(val)\n",
    "        if not self.min_stack or val <= self.min_stack[-1]:\n",
    "            self.min_stack.append(val)\n",
    "\n",
    "    def pop(self):\n",
    "        if self.stack[-1] == self.min_stack[-1]:\n",
    "            self.min_stack.pop()\n",
    "        self.stack.pop()\n",
    "\n",
    "    def top(self):\n",
    "        return self.stack[-1]\n",
    "\n",
    "    def getMin(self):\n",
    "        return self.min_stack[-1]\n"
   ]
  },
  {
   "cell_type": "code",
   "execution_count": 43,
   "id": "a710fd51",
   "metadata": {},
   "outputs": [
    {
     "name": "stdout",
     "output_type": "stream",
     "text": [
      "Top element: 1\n",
      "Minimum element: 1\n",
      "Top element after pop: 7\n",
      "Minimum element after pop: 2\n"
     ]
    }
   ],
   "source": [
    "stack = MinStack()\n",
    "stack.push(5)\n",
    "stack.push(2)\n",
    "stack.push(7)\n",
    "stack.push(1)\n",
    "\n",
    "print(\"Top element:\", stack.top())        \n",
    "print(\"Minimum element:\", stack.getMin()) \n",
    "\n",
    "stack.pop()\n",
    "print(\"Top element after pop:\", stack.top())        \n",
    "print(\"Minimum element after pop:\", stack.getMin()) \n"
   ]
  },
  {
   "cell_type": "markdown",
   "id": "96a1c1be",
   "metadata": {},
   "source": [
    "### QUESTION 8."
   ]
  },
  {
   "cell_type": "code",
   "execution_count": 54,
   "id": "01a72f31",
   "metadata": {},
   "outputs": [],
   "source": [
    "def trap(height):\n",
    "    stack = []\n",
    "    water = 0\n",
    "    n = len(height)\n",
    "    trapped_water = [0] * n  \n",
    "\n",
    "    for i in range(n):\n",
    "        while stack and height[i] > height[stack[-1]]:\n",
    "            top = stack.pop()\n",
    "\n",
    "            if not stack:\n",
    "                break\n",
    "\n",
    "            distance = i - stack[-1] - 1\n",
    "            bounded_height = min(height[i], height[stack[-1]]) - height[top]\n",
    "            water += distance * bounded_height\n",
    "            trapped_water[top] = distance * bounded_height\n",
    "\n",
    "        stack.append(i)\n",
    "\n",
    "    return water, trapped_water"
   ]
  },
  {
   "cell_type": "code",
   "execution_count": 55,
   "id": "6bbfda29",
   "metadata": {},
   "outputs": [
    {
     "name": "stdout",
     "output_type": "stream",
     "text": [
      "Total trapped water: 6\n"
     ]
    }
   ],
   "source": [
    "height = [0, 1, 0, 2, 1, 0, 1, 3, 2, 1, 2, 1]\n",
    "total_water, trapped_water = trap(height)\n",
    "\n",
    "print(\"Total trapped water:\", total_water)"
   ]
  },
  {
   "cell_type": "code",
   "execution_count": null,
   "id": "755fe0ce",
   "metadata": {},
   "outputs": [],
   "source": []
  }
 ],
 "metadata": {
  "kernelspec": {
   "display_name": "Python 3 (ipykernel)",
   "language": "python",
   "name": "python3"
  },
  "language_info": {
   "codemirror_mode": {
    "name": "ipython",
    "version": 3
   },
   "file_extension": ".py",
   "mimetype": "text/x-python",
   "name": "python",
   "nbconvert_exporter": "python",
   "pygments_lexer": "ipython3",
   "version": "3.9.12"
  }
 },
 "nbformat": 4,
 "nbformat_minor": 5
}
