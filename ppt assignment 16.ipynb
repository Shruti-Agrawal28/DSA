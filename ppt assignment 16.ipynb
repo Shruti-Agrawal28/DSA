{
 "cells": [
  {
   "cell_type": "markdown",
   "id": "b049421a",
   "metadata": {},
   "source": [
    "### QUESTION 1."
   ]
  },
  {
   "cell_type": "code",
   "execution_count": 41,
   "id": "373cecff",
   "metadata": {
    "scrolled": false
   },
   "outputs": [],
   "source": [
    "from collections import Counter\n",
    "\n",
    "def find_nearest_greater_frequency(arr):\n",
    "    stack = []\n",
    "    result = [-1] * len(arr)\n",
    "    freq = Counter(arr)\n",
    "\n",
    "    for i in range(len(arr)-1, -1, -1):\n",
    "        while stack and freq[stack[-1]] <= freq[arr[i]]:\n",
    "            stack.pop()\n",
    "        \n",
    "        if stack:\n",
    "            result[i] = stack[-1]\n",
    "        \n",
    "        stack.append(arr[i])\n",
    "    \n",
    "    return result\n"
   ]
  },
  {
   "cell_type": "code",
   "execution_count": 42,
   "id": "f2892853",
   "metadata": {},
   "outputs": [
    {
     "data": {
      "text/plain": [
       "[-1, -1, 1, 2, 2, 1, -1]"
      ]
     },
     "execution_count": 42,
     "metadata": {},
     "output_type": "execute_result"
    }
   ],
   "source": [
    "stack = [1, 1, 2, 3, 4, 2, 1]\n",
    "find_nearest_greater_frequency(stack)"
   ]
  },
  {
   "cell_type": "markdown",
   "id": "9408fee5",
   "metadata": {},
   "source": [
    "### QUESTION 2."
   ]
  },
  {
   "cell_type": "code",
   "execution_count": 58,
   "id": "5c11cb20",
   "metadata": {},
   "outputs": [],
   "source": [
    "def sort_stack(stack):\n",
    "    temp_stack = []\n",
    "    \n",
    "    while stack:\n",
    "        temp = stack.pop()\n",
    "        \n",
    "        while temp_stack and temp_stack[-1] > temp:\n",
    "            stack.append(temp_stack.pop())\n",
    "        \n",
    "        temp_stack.append(temp)\n",
    "    \n",
    "    return temp_stack\n"
   ]
  },
  {
   "cell_type": "code",
   "execution_count": 59,
   "id": "33c4a615",
   "metadata": {},
   "outputs": [
    {
     "data": {
      "text/plain": [
       "[3, 23, 31, 34, 92, 98]"
      ]
     },
     "execution_count": 59,
     "metadata": {},
     "output_type": "execute_result"
    }
   ],
   "source": [
    "st = [34, 3, 31, 98, 92, 23]\n",
    "sort_stack(st)"
   ]
  },
  {
   "cell_type": "markdown",
   "id": "e950870f",
   "metadata": {},
   "source": [
    "### QUESTION 3."
   ]
  },
  {
   "cell_type": "code",
   "execution_count": 68,
   "id": "d9bbdd9f",
   "metadata": {},
   "outputs": [],
   "source": [
    "def delete_middle(stack):\n",
    "    size = len(stack)\n",
    "    middle = size // 2\n",
    "\n",
    "    if size % 2 == 0:\n",
    "        middle -= 1\n",
    "\n",
    "    temp_stack = []\n",
    "\n",
    "    for i in range(middle):\n",
    "        temp_stack.append(stack.pop())\n",
    "\n",
    "    stack.pop()\n",
    "\n",
    "    while temp_stack:\n",
    "        stack.append(temp_stack.pop())"
   ]
  },
  {
   "cell_type": "code",
   "execution_count": 69,
   "id": "5e538fdd",
   "metadata": {},
   "outputs": [
    {
     "name": "stdout",
     "output_type": "stream",
     "text": [
      "[1, 2, 4, 5]\n"
     ]
    }
   ],
   "source": [
    "stack = [1, 2, 3, 4, 5]\n",
    "delete_middle(stack)\n",
    "print(stack)"
   ]
  },
  {
   "cell_type": "markdown",
   "id": "8cc289fa",
   "metadata": {},
   "source": [
    "### QUESTION 4."
   ]
  },
  {
   "cell_type": "code",
   "execution_count": 170,
   "id": "f2ee4906",
   "metadata": {},
   "outputs": [
    {
     "name": "stdout",
     "output_type": "stream",
     "text": [
      "Yes\n"
     ]
    }
   ],
   "source": [
    "def check_queue_order(queue):\n",
    "    stack = []\n",
    "    temp_stack = []\n",
    "    expected_number = 1\n",
    "\n",
    "    while queue:\n",
    "        if queue[0] == expected_number:\n",
    "            queue.pop(0)\n",
    "            expected_number += 1\n",
    "        elif stack and stack[-1] == expected_number:\n",
    "            stack.pop()\n",
    "            expected_number += 1\n",
    "        else:\n",
    "            while queue and queue[0] != expected_number:\n",
    "                temp_stack.append(queue.pop(0))\n",
    "            if queue:\n",
    "                queue.pop(0)\n",
    "                expected_number += 1\n",
    "            else:\n",
    "                while temp_stack:\n",
    "                    queue.insert(0, temp_stack.pop())\n",
    "                    stack.append(queue.pop(0))\n",
    "\n",
    "    while stack:\n",
    "        if stack.pop() != expected_number:\n",
    "            return \"No\"\n",
    "        expected_number += 1\n",
    "\n",
    "    return \"Yes\"\n",
    "\n",
    "\n",
    "queue = [5, 1, 2, 3, 4]\n",
    "result = check_queue_order(queue)\n",
    "print(result)\n"
   ]
  },
  {
   "cell_type": "markdown",
   "id": "652b452e",
   "metadata": {},
   "source": [
    "### QUESTION 5."
   ]
  },
  {
   "cell_type": "code",
   "execution_count": 108,
   "id": "e63b6125",
   "metadata": {},
   "outputs": [],
   "source": [
    "def rev_num(arr):\n",
    "    stack = []\n",
    "    reversed_num = \"\"\n",
    "    \n",
    "    for i in range(len(str(arr))):\n",
    "        stack.append(str(arr)[i])\n",
    "        \n",
    "    while stack:\n",
    "        reversed_num += stack.pop()\n",
    "        \n",
    "    return int(reversed_num)"
   ]
  },
  {
   "cell_type": "code",
   "execution_count": 109,
   "id": "5c1b7a7e",
   "metadata": {},
   "outputs": [
    {
     "data": {
      "text/plain": [
       "365"
      ]
     },
     "execution_count": 109,
     "metadata": {},
     "output_type": "execute_result"
    }
   ],
   "source": [
    "rev_num(563)"
   ]
  },
  {
   "cell_type": "markdown",
   "id": "fdc3c9e7",
   "metadata": {},
   "source": [
    "### QUESTION 6."
   ]
  },
  {
   "cell_type": "code",
   "execution_count": 197,
   "id": "061defba",
   "metadata": {},
   "outputs": [],
   "source": [
    "def reverse_k_elements(queue, k):\n",
    "    if k <= 0 or k > len(queue):\n",
    "        return queue\n",
    "\n",
    "    stack1 = []\n",
    "    stack2 = []\n",
    "    n = len(queue) - k\n",
    "\n",
    "    for _ in range(n):\n",
    "        stack1.append(queue.pop())\n",
    "\n",
    "    for _ in range(k):\n",
    "        stack2.append(queue.pop())\n",
    "\n",
    "    while stack1:\n",
    "        stack2.append(stack1.pop())\n",
    "\n",
    "    return stack2\n"
   ]
  },
  {
   "cell_type": "code",
   "execution_count": 199,
   "id": "4141d0a4",
   "metadata": {},
   "outputs": [
    {
     "data": {
      "text/plain": [
       "[5, 4, 3, 2, 1, 6, 7, 8, 9]"
      ]
     },
     "execution_count": 199,
     "metadata": {},
     "output_type": "execute_result"
    }
   ],
   "source": [
    "queue = [1, 2, 3, 4, 5, 6, 7, 8, 9]\n",
    "k = 5\n",
    "\n",
    "reverse_k_elements(queue, k)"
   ]
  },
  {
   "cell_type": "markdown",
   "id": "21326f27",
   "metadata": {},
   "source": [
    "### QUESTION 7."
   ]
  },
  {
   "cell_type": "code",
   "execution_count": 145,
   "id": "bf9cf21d",
   "metadata": {},
   "outputs": [],
   "source": [
    "def count_words_after_destruction(sequence):\n",
    "    words = sequence.split()\n",
    "    stack = []\n",
    "\n",
    "    for word in words:\n",
    "        if stack and stack[-1] == word:\n",
    "            stack.pop()\n",
    "        else:\n",
    "            stack.append(word)\n",
    "\n",
    "    return len(stack)"
   ]
  },
  {
   "cell_type": "code",
   "execution_count": 146,
   "id": "6c78e043",
   "metadata": {},
   "outputs": [
    {
     "data": {
      "text/plain": [
       "3"
      ]
     },
     "execution_count": 146,
     "metadata": {},
     "output_type": "execute_result"
    }
   ],
   "source": [
    "sequence = \"ab aa aa bcd ab\"\n",
    "count_words_after_destruction(sequence)"
   ]
  },
  {
   "cell_type": "markdown",
   "id": "efd00241",
   "metadata": {},
   "source": [
    "### QUESTION 8."
   ]
  },
  {
   "cell_type": "code",
   "execution_count": 168,
   "id": "8711b29f",
   "metadata": {},
   "outputs": [],
   "source": [
    "def abs_diff(arr):\n",
    "    stack1 = []\n",
    "    stack2 = []\n",
    "    \n",
    "    result1 = [0] * len(arr)\n",
    "    result2 = [0] * len(arr)\n",
    "    \n",
    "    for i in range(len(arr)):\n",
    "        while stack1 and stack1[-1] > arr[i]:\n",
    "            stack1.pop()\n",
    "        if stack1:\n",
    "            result1[i] = stack1[-1]\n",
    "        \n",
    "        stack1.append(arr[i])\n",
    "    for i in range(len(arr)-1, -1,-1):\n",
    "        while stack2 and stack2[-1] > arr[i]:\n",
    "            stack2.pop()\n",
    "        if stack2:\n",
    "            result2[i] = stack2[-1]\n",
    "        \n",
    "        stack2.append(arr[i])\n",
    "        \n",
    "    max_difference = 0\n",
    "        \n",
    "    for i in range(len(result1)):\n",
    "        difference = abs(result1[i] - result2[i])\n",
    "        max_difference = max(max_difference, difference)\n",
    "        \n",
    "        \n",
    "    return max_difference\n",
    "    \n",
    "    "
   ]
  },
  {
   "cell_type": "code",
   "execution_count": 169,
   "id": "d8f91b3a",
   "metadata": {},
   "outputs": [
    {
     "data": {
      "text/plain": [
       "4"
      ]
     },
     "execution_count": 169,
     "metadata": {},
     "output_type": "execute_result"
    }
   ],
   "source": [
    "arr = [2, 4, 8, 7, 7, 9, 3]\n",
    "abs_diff(arr)"
   ]
  }
 ],
 "metadata": {
  "kernelspec": {
   "display_name": "Python 3 (ipykernel)",
   "language": "python",
   "name": "python3"
  },
  "language_info": {
   "codemirror_mode": {
    "name": "ipython",
    "version": 3
   },
   "file_extension": ".py",
   "mimetype": "text/x-python",
   "name": "python",
   "nbconvert_exporter": "python",
   "pygments_lexer": "ipython3",
   "version": "3.9.12"
  }
 },
 "nbformat": 4,
 "nbformat_minor": 5
}
