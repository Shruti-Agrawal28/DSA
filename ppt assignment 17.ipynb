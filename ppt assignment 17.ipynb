{
 "cells": [
  {
   "cell_type": "markdown",
   "id": "4aa3876c",
   "metadata": {},
   "source": [
    "### QUESTION 1."
   ]
  },
  {
   "cell_type": "code",
   "execution_count": 26,
   "id": "9d4ba87f",
   "metadata": {},
   "outputs": [],
   "source": [
    "def first_unique_char(s):\n",
    "    for i, char in enumerate(s):\n",
    "        if s.count(char) == 1:\n",
    "            return char\n",
    "    return -1\n"
   ]
  },
  {
   "cell_type": "code",
   "execution_count": 29,
   "id": "95e8f68e",
   "metadata": {},
   "outputs": [
    {
     "data": {
      "text/plain": [
       "'o'"
      ]
     },
     "execution_count": 29,
     "metadata": {},
     "output_type": "execute_result"
    }
   ],
   "source": [
    "s = \"local\"\n",
    "first_unique_char(s)"
   ]
  },
  {
   "cell_type": "markdown",
   "id": "ec520d11",
   "metadata": {},
   "source": [
    "### QUESTION 2."
   ]
  },
  {
   "cell_type": "code",
   "execution_count": 18,
   "id": "fe09fd92",
   "metadata": {},
   "outputs": [],
   "source": [
    "def max_subarray_sum_circular(nums):\n",
    "    total_sum = 0\n",
    "    max_sum_linear = float('-inf')\n",
    "    min_sum_linear = float('inf')\n",
    "    curr_max = 0\n",
    "    curr_min = 0\n",
    "\n",
    "    for num in nums:\n",
    "        total_sum += num\n",
    "        curr_max = max(curr_max + num, num)\n",
    "        max_sum_linear = max(max_sum_linear, curr_max)\n",
    "        curr_min = min(curr_min + num, num)\n",
    "        min_sum_linear = min(min_sum_linear, curr_min)\n",
    "\n",
    "    return max(max_sum_linear, total_sum - min_sum_linear)\n"
   ]
  },
  {
   "cell_type": "code",
   "execution_count": 19,
   "id": "4b61f7c5",
   "metadata": {},
   "outputs": [
    {
     "name": "stdout",
     "output_type": "stream",
     "text": [
      "5\n"
     ]
    }
   ],
   "source": [
    "nums = [1, -2, 3, -2,3]\n",
    "result = max_subarray_sum_circular(nums)\n",
    "print(result)"
   ]
  },
  {
   "cell_type": "markdown",
   "id": "d3d4fa66",
   "metadata": {},
   "source": [
    "### QUESTION 3."
   ]
  },
  {
   "cell_type": "code",
   "execution_count": 7,
   "id": "6953f8c6",
   "metadata": {},
   "outputs": [],
   "source": [
    "from collections import deque\n",
    "\n",
    "def count_students_unable_to_eat(students, sandwiches):\n",
    "    unableToEat = 0\n",
    "    queue = deque(students)\n",
    "    stack = deque(sandwiches)\n",
    "\n",
    "    while queue:\n",
    "        if queue[0] == stack[0]:\n",
    "            queue.popleft()\n",
    "            stack.popleft()\n",
    "            unableToEat = 0\n",
    "        else:\n",
    "            queue.append(queue.popleft())\n",
    "            unableToEat += 1\n",
    "\n",
    "        if unableToEat == len(queue):\n",
    "            return unableToEat\n",
    "\n",
    "    return unableToEat\n"
   ]
  },
  {
   "cell_type": "code",
   "execution_count": 10,
   "id": "48862d82",
   "metadata": {},
   "outputs": [
    {
     "data": {
      "text/plain": [
       "1"
      ]
     },
     "execution_count": 10,
     "metadata": {},
     "output_type": "execute_result"
    }
   ],
   "source": [
    "students = [0, 1, 0, 0, 1, 1]\n",
    "sandwiches = [0, 0, 0, 1, 1, 0]\n",
    "count_students_unable_to_eat(students, sandwiches)"
   ]
  },
  {
   "cell_type": "markdown",
   "id": "fb34a997",
   "metadata": {},
   "source": [
    "### QUESTION 4."
   ]
  },
  {
   "cell_type": "code",
   "execution_count": 11,
   "id": "0ed330ec",
   "metadata": {},
   "outputs": [],
   "source": [
    "class RecentCounter:\n",
    "    def __init__(self):\n",
    "        self.requests = []\n",
    "\n",
    "    def ping(self, t: int) -> int:\n",
    "        self.requests.append(t)\n",
    "        lower_bound = t - 3000\n",
    "\n",
    "        while self.requests[0] < lower_bound:\n",
    "            self.requests.pop(0)\n",
    "\n",
    "        return len(self.requests)"
   ]
  },
  {
   "cell_type": "code",
   "execution_count": 95,
   "id": "844f27c9",
   "metadata": {},
   "outputs": [
    {
     "name": "stdout",
     "output_type": "stream",
     "text": [
      "1\n",
      "2\n",
      "3\n",
      "3\n"
     ]
    }
   ],
   "source": [
    "recentCounter = RecentCounter()\n",
    "print(recentCounter.ping(1))      \n",
    "print(recentCounter.ping(100))    \n",
    "print(recentCounter.ping(3001))   \n",
    "print(recentCounter.ping(3002))   "
   ]
  },
  {
   "cell_type": "markdown",
   "id": "3177fb86",
   "metadata": {},
   "source": [
    "### QUESTION 5."
   ]
  },
  {
   "cell_type": "code",
   "execution_count": 41,
   "id": "d947ec4a",
   "metadata": {},
   "outputs": [],
   "source": [
    "def winner_of_game(n, k):\n",
    "    circle = deque(range(1, n+1))\n",
    "\n",
    "    while len(circle) > 1:\n",
    "        circle.rotate(-k)\n",
    "        circle.pop()\n",
    "\n",
    "    return circle[0]"
   ]
  },
  {
   "cell_type": "code",
   "execution_count": 42,
   "id": "7fcff69d",
   "metadata": {},
   "outputs": [
    {
     "data": {
      "text/plain": [
       "4"
      ]
     },
     "execution_count": 42,
     "metadata": {},
     "output_type": "execute_result"
    }
   ],
   "source": [
    "n = 7 \n",
    "k=3\n",
    "winner_of_game(n, k)"
   ]
  },
  {
   "cell_type": "markdown",
   "id": "07b86412",
   "metadata": {},
   "source": [
    "### QUESTION 6."
   ]
  },
  {
   "cell_type": "code",
   "execution_count": 73,
   "id": "59f30d97",
   "metadata": {},
   "outputs": [],
   "source": [
    "from collections import deque\n",
    "\n",
    "def rearrange_deck(deck):\n",
    "    deck.sort()\n",
    "    result = deque()\n",
    "    result.append(deck.pop())\n",
    "    while deck:\n",
    "        result.appendleft(result.pop())\n",
    "        result.appendleft(deck.pop())    \n",
    "    return list(result)\n"
   ]
  },
  {
   "cell_type": "code",
   "execution_count": 74,
   "id": "13335195",
   "metadata": {},
   "outputs": [
    {
     "data": {
      "text/plain": [
       "[2, 13, 3, 11, 5, 17, 7]"
      ]
     },
     "execution_count": 74,
     "metadata": {},
     "output_type": "execute_result"
    }
   ],
   "source": [
    "deck = [17,13,11,2,3,5,7]\n",
    "rearrange_deck(deck)"
   ]
  },
  {
   "cell_type": "markdown",
   "id": "ff3fdcd1",
   "metadata": {},
   "source": [
    "### QUESTION 7."
   ]
  },
  {
   "cell_type": "code",
   "execution_count": 86,
   "id": "cd708403",
   "metadata": {},
   "outputs": [],
   "source": [
    "from collections import deque\n",
    "\n",
    "class FrontMiddleBackQueue:\n",
    "    def __init__(self):\n",
    "        self.front = deque()\n",
    "        self.back = deque()\n",
    "\n",
    "    def pushFront(self, val: int) -> None:\n",
    "        self.front.appendleft(val)\n",
    "        self._balance()\n",
    "\n",
    "    def pushMiddle(self, val: int) -> None:\n",
    "        if len(self.front) > len(self.back):\n",
    "            self.back.appendleft(self.front.pop())\n",
    "        self.front.append(val)\n",
    "\n",
    "    def pushBack(self, val: int) -> None:\n",
    "        self.back.append(val)\n",
    "        self._balance()\n",
    "\n",
    "    def popFront(self) -> int:\n",
    "        if self.front:\n",
    "            return self.front.popleft()\n",
    "        elif self.back:\n",
    "            return self.back.popleft()\n",
    "        else:\n",
    "            return -1\n",
    "\n",
    "    def popMiddle(self) -> int:\n",
    "        if len(self.front) > len(self.back):\n",
    "            return self.front.pop()\n",
    "        else:\n",
    "            return self.back.popleft()\n",
    "\n",
    "    def popBack(self) -> int:\n",
    "        if self.back:\n",
    "            return self.back.pop()\n",
    "        elif self.front:\n",
    "            return self.front.pop()\n",
    "        else:\n",
    "            return -1\n",
    "\n",
    "    def _balance(self) -> None:\n",
    "        if len(self.front) > len(self.back) + 1:\n",
    "            self.back.appendleft(self.front.pop())\n",
    "        elif len(self.front) < len(self.back):\n",
    "            self.front.append(self.back.popleft())\n"
   ]
  },
  {
   "cell_type": "code",
   "execution_count": 87,
   "id": "74d2c881",
   "metadata": {},
   "outputs": [
    {
     "name": "stdout",
     "output_type": "stream",
     "text": [
      "1\n",
      "3\n",
      "2\n",
      "4\n",
      "-1\n"
     ]
    }
   ],
   "source": [
    "q = FrontMiddleBackQueue()\n",
    "q.pushFront(1)\n",
    "q.pushBack(2)\n",
    "q.pushMiddle(3)\n",
    "q.pushMiddle(4)\n",
    "print(q.popFront())   \n",
    "print(q.popMiddle())\n",
    "print(q.popMiddle())  \n",
    "print(q.popBack())    \n",
    "print(q.popFront())   "
   ]
  },
  {
   "cell_type": "markdown",
   "id": "3302a5fe",
   "metadata": {},
   "source": [
    "### QUESTION 8."
   ]
  },
  {
   "cell_type": "code",
   "execution_count": 89,
   "id": "71fcb8ed",
   "metadata": {},
   "outputs": [],
   "source": [
    "from collections import deque\n",
    "\n",
    "class DataStream:\n",
    "    def __init__(self, value: int, k: int):\n",
    "        self.value = value\n",
    "        self.k = k\n",
    "        self.stream = deque()\n",
    "\n",
    "    def consec(self, num: int) -> bool:\n",
    "        self.stream.append(num)\n",
    "        if len(self.stream) < self.k:\n",
    "            return False\n",
    "        elif len(self.stream) > self.k:\n",
    "            self.stream.popleft()\n",
    "        return all(num == self.value for num in self.stream)\n"
   ]
  },
  {
   "cell_type": "code",
   "execution_count": 93,
   "id": "756a3aa0",
   "metadata": {},
   "outputs": [
    {
     "name": "stdout",
     "output_type": "stream",
     "text": [
      "False\n",
      "False\n",
      "True\n",
      "True\n"
     ]
    }
   ],
   "source": [
    "dataStream = DataStream(4, 3)\n",
    "print(dataStream.consec(4))\n",
    "print(dataStream.consec(4))\n",
    "print(dataStream.consec(4))\n",
    "print(dataStream.consec(4))"
   ]
  },
  {
   "cell_type": "code",
   "execution_count": null,
   "id": "980ed84e",
   "metadata": {},
   "outputs": [],
   "source": []
  }
 ],
 "metadata": {
  "kernelspec": {
   "display_name": "Python 3 (ipykernel)",
   "language": "python",
   "name": "python3"
  },
  "language_info": {
   "codemirror_mode": {
    "name": "ipython",
    "version": 3
   },
   "file_extension": ".py",
   "mimetype": "text/x-python",
   "name": "python",
   "nbconvert_exporter": "python",
   "pygments_lexer": "ipython3",
   "version": "3.9.12"
  }
 },
 "nbformat": 4,
 "nbformat_minor": 5
}
