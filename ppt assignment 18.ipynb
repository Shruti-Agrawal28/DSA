{
 "cells": [
  {
   "cell_type": "markdown",
   "id": "ce667ea1",
   "metadata": {},
   "source": [
    "### QUESTION 1."
   ]
  },
  {
   "cell_type": "code",
   "execution_count": 3,
   "id": "63d47d1c",
   "metadata": {},
   "outputs": [],
   "source": [
    "def merge_intervals(intervals):\n",
    "    intervals.sort(key=lambda x: x[0])\n",
    "    merged = []\n",
    "\n",
    "    for interval in intervals:\n",
    "        if not merged:\n",
    "            merged.append(interval)\n",
    "        else:\n",
    "            if interval[0] <= merged[-1][1]:\n",
    "                merged[-1][1] = max(merged[-1][1], interval[1])\n",
    "            else:\n",
    "                merged.append(interval)\n",
    "\n",
    "    return merged"
   ]
  },
  {
   "cell_type": "code",
   "execution_count": 9,
   "id": "0f609d9e",
   "metadata": {},
   "outputs": [
    {
     "name": "stdout",
     "output_type": "stream",
     "text": [
      "[[1, 6], [7, 10], [15, 18]]\n"
     ]
    }
   ],
   "source": [
    "intervals = [[1, 3], [2, 6], [7, 10], [15, 18]]\n",
    "merged_intervals = merge_intervals(intervals)\n",
    "print(merged_intervals)"
   ]
  },
  {
   "cell_type": "markdown",
   "id": "9f79edd4",
   "metadata": {},
   "source": [
    "### QUESTION 2."
   ]
  },
  {
   "cell_type": "code",
   "execution_count": 1,
   "id": "47c8e79f",
   "metadata": {},
   "outputs": [],
   "source": [
    "def sortColors(nums):\n",
    "    red = 0  \n",
    "    white = 0  \n",
    "    blue = len(nums) - 1  \n",
    "    while white <= blue:\n",
    "        if nums[white] == 0: \n",
    "            nums[red], nums[white] = nums[white], nums[red]\n",
    "            red += 1\n",
    "            white += 1\n",
    "        elif nums[white] == 1:  \n",
    "            white += 1\n",
    "        else: \n",
    "            nums[white], nums[blue] = nums[blue], nums[white]\n",
    "            blue -= 1\n",
    "    return nums"
   ]
  },
  {
   "cell_type": "code",
   "execution_count": 4,
   "id": "57637e4b",
   "metadata": {},
   "outputs": [
    {
     "data": {
      "text/plain": [
       "[0, 0, 1, 1, 2, 2]"
      ]
     },
     "execution_count": 4,
     "metadata": {},
     "output_type": "execute_result"
    }
   ],
   "source": [
    "nums = [2, 0, 2, 1, 1,0]\n",
    "sortColors(nums)"
   ]
  },
  {
   "cell_type": "markdown",
   "id": "4d8c3e7d",
   "metadata": {},
   "source": [
    "### QUESTION 3."
   ]
  },
  {
   "cell_type": "code",
   "execution_count": 3,
   "id": "53b3f149",
   "metadata": {},
   "outputs": [],
   "source": [
    "def firstBadVersion(n, bad):\n",
    "    left = 1\n",
    "    right = n\n",
    "\n",
    "    while left < right:\n",
    "        mid = left + (right - left) // 2\n",
    "\n",
    "        if mid >= bad:\n",
    "            right = mid\n",
    "        else:\n",
    "            left = mid + 1\n",
    "\n",
    "    return left"
   ]
  },
  {
   "cell_type": "code",
   "execution_count": 4,
   "id": "0708cb4b",
   "metadata": {},
   "outputs": [
    {
     "name": "stdout",
     "output_type": "stream",
     "text": [
      "4\n"
     ]
    }
   ],
   "source": [
    "n = 10\n",
    "bad = 4\n",
    "bad_version = firstBadVersion(n, bad)\n",
    "print(bad_version)"
   ]
  },
  {
   "cell_type": "markdown",
   "id": "a519924e",
   "metadata": {},
   "source": [
    "### QUESTION 4."
   ]
  },
  {
   "cell_type": "code",
   "execution_count": 2,
   "id": "70c0e85b",
   "metadata": {},
   "outputs": [],
   "source": [
    "def maximum_gap(nums):\n",
    "    if len(nums) < 2:\n",
    "        return 0\n",
    "\n",
    "    max_num = max(nums)\n",
    "\n",
    "    exp = 1\n",
    "    n = len(nums)\n",
    "    while max_num // exp > 0:\n",
    "        counting_sort(nums, exp)\n",
    "        exp *= 10\n",
    "\n",
    "    max_gap = 0\n",
    "    for i in range(1, n):\n",
    "        max_gap = max(max_gap, nums[i] - nums[i - 1])\n",
    "\n",
    "    return max_gap\n",
    "\n",
    "def counting_sort(nums, exp):\n",
    "    n = len(nums)\n",
    "    output = [0] * n\n",
    "    count = [0] * 10\n",
    "\n",
    "    for i in range(n):\n",
    "        index = nums[i] // exp\n",
    "        count[index % 10] += 1\n",
    "\n",
    "    for i in range(1, 10):\n",
    "        count[i] += count[i - 1]\n",
    "\n",
    "    i = n - 1\n",
    "    while i >= 0:\n",
    "        index = nums[i] // exp\n",
    "        output[count[index % 10] - 1] = nums[i]\n",
    "        count[index % 10] -= 1\n",
    "        i -= 1\n",
    "\n",
    "    for i in range(n):\n",
    "        nums[i] = output[i]\n",
    "\n"
   ]
  },
  {
   "cell_type": "code",
   "execution_count": 3,
   "id": "ef6db030",
   "metadata": {},
   "outputs": [
    {
     "name": "stdout",
     "output_type": "stream",
     "text": [
      "3\n",
      "10\n"
     ]
    }
   ],
   "source": [
    "# Test cases\n",
    "nums1 = [3, 6, 9, 1]\n",
    "print(maximum_gap(nums1))  \n",
    "\n",
    "nums2 = [10, 5, 1, 9, 20]\n",
    "print(maximum_gap(nums2))  \n"
   ]
  },
  {
   "cell_type": "markdown",
   "id": "034154fe",
   "metadata": {},
   "source": [
    "### QUESTION 5."
   ]
  },
  {
   "cell_type": "code",
   "execution_count": 4,
   "id": "f28e3532",
   "metadata": {},
   "outputs": [
    {
     "name": "stdout",
     "output_type": "stream",
     "text": [
      "False\n",
      "True\n"
     ]
    }
   ],
   "source": [
    "def contains_duplicate(nums):\n",
    "    num_set = set(nums)\n",
    "    return len(num_set) != len(nums)\n",
    "\n",
    "# Test cases\n",
    "nums1 = [1, 2, 3, 4, 5]\n",
    "print(contains_duplicate(nums1))  \n",
    "\n",
    "nums2 = [1, 2, 3, 1]\n",
    "print(contains_duplicate(nums2)) \n"
   ]
  },
  {
   "cell_type": "markdown",
   "id": "dfcf803a",
   "metadata": {},
   "source": [
    "### QUESTION 6."
   ]
  },
  {
   "cell_type": "code",
   "execution_count": 5,
   "id": "68eb57e5",
   "metadata": {},
   "outputs": [],
   "source": [
    "def find_min_arrows(points):\n",
    "    if not points:\n",
    "        return 0\n",
    "    points.sort(key=lambda x: x[1])\n",
    "\n",
    "    arrow_pos = points[0][1] \n",
    "    arrows = 1  \n",
    "\n",
    "    for balloon in points[1:]:\n",
    "        start, end = balloon\n",
    "\n",
    "        if start > arrow_pos:\n",
    "            arrows += 1\n",
    "            arrow_pos = end  \n",
    "\n",
    "    return arrows\n",
    "\n"
   ]
  },
  {
   "cell_type": "code",
   "execution_count": 6,
   "id": "23457958",
   "metadata": {},
   "outputs": [
    {
     "name": "stdout",
     "output_type": "stream",
     "text": [
      "2\n"
     ]
    }
   ],
   "source": [
    "# Test case\n",
    "points = [[10, 16], [2, 8], [1, 6], [7, 12]]\n",
    "print(find_min_arrows(points)) \n"
   ]
  },
  {
   "cell_type": "markdown",
   "id": "880caa42",
   "metadata": {},
   "source": [
    "### QUESTION 7."
   ]
  },
  {
   "cell_type": "code",
   "execution_count": 7,
   "id": "7c1455f8",
   "metadata": {},
   "outputs": [],
   "source": [
    "def length_of_lis(nums):\n",
    "    n = len(nums)\n",
    "    if n == 0:\n",
    "        return 0\n",
    "\n",
    "    dp = [1] * n  \n",
    "\n",
    "    for i in range(1, n):\n",
    "        for j in range(i):\n",
    "            if nums[i] > nums[j]:\n",
    "                dp[i] = max(dp[i], dp[j] + 1)\n",
    "\n",
    "    return max(dp)"
   ]
  },
  {
   "cell_type": "code",
   "execution_count": 9,
   "id": "9a048e13",
   "metadata": {},
   "outputs": [
    {
     "name": "stdout",
     "output_type": "stream",
     "text": [
      "4\n",
      "3\n"
     ]
    }
   ],
   "source": [
    "# Test cases\n",
    "nums1 = [10, 9, 2, 5, 3, 7, 101, 18]\n",
    "print(length_of_lis(nums1)) \n",
    "nums2 = [4, 10, 4, 3, 8, 9]\n",
    "print(length_of_lis(nums2))"
   ]
  },
  {
   "cell_type": "markdown",
   "id": "a25e97e1",
   "metadata": {},
   "source": [
    "### QUESTION 8."
   ]
  },
  {
   "cell_type": "code",
   "execution_count": 10,
   "id": "094da951",
   "metadata": {},
   "outputs": [],
   "source": [
    "def find132pattern(nums):\n",
    "    n = len(nums)\n",
    "    candidate_2 = float('-inf')\n",
    "    stack = []\n",
    "\n",
    "    for i in range(n - 1, -1, -1):\n",
    "        if nums[i] < candidate_2:\n",
    "            return True\n",
    "        while stack and nums[i] > stack[-1]:\n",
    "            candidate_2 = stack.pop()\n",
    "        stack.append(nums[i])\n",
    "\n",
    "    return False"
   ]
  },
  {
   "cell_type": "code",
   "execution_count": 11,
   "id": "3ccc8689",
   "metadata": {},
   "outputs": [
    {
     "name": "stdout",
     "output_type": "stream",
     "text": [
      "False\n",
      "True\n"
     ]
    }
   ],
   "source": [
    "# Test cases\n",
    "nums1 = [1, 2, 3, 4]\n",
    "print(find132pattern(nums1)) \n",
    "\n",
    "nums2 = [3, 1, 4, 2]\n",
    "print(find132pattern(nums2)) "
   ]
  },
  {
   "cell_type": "code",
   "execution_count": null,
   "id": "e1844d80",
   "metadata": {},
   "outputs": [],
   "source": []
  }
 ],
 "metadata": {
  "kernelspec": {
   "display_name": "Python 3 (ipykernel)",
   "language": "python",
   "name": "python3"
  },
  "language_info": {
   "codemirror_mode": {
    "name": "ipython",
    "version": 3
   },
   "file_extension": ".py",
   "mimetype": "text/x-python",
   "name": "python",
   "nbconvert_exporter": "python",
   "pygments_lexer": "ipython3",
   "version": "3.9.12"
  }
 },
 "nbformat": 4,
 "nbformat_minor": 5
}
