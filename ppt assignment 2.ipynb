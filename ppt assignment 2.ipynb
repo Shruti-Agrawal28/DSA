{
 "cells": [
  {
   "cell_type": "markdown",
   "id": "4e1ba137",
   "metadata": {},
   "source": [
    "### Question 1. "
   ]
  },
  {
   "cell_type": "code",
   "execution_count": 18,
   "id": "6a9d6fc5",
   "metadata": {},
   "outputs": [],
   "source": [
    "class Solution:\n",
    "    def max_sum(nums):\n",
    "        nums.sort()\n",
    "        sums = 0\n",
    "        for i in range(0, len(nums), 2):\n",
    "            sums += min(nums[i], nums[i+1])\n",
    "        return sums"
   ]
  },
  {
   "cell_type": "code",
   "execution_count": 19,
   "id": "ad9e10d0",
   "metadata": {},
   "outputs": [
    {
     "data": {
      "text/plain": [
       "25"
      ]
     },
     "execution_count": 19,
     "metadata": {},
     "output_type": "execute_result"
    }
   ],
   "source": [
    "nums = [12,11,14,19]\n",
    "Solution.max_sum(nums)"
   ]
  },
  {
   "cell_type": "markdown",
   "id": "fd69137c",
   "metadata": {},
   "source": [
    "### Question 2."
   ]
  },
  {
   "cell_type": "code",
   "execution_count": 23,
   "id": "7f1c6fec",
   "metadata": {},
   "outputs": [],
   "source": [
    "class Solution:\n",
    "    def maxtypes(candytype):\n",
    "        unique = set(candytype)\n",
    "        max_candies = len(candytype) // 2\n",
    "        return min(len(unique), max_candies)"
   ]
  },
  {
   "cell_type": "code",
   "execution_count": 24,
   "id": "58af14e6",
   "metadata": {},
   "outputs": [
    {
     "data": {
      "text/plain": [
       "4"
      ]
     },
     "execution_count": 24,
     "metadata": {},
     "output_type": "execute_result"
    }
   ],
   "source": [
    "candies = [1,4,4,1,2,3,5,5]\n",
    "Solution.maxtypes(candies)"
   ]
  },
  {
   "cell_type": "markdown",
   "id": "63abebfc",
   "metadata": {},
   "source": [
    "Explaination- Alice can eat only n/2 candies. There are 5 candytypes but she can only eat 8/2 (4) of them."
   ]
  },
  {
   "cell_type": "markdown",
   "id": "b3722558",
   "metadata": {},
   "source": [
    "### Question 3."
   ]
  },
  {
   "cell_type": "code",
   "execution_count": 31,
   "id": "8345691a",
   "metadata": {},
   "outputs": [],
   "source": [
    "class Solution:\n",
    "    def harmonious_array(nums):\n",
    "        count = {}\n",
    "        for i in nums:\n",
    "            count[i] = count.get(i,0) +1\n",
    "        max_len = 0\n",
    "        for i in count:\n",
    "            if i+1 in count:\n",
    "                length = count[i] + count[i+1]\n",
    "                max_len = max(max_len, length)\n",
    "        return max_len"
   ]
  },
  {
   "cell_type": "code",
   "execution_count": 33,
   "id": "825ee45e",
   "metadata": {},
   "outputs": [
    {
     "data": {
      "text/plain": [
       "5"
      ]
     },
     "execution_count": 33,
     "metadata": {},
     "output_type": "execute_result"
    }
   ],
   "source": [
    "nums = [1,1,2,2,3,3,3,4]\n",
    "Solution.harmonious_array(nums)"
   ]
  },
  {
   "cell_type": "markdown",
   "id": "50ce08fb",
   "metadata": {},
   "source": [
    "### Question 4. "
   ]
  },
  {
   "cell_type": "code",
   "execution_count": 1,
   "id": "36d5c86b",
   "metadata": {},
   "outputs": [],
   "source": [
    "class Solution:\n",
    "    def placing_flowers(nums, n):\n",
    "        count = 0\n",
    "        length = len(nums)\n",
    "        i = 0\n",
    "        while i < length:\n",
    "            if nums[i] == 0 and (i==0 or nums[i-1]) == 0 and (i == length-1 or nums[i+1] == 0):\n",
    "                nums[i] = 1\n",
    "                count +=1\n",
    "                i += 2\n",
    "            else:\n",
    "                i+=1\n",
    "        return count >= n\n",
    "    "
   ]
  },
  {
   "cell_type": "code",
   "execution_count": 5,
   "id": "536ccf2d",
   "metadata": {},
   "outputs": [
    {
     "data": {
      "text/plain": [
       "True"
      ]
     },
     "execution_count": 5,
     "metadata": {},
     "output_type": "execute_result"
    }
   ],
   "source": [
    "nums = [1,0,0,0,1,0,0,0,1]\n",
    "n = 2\n",
    "Solution.placing_flowers(nums, n)"
   ]
  },
  {
   "cell_type": "markdown",
   "id": "9e3f20de",
   "metadata": {},
   "source": [
    "### Question 5."
   ]
  },
  {
   "cell_type": "code",
   "execution_count": 8,
   "id": "fda8dd17",
   "metadata": {},
   "outputs": [],
   "source": [
    "class Solution:\n",
    "    def max_product(num):\n",
    "        nums.sort()\n",
    "        product1 = num[-1] * num[-2] * num[-3]\n",
    "        product2 = num[0] * num[1] * num[-1]\n",
    "        return max(product1, product2)"
   ]
  },
  {
   "cell_type": "code",
   "execution_count": 10,
   "id": "ba185bb0",
   "metadata": {},
   "outputs": [
    {
     "data": {
      "text/plain": [
       "60"
      ]
     },
     "execution_count": 10,
     "metadata": {},
     "output_type": "execute_result"
    }
   ],
   "source": [
    "nums = [2,1,4,3,5]\n",
    "Solution.max_product(nums)"
   ]
  },
  {
   "cell_type": "markdown",
   "id": "c2099e20",
   "metadata": {},
   "source": [
    "### Question 6. "
   ]
  },
  {
   "cell_type": "code",
   "execution_count": 11,
   "id": "f470214d",
   "metadata": {},
   "outputs": [],
   "source": [
    "class Solution:\n",
    "    def search(nums, target):\n",
    "        left = 0 \n",
    "        right = len(nums) - 1\n",
    "        while left <= right:\n",
    "            mid = left + (right - left) // 2\n",
    "            if nums[mid] == target:\n",
    "                return mid\n",
    "            elif nums[mid] > target:\n",
    "                right = mid -1\n",
    "            else:\n",
    "                left = mid + 1\n",
    "        return -1"
   ]
  },
  {
   "cell_type": "code",
   "execution_count": 15,
   "id": "727957d6",
   "metadata": {},
   "outputs": [
    {
     "data": {
      "text/plain": [
       "3"
      ]
     },
     "execution_count": 15,
     "metadata": {},
     "output_type": "execute_result"
    }
   ],
   "source": [
    "nums = [2,1,3,4,5,6,6,7,8]\n",
    "target = 4\n",
    "Solution.search(nums, target)"
   ]
  },
  {
   "cell_type": "markdown",
   "id": "dec97a4e",
   "metadata": {},
   "source": [
    "### Question 7. "
   ]
  },
  {
   "cell_type": "code",
   "execution_count": 16,
   "id": "40b827e6",
   "metadata": {},
   "outputs": [],
   "source": [
    "class Solution:\n",
    "    def montonic(nums):\n",
    "        is_increasing = True\n",
    "        is_decreasing = True\n",
    "        for i in range(1,len(nums)):\n",
    "            if nums[i] > nums[i-1]:\n",
    "                is_decreasing = False\n",
    "            elif nums[i] < nums[i-1]:\n",
    "                is_increasing = False\n",
    "            if not is_decreasing and not is_increasing:\n",
    "                return False\n",
    "        return True"
   ]
  },
  {
   "cell_type": "code",
   "execution_count": 22,
   "id": "58af64b2",
   "metadata": {},
   "outputs": [
    {
     "data": {
      "text/plain": [
       "True"
      ]
     },
     "execution_count": 22,
     "metadata": {},
     "output_type": "execute_result"
    }
   ],
   "source": [
    "nums = [4,3,2,2,1]\n",
    "Solution.montonic(nums)"
   ]
  },
  {
   "cell_type": "markdown",
   "id": "a3e858ab",
   "metadata": {},
   "source": [
    "### Question 8."
   ]
  },
  {
   "cell_type": "code",
   "execution_count": 33,
   "id": "56c9ab8c",
   "metadata": {},
   "outputs": [],
   "source": [
    "class Solution:\n",
    "    def minScore(nums, k):\n",
    "        # Initialize the minimum and maximum values\n",
    "        min_val = min(nums)\n",
    "        max_val = max(nums)\n",
    "\n",
    "        # If the difference between min_val and max_val is already 0, return 0\n",
    "        if min_val == max_val:\n",
    "            return 0\n",
    "\n",
    "        # Try all possible values for modifying the elements in the array\n",
    "        # by using the given operation\n",
    "        for num in nums:\n",
    "            if num - k > min_val:\n",
    "                min_val = num - k\n",
    "            if num + k < max_val:\n",
    "                max_val = num + k\n",
    "\n",
    "        # Calculate the minimum score\n",
    "        score = max_val - min_val\n",
    "\n",
    "        return score"
   ]
  },
  {
   "cell_type": "code",
   "execution_count": 35,
   "id": "be512e21",
   "metadata": {},
   "outputs": [
    {
     "data": {
      "text/plain": [
       "3"
      ]
     },
     "execution_count": 35,
     "metadata": {},
     "output_type": "execute_result"
    }
   ],
   "source": [
    "nums = [4,7,1,8,2]\n",
    "k = 5\n",
    "Solution.minScore(nums, k)"
   ]
  },
  {
   "cell_type": "code",
   "execution_count": null,
   "id": "0661890c",
   "metadata": {},
   "outputs": [],
   "source": []
  }
 ],
 "metadata": {
  "kernelspec": {
   "display_name": "Python 3 (ipykernel)",
   "language": "python",
   "name": "python3"
  },
  "language_info": {
   "codemirror_mode": {
    "name": "ipython",
    "version": 3
   },
   "file_extension": ".py",
   "mimetype": "text/x-python",
   "name": "python",
   "nbconvert_exporter": "python",
   "pygments_lexer": "ipython3",
   "version": "3.9.12"
  }
 },
 "nbformat": 4,
 "nbformat_minor": 5
}
