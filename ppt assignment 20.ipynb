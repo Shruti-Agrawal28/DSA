{
 "cells": [
  {
   "cell_type": "markdown",
   "id": "46c851cb",
   "metadata": {},
   "source": [
    "### QUESTION 1"
   ]
  },
  {
   "cell_type": "code",
   "execution_count": 3,
   "id": "272b7d8f",
   "metadata": {},
   "outputs": [
    {
     "name": "stdout",
     "output_type": "stream",
     "text": [
      "28\n"
     ]
    }
   ],
   "source": [
    "class Node:\n",
    "    def __init__(self, value):\n",
    "        self.val = value\n",
    "        self.left = None\n",
    "        self.right = None\n",
    "\n",
    "def maxSubtreeSum(root):\n",
    "    maxSum = float('-inf')\n",
    "\n",
    "    def getSubtreeSum(node):\n",
    "        nonlocal maxSum\n",
    "\n",
    "        if node is None:\n",
    "            return 0\n",
    "\n",
    "        left_sum = getSubtreeSum(node.left)\n",
    "        right_sum = getSubtreeSum(node.right)\n",
    "\n",
    "        current_sum = node.val + left_sum + right_sum\n",
    "        maxSum = max(maxSum, current_sum)\n",
    "\n",
    "        return current_sum\n",
    "\n",
    "    getSubtreeSum(root)\n",
    "    return maxSum\n",
    "\n",
    "# Example usage:\n",
    "root = Node(1)\n",
    "root.left = Node(2)\n",
    "root.right = Node(3)\n",
    "root.left.left = Node(4)\n",
    "root.left.right = Node(5)\n",
    "root.right.left = Node(6)\n",
    "root.right.right = Node(7)\n",
    "\n",
    "print(maxSubtreeSum(root))  "
   ]
  },
  {
   "cell_type": "markdown",
   "id": "53c190b0",
   "metadata": {},
   "source": [
    "### QUESTION 2"
   ]
  },
  {
   "cell_type": "code",
   "execution_count": 5,
   "id": "d9f9ee79",
   "metadata": {},
   "outputs": [
    {
     "name": "stdout",
     "output_type": "stream",
     "text": [
      "        1\n",
      "    12\n",
      "        8\n",
      "7\n",
      "        6\n",
      "    4\n",
      "            10\n",
      "        3\n",
      "            5\n"
     ]
    }
   ],
   "source": [
    "class Node:\n",
    "    def __init__(self, value):\n",
    "        self.val = value\n",
    "        self.left = None\n",
    "        self.right = None\n",
    "\n",
    "def constructBST(level_order):\n",
    "    if not level_order:\n",
    "        return None\n",
    "\n",
    "    root = Node(level_order[0])\n",
    "    queue = [root]\n",
    "    i = 1\n",
    "\n",
    "    while queue:\n",
    "        node = queue.pop(0)\n",
    "\n",
    "        if i < len(level_order):\n",
    "            if level_order[i] != -1:\n",
    "                node.left = Node(level_order[i])\n",
    "                queue.append(node.left)\n",
    "            i += 1\n",
    "\n",
    "        if i < len(level_order):\n",
    "            if level_order[i] != -1:\n",
    "                node.right = Node(level_order[i])\n",
    "                queue.append(node.right)\n",
    "            i += 1\n",
    "\n",
    "    return root\n",
    "\n",
    "def visualizeBST(root):\n",
    "    def printBST(node, level=0):\n",
    "        if node is None:\n",
    "            return\n",
    "\n",
    "        printBST(node.right, level + 1)\n",
    "        print('    ' * level + str(node.val))\n",
    "        printBST(node.left, level + 1)\n",
    "\n",
    "    printBST(root)\n",
    "\n",
    "# Example usage:\n",
    "level_order = [7, 4, 12, 3, 6, 8, 1, 5, 10]\n",
    "root = constructBST(level_order)\n",
    "visualizeBST(root)\n"
   ]
  },
  {
   "cell_type": "markdown",
   "id": "423a33be",
   "metadata": {},
   "source": [
    "### QUESTION 3"
   ]
  },
  {
   "cell_type": "code",
   "execution_count": 15,
   "id": "86c8f79a",
   "metadata": {},
   "outputs": [
    {
     "name": "stdout",
     "output_type": "stream",
     "text": [
      "No\n"
     ]
    }
   ],
   "source": [
    "class NodeDetails:\n",
    "    def __init__(self, data, min, max):\n",
    "        self.data = data\n",
    "        self.min = min\n",
    "        self.max = max\n",
    "\n",
    "def levelOrderIsOfBST(arr, n):\n",
    "    if n == 0:\n",
    "        return True\n",
    "\n",
    "    q = []\n",
    "    i = 0\n",
    "    newNode = NodeDetails(arr[i], INT_MIN, INT_MAX)\n",
    "    i += 1\n",
    "    q.append(newNode)\n",
    "\n",
    "    while i != n and len(q) != 0:\n",
    "        temp = q.pop(0)\n",
    "        if i < n and (arr[i] < temp.data and arr[i] > temp.min):\n",
    "            newNode = NodeDetails(arr[i], temp.min, temp.data)\n",
    "            i += 1\n",
    "            q.append(newNode)\n",
    "        if i < n and (arr[i] > temp.data and arr[i] < temp.max):\n",
    "            newNode = NodeDetails(arr[i], temp.data, temp.max)\n",
    "            i += 1\n",
    "            q.append(newNode)\n",
    "\n",
    "    if i == n:\n",
    "        return True\n",
    "    return False\n",
    "\n",
    "if __name__ == \"__main__\":\n",
    "    arr =  [11, 6, 13, 5, 12, 10]\n",
    "    n = len(arr)\n",
    "    if levelOrderIsOfBST(arr, n):\n",
    "        print(\"Yes\")\n",
    "    else:\n",
    "        print(\"No\")\n"
   ]
  },
  {
   "cell_type": "code",
   "execution_count": null,
   "id": "7d525c25",
   "metadata": {},
   "outputs": [],
   "source": []
  }
 ],
 "metadata": {
  "kernelspec": {
   "display_name": "Python 3 (ipykernel)",
   "language": "python",
   "name": "python3"
  },
  "language_info": {
   "codemirror_mode": {
    "name": "ipython",
    "version": 3
   },
   "file_extension": ".py",
   "mimetype": "text/x-python",
   "name": "python",
   "nbconvert_exporter": "python",
   "pygments_lexer": "ipython3",
   "version": "3.9.12"
  }
 },
 "nbformat": 4,
 "nbformat_minor": 5
}
