{
 "cells": [
  {
   "cell_type": "markdown",
   "id": "21814671",
   "metadata": {},
   "source": [
    "### QUESTION 1"
   ]
  },
  {
   "cell_type": "code",
   "execution_count": 5,
   "id": "90f9b6e8",
   "metadata": {},
   "outputs": [
    {
     "name": "stdout",
     "output_type": "stream",
     "text": [
      "3\n"
     ]
    }
   ],
   "source": [
    "def calculate_depth(preorder):\n",
    "    stack = []\n",
    "    depth = 0\n",
    "    max_depth = 0\n",
    "\n",
    "    for char in preorder:\n",
    "        if char == 'n':\n",
    "            stack.append(char)\n",
    "            depth += 1\n",
    "            max_depth = max(max_depth, depth)\n",
    "    return max_depth\n",
    "\n",
    "# Example usage\n",
    "preorder = 'nlnllnl'\n",
    "depth = calculate_depth(preorder)\n",
    "print(depth)\n"
   ]
  },
  {
   "cell_type": "markdown",
   "id": "4cd95270",
   "metadata": {},
   "source": [
    "### QUESTION 2"
   ]
  },
  {
   "cell_type": "code",
   "execution_count": 10,
   "id": "e025a1e7",
   "metadata": {},
   "outputs": [
    {
     "name": "stdout",
     "output_type": "stream",
     "text": [
      "10 4 3 14 "
     ]
    }
   ],
   "source": [
    "class Node:\n",
    "\n",
    "    def __init__(self, data):\n",
    "        self.data = data\n",
    "        self.left = None\n",
    "        self.right = None\n",
    "\n",
    "\n",
    "def leftViewUtil(root, level, max_level):\n",
    "\n",
    "    if root is None:\n",
    "        return\n",
    "\n",
    "    if (max_level[0] < level):\n",
    "        print (root.data, end = \" \")\n",
    "        max_level[0] = level\n",
    "\n",
    "    leftViewUtil(root.left, level + 1, max_level)\n",
    "    leftViewUtil(root.right, level + 1, max_level)\n",
    "\n",
    "\n",
    "def leftView(root):\n",
    "    max_level = [0]\n",
    "    leftViewUtil(root, 1, max_level)\n",
    "\n",
    "\n",
    "if __name__ == '__main__':\n",
    "    root = Node(10)\n",
    "    root.left = Node(4)\n",
    "    root.right = Node(12)\n",
    "    root.left.left = Node(3)\n",
    "    root.left.right = Node(7)\n",
    "    root.right.right = Node(15)\n",
    "    root.right.left = Node(11)\n",
    "    root.right.right.left = Node(14)\n",
    "\n",
    "    leftView(root)\n"
   ]
  },
  {
   "cell_type": "markdown",
   "id": "1abdd509",
   "metadata": {},
   "source": [
    "### QUESTION 3"
   ]
  },
  {
   "cell_type": "code",
   "execution_count": 15,
   "id": "3a56ba3e",
   "metadata": {},
   "outputs": [
    {
     "name": "stdout",
     "output_type": "stream",
     "text": [
      "1\n",
      "3\n",
      "7\n",
      "8\n"
     ]
    }
   ],
   "source": [
    "class Node:\n",
    "    def __init__(self, item):\n",
    "        self.data = item\n",
    "        self.left = None\n",
    "        self.right = None\n",
    "\n",
    "def rightViewUtil(root, level, max_level):\n",
    "\n",
    "    if root is None:\n",
    "        return\n",
    "\n",
    "    if (max_level[0] < level):\n",
    "        print((root.data)),\n",
    "        max_level[0] = level\n",
    "\n",
    "    rightViewUtil(root.right, level+1, max_level)\n",
    "    rightViewUtil(root.left, level+1, max_level)\n",
    "\n",
    "\n",
    "def rightView(root):\n",
    "    max_level = [0]\n",
    "    rightViewUtil(root, 1, max_level)\n",
    "\n",
    "\n",
    "root = Node(1)\n",
    "root.left = Node(2)\n",
    "root.right = Node(3)\n",
    "root.left.left = Node(4)\n",
    "root.left.right = Node(5)\n",
    "root.right.left = Node(6)\n",
    "root.right.right = Node(7)\n",
    "root.right.left.right = Node(8)\n",
    "\n",
    "rightView(root)\n",
    "\n"
   ]
  },
  {
   "cell_type": "markdown",
   "id": "34604034",
   "metadata": {},
   "source": [
    "### QUESTION 4"
   ]
  },
  {
   "cell_type": "code",
   "execution_count": 13,
   "id": "6a4b9ae1",
   "metadata": {},
   "outputs": [
    {
     "name": "stdout",
     "output_type": "stream",
     "text": [
      "Bottom view of the given binary tree :\n",
      "5 10 4 14 25 "
     ]
    }
   ],
   "source": [
    "from collections import deque\n",
    "\n",
    "class Node:\n",
    "    def __init__(self, key):\n",
    "        self.data = key\n",
    "        self.hd = float('inf')\n",
    "        self.left = None\n",
    "        self.right = None\n",
    "\n",
    "def bottomView(root):\n",
    "\n",
    "    if (root == None):\n",
    "        return\n",
    "\n",
    "    hd = 0\n",
    "    min_hd, max_hd = 0, 0\n",
    "\n",
    "    hd_dict = dict()\n",
    "\n",
    "    q = deque()\n",
    "\n",
    "    root.hd = hd\n",
    "    q.append(root)\n",
    "\n",
    "    while q:\n",
    "        curr_node = q.popleft()\n",
    "\n",
    "        hd = curr_node.hd\n",
    "\n",
    "        min_hd = min(min_hd, hd)\n",
    "        max_hd = max(max_hd, hd)\n",
    "\n",
    "        hd_dict[hd] = curr_node.data\n",
    "        if curr_node.left:\n",
    "            curr_node.left.hd = hd - 1\n",
    "            q.append(curr_node.left)\n",
    "\n",
    "        if curr_node.right:\n",
    "            curr_node.right.hd = hd + 1\n",
    "            q.append(curr_node.right)\n",
    "\n",
    "    for i in range(min_hd, max_hd+1):\n",
    "        print(hd_dict[i], end = ' ')\n",
    "\n",
    "if __name__=='__main__':\n",
    "\n",
    "    root = Node(20)\n",
    "    root.left = Node(8)\n",
    "    root.right = Node(22)\n",
    "    root.left.left = Node(5)\n",
    "    root.left.right = Node(3)\n",
    "    root.right.left = Node(4)\n",
    "    root.right.right = Node(25)\n",
    "    root.left.right.left = Node(10)\n",
    "    root.left.right.right = Node(14)\n",
    "\n",
    "    print(\"Bottom view of the given binary tree :\")\n",
    "\n",
    "    bottomView(root)\n"
   ]
  }
 ],
 "metadata": {
  "kernelspec": {
   "display_name": "Python 3 (ipykernel)",
   "language": "python",
   "name": "python3"
  },
  "language_info": {
   "codemirror_mode": {
    "name": "ipython",
    "version": 3
   },
   "file_extension": ".py",
   "mimetype": "text/x-python",
   "name": "python",
   "nbconvert_exporter": "python",
   "pygments_lexer": "ipython3",
   "version": "3.9.12"
  }
 },
 "nbformat": 4,
 "nbformat_minor": 5
}
