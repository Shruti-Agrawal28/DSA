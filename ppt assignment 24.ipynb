{
 "cells": [
  {
   "cell_type": "markdown",
   "id": "98eece10",
   "metadata": {},
   "source": [
    "### QUESTION 1\n",
    "**Roman to Integer**\n",
    "\n",
    "Roman numerals are represented by seven different symbols: `I`, `V`, `X`, `L`, `C`, `D` and `M`.\n",
    "\n",
    "```\n",
    "SymbolValue\n",
    "I             1\n",
    "V             5\n",
    "X             10\n",
    "L             50\n",
    "C             100\n",
    "D             500\n",
    "M             1000\n",
    "```\n",
    "\n",
    "For example, `2` is written as `II` in Roman numeral, just two ones added together. `12` is written as `XII`, which is simply `X + II`. The number `27` is written as `XXVII`, which is `XX + V + II`.\n",
    "\n",
    "Roman numerals are usually written largest to smallest from left to right. However, the numeral for four is not `IIII`. Instead, the number four is written as `IV`. Because the one is before the five we subtract it making four. The same principle applies to the number nine, which is written as `IX`. There are six instances where subtraction is used:\n",
    "\n",
    "- `I` can be placed before `V` (5) and `X` (10) to make 4 and 9.\n",
    "- `X` can be placed before `L` (50) and `C` (100) to make 40 and 90.\n",
    "- `C` can be placed before `D` (500) and `M` (1000) to make 400 and 900.\n",
    "\n",
    "Given a roman numeral, convert it to an integer.\n",
    "\n"
   ]
  },
  {
   "cell_type": "code",
   "execution_count": 6,
   "id": "9d890bc3",
   "metadata": {},
   "outputs": [
    {
     "name": "stdout",
     "output_type": "stream",
     "text": [
      "Enter a Roman numeral: XL\n",
      "The equivalent integer is: 40\n"
     ]
    }
   ],
   "source": [
    "def roman_to_integer(roman_numeral):\n",
    "    symbol_values = {\n",
    "        'I': 1,\n",
    "        'V': 5,\n",
    "        'X': 10,\n",
    "        'L': 50,\n",
    "        'C': 100,\n",
    "        'D': 500,\n",
    "        'M': 1000\n",
    "    }\n",
    "    \n",
    "    total = 0\n",
    "    \n",
    "    for i in range(len(roman_numeral)):\n",
    "        if i < len(roman_numeral) - 1 and symbol_values[roman_numeral[i]] < symbol_values[roman_numeral[i+1]]:\n",
    "            total -= symbol_values[roman_numeral[i]]\n",
    "        else:\n",
    "            total += symbol_values[roman_numeral[i]]\n",
    "    \n",
    "    return total\n",
    "\n",
    "\n",
    "# Example usage:\n",
    "roman_numeral = input(\"Enter a Roman numeral: \")\n",
    "result = roman_to_integer(roman_numeral)\n",
    "print(\"The equivalent integer is:\", result)\n"
   ]
  },
  {
   "cell_type": "markdown",
   "id": "81a1501d",
   "metadata": {},
   "source": [
    "### QUESTION 2\n",
    "**Longest Substring Without Repeating Characters**\n",
    "\n",
    "Given a string `s`, find the length of the **longest substring** without repeating characters.\n",
    "\n",
    "</aside>"
   ]
  },
  {
   "cell_type": "code",
   "execution_count": 12,
   "id": "77d3348d",
   "metadata": {},
   "outputs": [
    {
     "name": "stdout",
     "output_type": "stream",
     "text": [
      "The length of the longest substring without repeating characters is: 3\n"
     ]
    }
   ],
   "source": [
    "def length_of_longest_substring(s):\n",
    "    char_set = set()  \n",
    "    left = 0  \n",
    "    max_length = 0  \n",
    "    for right in range(len(s)):\n",
    "        while s[right] in char_set:\n",
    "            char_set.remove(s[left])\n",
    "            left += 1\n",
    "        \n",
    "        char_set.add(s[right])\n",
    "        max_length = max(max_length, right - left + 1)\n",
    "    \n",
    "    return max_length\n",
    "\n",
    "\n",
    "# Example usage:\n",
    "s = \"pwwkew\"\n",
    "result = length_of_longest_substring(s)\n",
    "print(\"The length of the longest substring without repeating characters is:\", result)\n"
   ]
  },
  {
   "cell_type": "markdown",
   "id": "57bf66a0",
   "metadata": {},
   "source": [
    "### QUESTION 3\n",
    "Given an array `nums` of size `n`, return *the majority element*.\n",
    "\n",
    "The majority element is the element that appears more than `⌊n / 2⌋` times. You may assume that the majority element always exists in the array."
   ]
  },
  {
   "cell_type": "code",
   "execution_count": 13,
   "id": "33d3341d",
   "metadata": {},
   "outputs": [
    {
     "name": "stdout",
     "output_type": "stream",
     "text": [
      "The majority element is: 2\n"
     ]
    }
   ],
   "source": [
    "def majority_element(nums):\n",
    "    count = 0\n",
    "    candidate = None\n",
    "    \n",
    "    for num in nums:\n",
    "        if count == 0:\n",
    "            candidate = num\n",
    "        if num == candidate:\n",
    "            count += 1\n",
    "        else:\n",
    "            count -= 1\n",
    "    \n",
    "    return candidate\n",
    "\n",
    "\n",
    "# Example usage:\n",
    "nums = [2, 2, 1, 1, 1, 2, 2]\n",
    "result = majority_element(nums)\n",
    "print(\"The majority element is:\", result)\n"
   ]
  },
  {
   "cell_type": "markdown",
   "id": "ae76adbf",
   "metadata": {},
   "source": [
    "### QUESTION 4\n",
    "Given an array of strings `strs`, group **the anagrams** together. You can return the answer in **any order**.\n",
    "\n",
    "An **Anagram** is a word or phrase formed by rearranging the letters of a different word or phrase, typically using all the original letters exactly once."
   ]
  },
  {
   "cell_type": "code",
   "execution_count": 16,
   "id": "ce8b7f87",
   "metadata": {},
   "outputs": [
    {
     "name": "stdout",
     "output_type": "stream",
     "text": [
      "Anagram groups: [['eat', 'tea', 'ate'], ['tan', 'nat'], ['bat']]\n"
     ]
    }
   ],
   "source": [
    "def group_anagrams(strs):\n",
    "    groups = {}\n",
    "    \n",
    "    for word in strs:\n",
    "        sorted_word = ''.join(sorted(word))\n",
    "        if sorted_word in groups:\n",
    "            groups[sorted_word].append(word)\n",
    "        else:\n",
    "            groups[sorted_word] = [word]\n",
    "    \n",
    "    return list(groups.values())\n",
    "\n",
    "\n",
    "# Example usage:\n",
    "strs = [\"eat\", \"tea\", \"tan\", \"ate\", \"nat\", \"bat\"]\n",
    "result = group_anagrams(strs)\n",
    "print(\"Anagram groups:\", result)\n"
   ]
  },
  {
   "cell_type": "markdown",
   "id": "f043b44a",
   "metadata": {},
   "source": [
    "### QUESTION 5\n",
    "An **ugly number** is a positive integer whose prime factors are limited to `2`, `3`, and `5`.\n",
    "\n",
    "Given an integer `n`, return *the* `nth` ***ugly number***."
   ]
  },
  {
   "cell_type": "code",
   "execution_count": 22,
   "id": "7753083c",
   "metadata": {},
   "outputs": [
    {
     "name": "stdout",
     "output_type": "stream",
     "text": [
      "24\n"
     ]
    }
   ],
   "source": [
    "def nth_ugly_number(n):\n",
    "    ugly = [1]\n",
    "    p2 = p3 = p5 = 0\n",
    "    \n",
    "    for _ in range(1, n):\n",
    "        next_ugly = min(ugly[p2] * 2, ugly[p3] * 3, ugly[p5] * 5)\n",
    "        ugly.append(next_ugly)\n",
    "        \n",
    "        if next_ugly == ugly[p2] * 2:\n",
    "            p2 += 1\n",
    "        if next_ugly == ugly[p3] * 3:\n",
    "            p3 += 1\n",
    "        if next_ugly == ugly[p5] * 5:\n",
    "            p5 += 1\n",
    "    \n",
    "    return ugly[-1]\n",
    "\n",
    "\n",
    "n = 15\n",
    "result = nth_ugly_number(n)\n",
    "print(result)\n"
   ]
  },
  {
   "cell_type": "markdown",
   "id": "ab307d8f",
   "metadata": {},
   "source": [
    "### QUESTION 6\n",
    "Given an array of strings `words` and an integer `k`, return *the* `k` *most frequent strings*.\n",
    "\n",
    "Return the answer **sorted** by **the frequency** from highest to lowest. Sort the words with the same frequency by their **lexicographical order**."
   ]
  },
  {
   "cell_type": "code",
   "execution_count": 24,
   "id": "1e0db2ef",
   "metadata": {},
   "outputs": [
    {
     "name": "stdout",
     "output_type": "stream",
     "text": [
      "The 2 most frequent words are: ['i', 'love']\n"
     ]
    }
   ],
   "source": [
    "import heapq\n",
    "from collections import Counter\n",
    "\n",
    "def top_k_frequent_words(words, k):\n",
    "    counter = Counter(words)\n",
    "    heap = []\n",
    "    \n",
    "    for word, freq in counter.items():\n",
    "        heapq.heappush(heap, (-freq, word))\n",
    "    \n",
    "    top_k = []\n",
    "    \n",
    "    for _ in range(k):\n",
    "        freq, word = heapq.heappop(heap)\n",
    "        top_k.append(word)\n",
    "    \n",
    "    return top_k\n",
    "\n",
    "\n",
    "# Example usage:\n",
    "words = [ \"love\",\"i\", \"leetcode\",\"love\", \"i\",  \"coding\"]\n",
    "k = 2\n",
    "result = top_k_frequent_words(words, k)\n",
    "print(\"The\", k, \"most frequent words are:\", result)\n"
   ]
  },
  {
   "cell_type": "markdown",
   "id": "a1874853",
   "metadata": {},
   "source": [
    "### QUESTION 7\n",
    "You are given an array of integers `nums`, there is a sliding window of size `k` which is moving from the very left of the array to the very right. You can only see the `k` numbers in the window. Each time the sliding window moves right by one position.\n",
    "\n",
    "Return *the max sliding window*."
   ]
  },
  {
   "cell_type": "code",
   "execution_count": 25,
   "id": "be87131c",
   "metadata": {},
   "outputs": [
    {
     "name": "stdout",
     "output_type": "stream",
     "text": [
      "[3, 3, 5, 5, 6, 7]\n"
     ]
    }
   ],
   "source": [
    "from collections import deque\n",
    "\n",
    "def max_sliding_window(nums, k):\n",
    "    window = deque()\n",
    "    result = []\n",
    "    \n",
    "    for i in range(len(nums)):\n",
    "        if window and window[0] <= i - k:\n",
    "            window.popleft()\n",
    "        \n",
    "        while window and nums[window[-1]] <= nums[i]:\n",
    "            window.pop()\n",
    "        \n",
    "        window.append(i)\n",
    "        \n",
    "        if i >= k - 1:\n",
    "            result.append(nums[window[0]])\n",
    "    \n",
    "    return result\n",
    "\n",
    "\n",
    "nums = [1, 3, -1, -3, 5, 3, 6, 7]\n",
    "k = 3\n",
    "result = max_sliding_window(nums, k)\n",
    "print(result)\n"
   ]
  },
  {
   "cell_type": "markdown",
   "id": "04061b59",
   "metadata": {},
   "source": [
    "### QUESTION 8\n",
    "Given a **sorted** integer array `arr`, two integers `k` and `x`, return the `k` closest integers to `x` in the array. The result should also be sorted in ascending order.\n",
    "\n",
    "An integer `a` is closer to `x` than an integer `b` if:\n",
    "\n",
    "- `|a - x| < |b - x|`, or\n",
    "- `|a - x| == |b - x|` and `a < b`"
   ]
  },
  {
   "cell_type": "code",
   "execution_count": 27,
   "id": "310e4e21",
   "metadata": {},
   "outputs": [
    {
     "name": "stdout",
     "output_type": "stream",
     "text": [
      "The 4 closest elements to 3 are: [1, 2, 3, 4]\n"
     ]
    }
   ],
   "source": [
    "def find_closest_elements(arr, k, x):\n",
    "    left = 0\n",
    "    right = len(arr) - 1\n",
    "    \n",
    "    while right - left >= k:\n",
    "        if abs(arr[left] - x) > abs(arr[right] - x):\n",
    "            left += 1\n",
    "        else:\n",
    "            right -= 1\n",
    "    \n",
    "    return arr[left:right+1]\n",
    "\n",
    "\n",
    "# Example usage:\n",
    "arr = [1, 2, 3, 4, 5]\n",
    "k = 4\n",
    "x = 3\n",
    "result = find_closest_elements(arr, k, x)\n",
    "print(\"The\", k, \"closest elements to\", x, \"are:\", result)\n"
   ]
  },
  {
   "cell_type": "code",
   "execution_count": null,
   "id": "2f1ba5e5",
   "metadata": {},
   "outputs": [],
   "source": []
  }
 ],
 "metadata": {
  "kernelspec": {
   "display_name": "Python 3 (ipykernel)",
   "language": "python",
   "name": "python3"
  },
  "language_info": {
   "codemirror_mode": {
    "name": "ipython",
    "version": 3
   },
   "file_extension": ".py",
   "mimetype": "text/x-python",
   "name": "python",
   "nbconvert_exporter": "python",
   "pygments_lexer": "ipython3",
   "version": "3.9.12"
  }
 },
 "nbformat": 4,
 "nbformat_minor": 5
}
