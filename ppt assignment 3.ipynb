{
 "cells": [
  {
   "cell_type": "markdown",
   "id": "d8c03ccb",
   "metadata": {},
   "source": [
    "### Question 1."
   ]
  },
  {
   "cell_type": "code",
   "execution_count": 1,
   "id": "785e7164",
   "metadata": {},
   "outputs": [],
   "source": [
    "class Solution:\n",
    "    def sum_target(nums, target):\n",
    "        nums.sort()  # Sort the array in ascending order\n",
    "        n = len(nums)\n",
    "        closestSum = float('inf')  # Initialize closestSum to a large value\n",
    "\n",
    "        for i in range(n-2):\n",
    "            num1 = nums[i]\n",
    "            left = i + 1\n",
    "            right = n - 1\n",
    "\n",
    "            while left < right:\n",
    "                currentSum = num1 + nums[left] + nums[right]\n",
    "\n",
    "                if currentSum == target:\n",
    "                    return target\n",
    "\n",
    "                if abs(currentSum - target) < abs(closestSum - target):\n",
    "                    closestSum = currentSum\n",
    "\n",
    "                if currentSum > target:\n",
    "                    right -= 1\n",
    "                else:\n",
    "                    left += 1\n",
    "\n",
    "        return closestSum\n"
   ]
  },
  {
   "cell_type": "code",
   "execution_count": 5,
   "id": "6a3d57ca",
   "metadata": {},
   "outputs": [
    {
     "data": {
      "text/plain": [
       "16"
      ]
     },
     "execution_count": 5,
     "metadata": {},
     "output_type": "execute_result"
    }
   ],
   "source": [
    "nums = [1,3,7,5,2, 4]\n",
    "tg = 17\n",
    "Solution.sum_target(nums, tg)"
   ]
  },
  {
   "cell_type": "markdown",
   "id": "4bd9501f",
   "metadata": {},
   "source": [
    "### Question 2. "
   ]
  },
  {
   "cell_type": "markdown",
   "id": "fcb8f9d2",
   "metadata": {},
   "source": [
    "Given an array nums of n integers, return an array of all the unique quadruplets\n",
    "[nums[a], nums[b], nums[c], nums[d]] such that:\n",
    "           ● 0 <= a, b, c, d < n\n",
    "           ● a, b, c, and d are distinct.\n",
    "           ● nums[a] + nums[b] + nums[c] + nums[d] == target\n",
    "\n",
    "You may return the answer in any order.\n",
    "\n",
    "Example 1:\n",
    "Input: nums = [1,0,-1,0,-2,2], target = 0\n",
    "Output: [[-2,-1,1,2],[-2,0,0,2],[-1,0,0,1]] "
   ]
  },
  {
   "cell_type": "code",
   "execution_count": 14,
   "id": "19af2878",
   "metadata": {},
   "outputs": [],
   "source": [
    "def fourSum(nums, target):\n",
    "    nums.sort()\n",
    "    n = len(nums)\n",
    "    result = []\n",
    "\n",
    "    for i in range(n - 3):\n",
    "        if i > 0 and nums[i] == nums[i - 1]:\n",
    "            continue\n",
    "        if nums[i] + nums[i + 1] + nums[i + 2] + nums[i + 3] > target:\n",
    "            break\n",
    "        if nums[i] + nums[n - 3] + nums[n - 2] + nums[n - 1] < target:\n",
    "            continue\n",
    "\n",
    "        for j in range(i + 1, n - 2):\n",
    "            if j > i + 1 and nums[j] == nums[j - 1]:\n",
    "                continue\n",
    "            if nums[i] + nums[j] + nums[j + 1] + nums[j + 2] > target:\n",
    "                break\n",
    "            if nums[i] + nums[j] + nums[n - 2] + nums[n - 1] < target:\n",
    "                continue\n",
    "\n",
    "            left = j + 1\n",
    "            right = n - 1\n",
    "\n",
    "            while left < right:\n",
    "                current_sum = nums[i] + nums[j] + nums[left] + nums[right]\n",
    "                if current_sum == target:\n",
    "                    result.append([nums[i], nums[j], nums[left], nums[right]])\n",
    "                    while left < right and nums[left] == nums[left + 1]:\n",
    "                        left += 1\n",
    "                    while left < right and nums[right] == nums[right - 1]:\n",
    "                        right -= 1\n",
    "                    left += 1\n",
    "                    right -= 1\n",
    "                elif current_sum < target:\n",
    "                    left += 1\n",
    "                else:\n",
    "                    right -= 1\n",
    "\n",
    "    return result\n"
   ]
  },
  {
   "cell_type": "code",
   "execution_count": 15,
   "id": "69a2d552",
   "metadata": {},
   "outputs": [
    {
     "name": "stdout",
     "output_type": "stream",
     "text": [
      "[[-2, -1, 1, 2], [-2, 0, 0, 2], [-1, 0, 0, 1]]\n"
     ]
    }
   ],
   "source": [
    "nums = [1, 0, -1, 0, -2, 2]\n",
    "target = 0\n",
    "result = fourSum(nums, target)\n",
    "print(result)\n"
   ]
  },
  {
   "cell_type": "markdown",
   "id": "aee4b9be",
   "metadata": {},
   "source": [
    "### Question 3. "
   ]
  },
  {
   "cell_type": "code",
   "execution_count": 6,
   "id": "c4f70fdd",
   "metadata": {},
   "outputs": [],
   "source": [
    "def nextperm(nums):\n",
    "    n = len(nums)\n",
    "    i = n - 2\n",
    "    while i >= 0 and nums[i] >= nums[i+1]:\n",
    "        i -= 1\n",
    "    if i == -1:\n",
    "        nums.reverse()\n",
    "    else:\n",
    "        j = n -1\n",
    "        while nums[j] <= nums[i]:\n",
    "            j-= 1\n",
    "        nums[i], nums[j] = nums[j], nums[i]\n",
    "        left, right =i+1, n-1\n",
    "        while left < right:\n",
    "            nums[left], nums[right]= nums[right], nums[left]\n",
    "            left += 1\n",
    "            right -= 1\n",
    "    return nums"
   ]
  },
  {
   "cell_type": "code",
   "execution_count": 8,
   "id": "2faa69fd",
   "metadata": {},
   "outputs": [
    {
     "data": {
      "text/plain": [
       "[2, 1, 3]"
      ]
     },
     "execution_count": 8,
     "metadata": {},
     "output_type": "execute_result"
    }
   ],
   "source": [
    "nums = [1,3,2]\n",
    "nextperm(nums)"
   ]
  },
  {
   "cell_type": "markdown",
   "id": "d6a18a3b",
   "metadata": {},
   "source": [
    "### Question 4."
   ]
  },
  {
   "cell_type": "code",
   "execution_count": 9,
   "id": "203f513e",
   "metadata": {},
   "outputs": [],
   "source": [
    "def searchinsert(nums, target):\n",
    "    left = 0\n",
    "    right = len(nums) - 1\n",
    "    while left <= right:\n",
    "        mid = left + (right - left) // 2\n",
    "        if nums[mid] == target:\n",
    "            return mid\n",
    "        elif nums[mid] < target:\n",
    "            left = mid + 1\n",
    "        else:\n",
    "            right = mid -1\n",
    "    return left"
   ]
  },
  {
   "cell_type": "code",
   "execution_count": 12,
   "id": "7948c06b",
   "metadata": {},
   "outputs": [
    {
     "data": {
      "text/plain": [
       "5"
      ]
     },
     "execution_count": 12,
     "metadata": {},
     "output_type": "execute_result"
    }
   ],
   "source": [
    "nums = [2,4,1,5,7,9,8]\n",
    "target = 9\n",
    "searchinsert(nums, target)"
   ]
  },
  {
   "cell_type": "markdown",
   "id": "900d157d",
   "metadata": {},
   "source": [
    "### Question 5."
   ]
  },
  {
   "cell_type": "code",
   "execution_count": 16,
   "id": "e0d36a27",
   "metadata": {},
   "outputs": [],
   "source": [
    "def plusone(nums):\n",
    "    n = len(nums)\n",
    "    carry = 1\n",
    "    for i in range(n-1, -1,-1):\n",
    "        digit_sum = nums[i] + carry\n",
    "        nums[i] = digit_sum % 10\n",
    "        carry = digit_sum // 10\n",
    "    if carry:\n",
    "        digits.insert(0, carry)\n",
    "    return nums   "
   ]
  },
  {
   "cell_type": "code",
   "execution_count": 17,
   "id": "47c6ffe3",
   "metadata": {},
   "outputs": [
    {
     "data": {
      "text/plain": [
       "[2, 0, 0, 0]"
      ]
     },
     "execution_count": 17,
     "metadata": {},
     "output_type": "execute_result"
    }
   ],
   "source": [
    "nums = [1,9,9,9]\n",
    "result = plusone(nums)\n",
    "result"
   ]
  },
  {
   "cell_type": "markdown",
   "id": "52a4a162",
   "metadata": {},
   "source": [
    "### Question 6."
   ]
  },
  {
   "cell_type": "code",
   "execution_count": 18,
   "id": "ea083e58",
   "metadata": {},
   "outputs": [],
   "source": [
    "def single_number(nums):\n",
    "    result = 0\n",
    "    for i in nums:\n",
    "        result ^= i\n",
    "    return result"
   ]
  },
  {
   "cell_type": "code",
   "execution_count": 19,
   "id": "46cfe90d",
   "metadata": {},
   "outputs": [
    {
     "data": {
      "text/plain": [
       "5"
      ]
     },
     "execution_count": 19,
     "metadata": {},
     "output_type": "execute_result"
    }
   ],
   "source": [
    "nums = [2,2,3,3,1,4,1,4,5]\n",
    "single_number(nums)"
   ]
  },
  {
   "cell_type": "markdown",
   "id": "88d58acf",
   "metadata": {},
   "source": [
    "### Question 7."
   ]
  },
  {
   "cell_type": "code",
   "execution_count": 18,
   "id": "1cbadff7",
   "metadata": {},
   "outputs": [],
   "source": [
    "def findMissingRanges(nums, lower, upper):\n",
    "    result = []\n",
    "    prev = lower - 1\n",
    "    \n",
    "    for num in nums:\n",
    "        if num > prev + 1:\n",
    "            result.append(getRange(prev + 1, num - 1))\n",
    "        prev = num\n",
    "    \n",
    "    if prev < upper:\n",
    "        result.append(getRange(prev + 1, upper))\n",
    "    \n",
    "    return result\n",
    "\n",
    "def getRange(start, end):\n",
    "    if start == end:\n",
    "        return str(start)\n",
    "    else:\n",
    "        return str(start) + \",\" + str(end)"
   ]
  },
  {
   "cell_type": "code",
   "execution_count": 19,
   "id": "55599c76",
   "metadata": {},
   "outputs": [
    {
     "data": {
      "text/plain": [
       "['0,3', '5,7', '9', '11,14', '16,19', '21,29']"
      ]
     },
     "execution_count": 19,
     "metadata": {},
     "output_type": "execute_result"
    }
   ],
   "source": [
    "nums = [4,8,10,15,20,30]\n",
    "lower = 0\n",
    "upper = 30\n",
    "findMissingRanges(nums, lower, upper)"
   ]
  },
  {
   "cell_type": "markdown",
   "id": "b02b7fc6",
   "metadata": {},
   "source": [
    "### Question 8."
   ]
  },
  {
   "cell_type": "code",
   "execution_count": 8,
   "id": "04e6f1c4",
   "metadata": {},
   "outputs": [],
   "source": [
    "def canAttend(intervals):\n",
    "    intervals.sort(key= lambda x : x[0])\n",
    "    for i in range(1, len(intervals)):\n",
    "        if intervals[i][0] < intervals[i-1][1]:\n",
    "            return False\n",
    "    return True"
   ]
  },
  {
   "cell_type": "code",
   "execution_count": 10,
   "id": "a5de35a1",
   "metadata": {},
   "outputs": [
    {
     "data": {
      "text/plain": [
       "False"
      ]
     },
     "execution_count": 10,
     "metadata": {},
     "output_type": "execute_result"
    }
   ],
   "source": [
    "intervals = [[1,10], [8,10], [15,20]]\n",
    "canAttend(intervals)"
   ]
  },
  {
   "cell_type": "code",
   "execution_count": null,
   "id": "d86d3056",
   "metadata": {},
   "outputs": [],
   "source": []
  }
 ],
 "metadata": {
  "kernelspec": {
   "display_name": "Python 3 (ipykernel)",
   "language": "python",
   "name": "python3"
  },
  "language_info": {
   "codemirror_mode": {
    "name": "ipython",
    "version": 3
   },
   "file_extension": ".py",
   "mimetype": "text/x-python",
   "name": "python",
   "nbconvert_exporter": "python",
   "pygments_lexer": "ipython3",
   "version": "3.9.12"
  }
 },
 "nbformat": 4,
 "nbformat_minor": 5
}
