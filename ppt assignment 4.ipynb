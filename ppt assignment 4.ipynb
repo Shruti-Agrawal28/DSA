{
 "cells": [
  {
   "cell_type": "markdown",
   "id": "48b62cea",
   "metadata": {},
   "source": [
    "###    Question 1."
   ]
  },
  {
   "cell_type": "code",
   "execution_count": 16,
   "id": "22796b08",
   "metadata": {},
   "outputs": [],
   "source": [
    "def repeated_int(num1, num2, num3):\n",
    "    output = []\n",
    "    for i in num1:\n",
    "        for j in num2:\n",
    "            if i == j:\n",
    "                for k in num3:\n",
    "                    if j == k:\n",
    "                        output.append(k)\n",
    "                        k +=1\n",
    "    return output"
   ]
  },
  {
   "cell_type": "code",
   "execution_count": 21,
   "id": "ae3ab5b8",
   "metadata": {},
   "outputs": [
    {
     "data": {
      "text/plain": [
       "[1, 3, 4]"
      ]
     },
     "execution_count": 21,
     "metadata": {},
     "output_type": "execute_result"
    }
   ],
   "source": [
    "num1 = [1,2,3,4]\n",
    "num2 = [1,3,4]\n",
    "num3 = [1,3,6,4]\n",
    "repeated_int(num1, num2, num3)"
   ]
  },
  {
   "cell_type": "markdown",
   "id": "48d2d1b7",
   "metadata": {},
   "source": [
    "### Question 2."
   ]
  },
  {
   "cell_type": "code",
   "execution_count": 28,
   "id": "867c1d09",
   "metadata": {},
   "outputs": [],
   "source": [
    "def distinct_int(num1, num2):\n",
    "    l1 = []\n",
    "    l2 = []\n",
    "    for j in num2:\n",
    "        if j not in num1:\n",
    "            l1.append(j)\n",
    "    \n",
    "    for j in num1:\n",
    "        if j not in num2:\n",
    "            l2.append(j)\n",
    "              \n",
    "    return [l1, l2]\n",
    "        "
   ]
  },
  {
   "cell_type": "code",
   "execution_count": 32,
   "id": "4bec1b78",
   "metadata": {},
   "outputs": [
    {
     "data": {
      "text/plain": [
       "[[4, 6], [1, 3]]"
      ]
     },
     "execution_count": 32,
     "metadata": {},
     "output_type": "execute_result"
    }
   ],
   "source": [
    "nums1 = [1,2,3,5]\n",
    "nums2 = [2,4,6, 5]\n",
    "distinct_int(nums1, nums2)"
   ]
  },
  {
   "cell_type": "markdown",
   "id": "de7bbbb5",
   "metadata": {},
   "source": [
    "### Question 3."
   ]
  },
  {
   "cell_type": "code",
   "execution_count": 35,
   "id": "a5832f91",
   "metadata": {},
   "outputs": [],
   "source": [
    "def transpose(matrix):\n",
    "    rows = len(matrix)\n",
    "    columns = len(matrix[0]) if rows > 0 else 0\n",
    "    transposed = [[0 for i in range(rows)] for i in range(columns)]\n",
    "    for i in range(rows):\n",
    "        for j in range(columns):\n",
    "            transposed[j][i] = matrix[i][j]\n",
    "\n",
    "    return transposed"
   ]
  },
  {
   "cell_type": "code",
   "execution_count": 36,
   "id": "7dde43ba",
   "metadata": {},
   "outputs": [
    {
     "data": {
      "text/plain": [
       "[[1, 4, 7], [2, 5, 8], [3, 6, 9]]"
      ]
     },
     "execution_count": 36,
     "metadata": {},
     "output_type": "execute_result"
    }
   ],
   "source": [
    "matrix = [[1,2,3],[4,5,6],[7,8,9]]\n",
    "transpose(matrix)"
   ]
  },
  {
   "cell_type": "markdown",
   "id": "319c8452",
   "metadata": {},
   "source": [
    "### Question 4."
   ]
  },
  {
   "cell_type": "code",
   "execution_count": 108,
   "id": "06b6d657",
   "metadata": {},
   "outputs": [],
   "source": [
    "def arrayPairSum(nums):\n",
    "    nums.sort()  # Sort the array in ascending order\n",
    "    total_sum = 0\n",
    "    for i in range(0, len(nums), 2):\n",
    "        total_sum += min(nums[i], nums[i+1])\n",
    "    return total_sum"
   ]
  },
  {
   "cell_type": "code",
   "execution_count": 109,
   "id": "ca0b7f4d",
   "metadata": {},
   "outputs": [
    {
     "data": {
      "text/plain": [
       "12"
      ]
     },
     "execution_count": 109,
     "metadata": {},
     "output_type": "execute_result"
    }
   ],
   "source": [
    "nums = [2, 4,3,5,6,7]\n",
    "arrayPairSum(nums)"
   ]
  },
  {
   "cell_type": "markdown",
   "id": "29d37deb",
   "metadata": {},
   "source": [
    "### Question 5."
   ]
  },
  {
   "cell_type": "code",
   "execution_count": 59,
   "id": "b5914620",
   "metadata": {},
   "outputs": [],
   "source": [
    "import math\n",
    "\n",
    "def arrangeCoins(n):\n",
    "    k = math.floor((math.sqrt(8 * n + 1) - 1) / 2)\n",
    "    return k"
   ]
  },
  {
   "cell_type": "code",
   "execution_count": 62,
   "id": "a2e7c83b",
   "metadata": {},
   "outputs": [
    {
     "data": {
      "text/plain": [
       "4"
      ]
     },
     "execution_count": 62,
     "metadata": {},
     "output_type": "execute_result"
    }
   ],
   "source": [
    "n = 11\n",
    "arrangeCoins(n)"
   ]
  },
  {
   "cell_type": "markdown",
   "id": "d5bdd36d",
   "metadata": {},
   "source": [
    "### Question 6."
   ]
  },
  {
   "cell_type": "code",
   "execution_count": 53,
   "id": "6a38d9fd",
   "metadata": {},
   "outputs": [],
   "source": [
    "def sorted_square(nums):\n",
    "    sq = []\n",
    "    for i in nums:\n",
    "        sq.append(i*i)\n",
    "    sq.sort()\n",
    "    return sq\n",
    "        "
   ]
  },
  {
   "cell_type": "code",
   "execution_count": 58,
   "id": "e882cbcc",
   "metadata": {},
   "outputs": [
    {
     "data": {
      "text/plain": [
       "[0, 1, 9, 16, 36, 81]"
      ]
     },
     "execution_count": 58,
     "metadata": {},
     "output_type": "execute_result"
    }
   ],
   "source": [
    "nums = [-9,-4,-1, 0,3,6]\n",
    "sorted_square(nums)"
   ]
  },
  {
   "cell_type": "markdown",
   "id": "d55b9a0b",
   "metadata": {},
   "source": [
    "### Question 7."
   ]
  },
  {
   "cell_type": "code",
   "execution_count": 110,
   "id": "48573247",
   "metadata": {},
   "outputs": [],
   "source": [
    "def maxCount(m, n, ops):\n",
    "    min_row = m\n",
    "    min_col = n\n",
    "    for op in ops:\n",
    "        min_row = min(min_row, op[0])\n",
    "        min_col = min(min_col, op[1])\n",
    "    return min_row * min_col\n"
   ]
  },
  {
   "cell_type": "code",
   "execution_count": 111,
   "id": "66aeb4fd",
   "metadata": {},
   "outputs": [
    {
     "name": "stdout",
     "output_type": "stream",
     "text": [
      "4\n"
     ]
    }
   ],
   "source": [
    "m = 3\n",
    "n = 3\n",
    "ops = [[2, 2], [3, 3]]\n",
    "print(maxCount(m, n, ops)) "
   ]
  },
  {
   "cell_type": "markdown",
   "id": "c0d747c2",
   "metadata": {},
   "source": [
    "### Question 8."
   ]
  },
  {
   "cell_type": "code",
   "execution_count": 105,
   "id": "3e4c5635",
   "metadata": {},
   "outputs": [],
   "source": [
    "def swap(nums):\n",
    "    n1 = []\n",
    "    n2 = []\n",
    "    swapped = []\n",
    "    for i in range(nums[0], nums[len(nums)//2]):\n",
    "        n1.append(i)\n",
    "        i+=1\n",
    "    for j in nums[len(nums)//2:]:\n",
    "        n2.append(j)\n",
    "        j+=1\n",
    "    combined_list = [x for pair in zip(n1, n2) for x in pair]\n",
    "    \n",
    "    return combined_list"
   ]
  },
  {
   "cell_type": "code",
   "execution_count": 106,
   "id": "b74880c6",
   "metadata": {},
   "outputs": [
    {
     "data": {
      "text/plain": [
       "[1, 4, 2, 5, 3, 7]"
      ]
     },
     "execution_count": 106,
     "metadata": {},
     "output_type": "execute_result"
    }
   ],
   "source": [
    "nums = [1,2,3,4,5,7]\n",
    "swap(nums)"
   ]
  }
 ],
 "metadata": {
  "kernelspec": {
   "display_name": "Python 3 (ipykernel)",
   "language": "python",
   "name": "python3"
  },
  "language_info": {
   "codemirror_mode": {
    "name": "ipython",
    "version": 3
   },
   "file_extension": ".py",
   "mimetype": "text/x-python",
   "name": "python",
   "nbconvert_exporter": "python",
   "pygments_lexer": "ipython3",
   "version": "3.9.12"
  }
 },
 "nbformat": 4,
 "nbformat_minor": 5
}
