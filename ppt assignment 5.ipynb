{
 "cells": [
  {
   "cell_type": "markdown",
   "id": "73b3c6aa",
   "metadata": {},
   "source": [
    "###    Question 1."
   ]
  },
  {
   "cell_type": "code",
   "execution_count": 17,
   "id": "955bd147",
   "metadata": {},
   "outputs": [],
   "source": [
    "def _2DArray(original, m, n):\n",
    "    total_elements_needed = m * n\n",
    "    if len(original) != total_elements_needed:\n",
    "        return []\n",
    "    \n",
    "    result = [[0] * n for _ in range(m)]\n",
    "    for i in range(total_elements_needed):\n",
    "        row = i // n\n",
    "        col = i % n\n",
    "        result[row][col] = original[i]\n",
    "    \n",
    "    return result\n"
   ]
  },
  {
   "cell_type": "code",
   "execution_count": 18,
   "id": "67d2beaf",
   "metadata": {},
   "outputs": [
    {
     "name": "stdout",
     "output_type": "stream",
     "text": [
      "[[1, 2, 3], [4, 5, 6]]\n"
     ]
    }
   ],
   "source": [
    "original = [1, 2, 3, 4,5,6]\n",
    "m = 2\n",
    "n = 3\n",
    "print(_2DArray(original, m, n))"
   ]
  },
  {
   "cell_type": "markdown",
   "id": "8d45c5f9",
   "metadata": {},
   "source": [
    "### Question 2."
   ]
  },
  {
   "cell_type": "code",
   "execution_count": 7,
   "id": "faebe056",
   "metadata": {},
   "outputs": [],
   "source": [
    "import math\n",
    "\n",
    "def arrangeCoins(n):\n",
    "    k = math.floor((math.sqrt(8 * n + 1) - 1) / 2)\n",
    "    return k"
   ]
  },
  {
   "cell_type": "code",
   "execution_count": 8,
   "id": "d8742546",
   "metadata": {},
   "outputs": [
    {
     "data": {
      "text/plain": [
       "4"
      ]
     },
     "execution_count": 8,
     "metadata": {},
     "output_type": "execute_result"
    }
   ],
   "source": [
    "n = 11\n",
    "arrangeCoins(n)"
   ]
  },
  {
   "cell_type": "markdown",
   "id": "dce89432",
   "metadata": {},
   "source": [
    "### Question 3."
   ]
  },
  {
   "cell_type": "code",
   "execution_count": 14,
   "id": "e05fb166",
   "metadata": {},
   "outputs": [],
   "source": [
    "def sorted_square(nums):\n",
    "    sq = []\n",
    "    for i in nums:\n",
    "        sq.append(i*i)\n",
    "    sq.sort()\n",
    "    return sq\n",
    "        "
   ]
  },
  {
   "cell_type": "code",
   "execution_count": 15,
   "id": "b2ef3b4c",
   "metadata": {},
   "outputs": [
    {
     "data": {
      "text/plain": [
       "[0, 1, 9, 16, 36, 81]"
      ]
     },
     "execution_count": 15,
     "metadata": {},
     "output_type": "execute_result"
    }
   ],
   "source": [
    "nums = [-9,-4,-1, 0,3,6]\n",
    "sorted_square(nums)"
   ]
  },
  {
   "cell_type": "markdown",
   "id": "8255f639",
   "metadata": {},
   "source": [
    "### Question 4."
   ]
  },
  {
   "cell_type": "code",
   "execution_count": 28,
   "id": "ae360377",
   "metadata": {},
   "outputs": [],
   "source": [
    "def distinct_int(num1, num2):\n",
    "    l1 = []\n",
    "    l2 = []\n",
    "    for j in num2:\n",
    "        if j not in num1:\n",
    "            l1.append(j)\n",
    "    \n",
    "    for j in num1:\n",
    "        if j not in num2:\n",
    "            l2.append(j)\n",
    "              \n",
    "    return [l1, l2]\n",
    "        "
   ]
  },
  {
   "cell_type": "code",
   "execution_count": 32,
   "id": "5bac9bad",
   "metadata": {},
   "outputs": [
    {
     "data": {
      "text/plain": [
       "[[4, 6], [1, 3]]"
      ]
     },
     "execution_count": 32,
     "metadata": {},
     "output_type": "execute_result"
    }
   ],
   "source": [
    "nums1 = [1,2,3,5]\n",
    "nums2 = [2,4,6, 5]\n",
    "distinct_int(nums1, nums2)"
   ]
  },
  {
   "cell_type": "markdown",
   "id": "fba6fa88",
   "metadata": {},
   "source": [
    "### Question 5."
   ]
  },
  {
   "cell_type": "code",
   "execution_count": 35,
   "id": "6c25e1a9",
   "metadata": {},
   "outputs": [],
   "source": [
    "def find_distance_value(arr1, arr2, d):\n",
    "    distance = 0\n",
    "    for num1 in arr1:\n",
    "        valid = True\n",
    "        for num2 in arr2:\n",
    "            if abs(num1 - num2) <= d:\n",
    "                valid = False\n",
    "                break\n",
    "        if valid:\n",
    "            distance += 1\n",
    "    return distance\n"
   ]
  },
  {
   "cell_type": "code",
   "execution_count": 36,
   "id": "8da38e73",
   "metadata": {},
   "outputs": [
    {
     "data": {
      "text/plain": [
       "2"
      ]
     },
     "execution_count": 36,
     "metadata": {},
     "output_type": "execute_result"
    }
   ],
   "source": [
    "arr1 = [4, 5, 8]\n",
    "arr2 = [10, 9, 1, 8]\n",
    "d = 2\n",
    "distance_value = find_distance_value(arr1, arr2, d)\n",
    "distance_value"
   ]
  },
  {
   "cell_type": "markdown",
   "id": "a21a7849",
   "metadata": {},
   "source": [
    "### Question 6."
   ]
  },
  {
   "cell_type": "code",
   "execution_count": 52,
   "id": "731b3d0e",
   "metadata": {},
   "outputs": [],
   "source": [
    "def find_duplicates(nums):\n",
    "    duplicates = []\n",
    "    for num in nums:\n",
    "        index = abs(num) - 1\n",
    "        if nums[index] < 0:\n",
    "            duplicates.append(index + 1)\n",
    "        else:\n",
    "            nums[index] *= -1\n",
    "    return duplicates\n"
   ]
  },
  {
   "cell_type": "code",
   "execution_count": 54,
   "id": "1e311907",
   "metadata": {},
   "outputs": [
    {
     "data": {
      "text/plain": [
       "[1, 5]"
      ]
     },
     "execution_count": 54,
     "metadata": {},
     "output_type": "execute_result"
    }
   ],
   "source": [
    "nums = [1,1,2,3,4,5,5]\n",
    "find_duplicates(nums)"
   ]
  },
  {
   "cell_type": "markdown",
   "id": "d63fabcf",
   "metadata": {},
   "source": [
    "### Question 7."
   ]
  },
  {
   "cell_type": "code",
   "execution_count": 55,
   "id": "1e4b3eee",
   "metadata": {},
   "outputs": [],
   "source": [
    "def find_min(nums):\n",
    "    left = 0\n",
    "    right = len(nums) - 1\n",
    "\n",
    "    while left < right:\n",
    "        mid = left + (right - left) // 2\n",
    "        if nums[mid] > nums[right]:\n",
    "            left = mid + 1\n",
    "        else:\n",
    "            right = mid\n",
    "\n",
    "    return nums[left]\n"
   ]
  },
  {
   "cell_type": "code",
   "execution_count": 57,
   "id": "064479c1",
   "metadata": {},
   "outputs": [
    {
     "data": {
      "text/plain": [
       "2"
      ]
     },
     "execution_count": 57,
     "metadata": {},
     "output_type": "execute_result"
    }
   ],
   "source": [
    "nums = [4,5,6,2,3]\n",
    "find_min(nums)"
   ]
  },
  {
   "cell_type": "markdown",
   "id": "bd19f79f",
   "metadata": {},
   "source": [
    "### Question 8."
   ]
  },
  {
   "cell_type": "code",
   "execution_count": 4,
   "id": "daae9986",
   "metadata": {},
   "outputs": [],
   "source": [
    "from collections import Counter\n",
    "def original_array(nums):\n",
    "    l1 = []\n",
    "    for i in range(len(nums)):\n",
    "        if nums[i] % 2 == 0:\n",
    "            nums[i] = nums[i] // 2\n",
    "    counter = Counter(nums)\n",
    "    for count in counter.values():\n",
    "        if count % 2 != 0:\n",
    "            return []\n",
    "    return nums"
   ]
  },
  {
   "cell_type": "code",
   "execution_count": 16,
   "id": "5e83f9c0",
   "metadata": {
    "scrolled": true
   },
   "outputs": [],
   "source": [
    "from collections import defaultdict\n",
    "def find_original(changed):\n",
    "    if len(changed) % 2 != 0:\n",
    "        return []\n",
    "    counts = defaultdict(int)\n",
    "    for num in changed:\n",
    "        counts[num] += 1\n",
    "    original = []\n",
    "    for num in sorted(counts.keys()):\n",
    "        if counts[num] > counts[2*num]:\n",
    "            return []\n",
    "        counts[2*num] -= counts[num]\n",
    "        original.extend([num] * counts[num])\n",
    "            \n",
    "    return original\n"
   ]
  },
  {
   "cell_type": "code",
   "execution_count": 23,
   "id": "3e8cd913",
   "metadata": {},
   "outputs": [],
   "source": [
    "nums = [1,2,3,2,4,6]"
   ]
  },
  {
   "cell_type": "code",
   "execution_count": 24,
   "id": "74d72831",
   "metadata": {},
   "outputs": [
    {
     "data": {
      "text/plain": [
       "[1, 2, 3]"
      ]
     },
     "execution_count": 24,
     "metadata": {},
     "output_type": "execute_result"
    }
   ],
   "source": [
    "find_original(nums)"
   ]
  },
  {
   "cell_type": "code",
   "execution_count": null,
   "id": "e9738575",
   "metadata": {},
   "outputs": [],
   "source": []
  }
 ],
 "metadata": {
  "kernelspec": {
   "display_name": "Python 3 (ipykernel)",
   "language": "python",
   "name": "python3"
  },
  "language_info": {
   "codemirror_mode": {
    "name": "ipython",
    "version": 3
   },
   "file_extension": ".py",
   "mimetype": "text/x-python",
   "name": "python",
   "nbconvert_exporter": "python",
   "pygments_lexer": "ipython3",
   "version": "3.9.12"
  }
 },
 "nbformat": 4,
 "nbformat_minor": 5
}
