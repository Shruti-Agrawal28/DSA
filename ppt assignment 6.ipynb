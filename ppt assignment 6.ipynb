{
 "cells": [
  {
   "cell_type": "markdown",
   "id": "4ae7cda8",
   "metadata": {},
   "source": [
    "### Question 1."
   ]
  },
  {
   "cell_type": "code",
   "execution_count": 18,
   "id": "79e92e34",
   "metadata": {},
   "outputs": [],
   "source": [
    "def reconstructPermutation(s):\n",
    "    n = len(s)\n",
    "    perm = []\n",
    "    start = 0\n",
    "    end = n\n",
    "    \n",
    "    for c in s:\n",
    "        if c == 'I':\n",
    "            perm.append(start)\n",
    "            start += 1\n",
    "        elif c == 'D':\n",
    "            perm.append(end)\n",
    "            end -= 1\n",
    "    \n",
    "    perm.append(start)\n",
    "    \n",
    "    return perm\n"
   ]
  },
  {
   "cell_type": "code",
   "execution_count": 19,
   "id": "20debc47",
   "metadata": {},
   "outputs": [
    {
     "name": "stdout",
     "output_type": "stream",
     "text": [
      "[0, 4, 1, 3, 2]\n"
     ]
    }
   ],
   "source": [
    "s = \"IDID\"\n",
    "print(reconstructPermutation(s))\n"
   ]
  },
  {
   "cell_type": "markdown",
   "id": "a8589cfd",
   "metadata": {},
   "source": [
    "### Question 2."
   ]
  },
  {
   "cell_type": "code",
   "execution_count": 10,
   "id": "79ea8d4e",
   "metadata": {},
   "outputs": [],
   "source": [
    "def search(matrix, target):\n",
    "    m = len(matrix)  # Number of rows\n",
    "    n = len(matrix[0])  # Number of columns\n",
    "    left = 0\n",
    "    right = m * n - 1\n",
    "    while left <= right:\n",
    "        mid = (left + right) // 2\n",
    "        row = mid // n\n",
    "        col = mid % n\n",
    "\n",
    "        if matrix[row][col] == target:\n",
    "            return True\n",
    "        elif matrix[row][col] < target:\n",
    "            left = mid + 1\n",
    "        else:\n",
    "            right = mid - 1\n",
    "\n",
    "    return False\n",
    "        "
   ]
  },
  {
   "cell_type": "code",
   "execution_count": 14,
   "id": "06760ddd",
   "metadata": {},
   "outputs": [
    {
     "data": {
      "text/plain": [
       "True"
      ]
     },
     "execution_count": 14,
     "metadata": {},
     "output_type": "execute_result"
    }
   ],
   "source": [
    "matrix = [[1,3,5,7],[10,11,16,20],[23,30,34,60]]\n",
    "target = 16\n",
    "search(matrix, target)"
   ]
  },
  {
   "cell_type": "markdown",
   "id": "d47188b9",
   "metadata": {},
   "source": [
    "### Question 3."
   ]
  },
  {
   "cell_type": "code",
   "execution_count": 22,
   "id": "c18d7c96",
   "metadata": {},
   "outputs": [],
   "source": [
    "def MountainArray(arr):\n",
    "    n = len(arr)\n",
    "    if n < 3:\n",
    "        return False\n",
    "\n",
    "    i = 0\n",
    "\n",
    "    while i < n - 1 and arr[i] < arr[i + 1]:\n",
    "        i += 1\n",
    "    if i == 0 or i == n - 1:\n",
    "        return False\n",
    "\n",
    "    while i < n - 1 and arr[i] > arr[i + 1]:\n",
    "        i += 1\n",
    "\n",
    "    return i == n - 1"
   ]
  },
  {
   "cell_type": "code",
   "execution_count": 23,
   "id": "4573b1ed",
   "metadata": {},
   "outputs": [
    {
     "name": "stdout",
     "output_type": "stream",
     "text": [
      "True\n"
     ]
    }
   ],
   "source": [
    "arr = [0, 3, 2, 1]\n",
    "print(MountainArray(arr))  "
   ]
  },
  {
   "cell_type": "markdown",
   "id": "063aaacf",
   "metadata": {},
   "source": [
    "### Question 4."
   ]
  },
  {
   "cell_type": "code",
   "execution_count": 26,
   "id": "5de168c4",
   "metadata": {},
   "outputs": [],
   "source": [
    "def findMaxLength(nums):\n",
    "    for i in range(len(nums)):\n",
    "        if nums[i] == 0:\n",
    "            nums[i] = -1\n",
    "\n",
    "    max_length = 0\n",
    "    count = 0\n",
    "    count_dict = {0: -1}\n",
    "\n",
    "    for i in range(len(nums)):\n",
    "        count += nums[i]\n",
    "\n",
    "        if count in count_dict:\n",
    "            length = i - count_dict[count]\n",
    "            max_length = max(max_length, length)\n",
    "        else:\n",
    "            count_dict[count] = i\n",
    "\n",
    "    return max_length"
   ]
  },
  {
   "cell_type": "code",
   "execution_count": 27,
   "id": "c1e41810",
   "metadata": {},
   "outputs": [
    {
     "name": "stdout",
     "output_type": "stream",
     "text": [
      "6\n"
     ]
    }
   ],
   "source": [
    "nums = [0, 1, 0, 0, 1, 1, 0]\n",
    "print(findMaxLength(nums))"
   ]
  },
  {
   "cell_type": "markdown",
   "id": "6984412f",
   "metadata": {},
   "source": [
    "### Question 5."
   ]
  },
  {
   "cell_type": "markdown",
   "id": "a4642b49",
   "metadata": {},
   "source": [
    "The **product sum** of two equal-length arrays a and b is equal to the sum of a[i] * b[i] for all 0 <= i < a.length (**0-indexed**).\n",
    "\n",
    "- For example, if a = [1,2,3,4] and b = [5,2,3,1], the **product sum** would be 1*5 + 2*2 + 3*3 + 4*1 = 22.\n",
    "\n",
    "Given two arrays nums1 and nums2 of length n, return *the **minimum product sum** if you are allowed to **rearrange** the **order** of the elements in* nums1.\n",
    "\n",
    "**Example 1:**\n",
    "\n",
    "**Input:** nums1 = [5,3,4,2], nums2 = [4,2,2,5]\n",
    "\n",
    "**Output:** 40\n",
    "\n",
    "**Explanation:**\n",
    "\n",
    "We can rearrange nums1 to become [3,5,4,2]. The product sum of [3,5,4,2] and [4,2,2,5] is 3*4 + 5*2 + 4*2 + 2*5 = 40. "
   ]
  },
  {
   "cell_type": "code",
   "execution_count": 21,
   "id": "67e61429",
   "metadata": {},
   "outputs": [],
   "source": [
    "def min_product_sum(nums1, nums2):\n",
    "    nums1.sort()\n",
    "    nums2.sort()\n",
    "\n",
    "    i = 0\n",
    "    j = len(nums2) - 1\n",
    "\n",
    "    minProductSum = 0\n",
    "\n",
    "    while i < len(nums1):\n",
    "        minProductSum += nums1[i] * nums2[j]\n",
    "        i += 1\n",
    "        j -= 1\n",
    "\n",
    "    return minProductSum\n"
   ]
  },
  {
   "cell_type": "code",
   "execution_count": 22,
   "id": "57610411",
   "metadata": {},
   "outputs": [
    {
     "data": {
      "text/plain": [
       "40"
      ]
     },
     "execution_count": 22,
     "metadata": {},
     "output_type": "execute_result"
    }
   ],
   "source": [
    "nums1 = [5,3,4,2]\n",
    "nums2 = [4,2,2,5]\n",
    "min_product_sum(nums1,nums2)"
   ]
  },
  {
   "cell_type": "markdown",
   "id": "360c7103",
   "metadata": {},
   "source": [
    "### Question 6."
   ]
  },
  {
   "cell_type": "code",
   "execution_count": 28,
   "id": "91847a8d",
   "metadata": {},
   "outputs": [],
   "source": [
    "from collections import defaultdict\n",
    "def find_original(changed):\n",
    "    if len(changed) % 2 != 0:\n",
    "        return []\n",
    "    counts = defaultdict(int)\n",
    "    for num in changed:\n",
    "        counts[num] += 1\n",
    "    original = []\n",
    "    for num in sorted(counts.keys()):\n",
    "        if counts[num] > counts[2*num]:\n",
    "            return []\n",
    "        counts[2*num] -= counts[num]\n",
    "        original.extend([num] * counts[num])\n",
    "            \n",
    "    return original"
   ]
  },
  {
   "cell_type": "code",
   "execution_count": 29,
   "id": "9495f34f",
   "metadata": {},
   "outputs": [
    {
     "data": {
      "text/plain": [
       "[1, 2, 3]"
      ]
     },
     "execution_count": 29,
     "metadata": {},
     "output_type": "execute_result"
    }
   ],
   "source": [
    "nums = [1,2,3,2,4,6]\n",
    "find_original(nums)"
   ]
  },
  {
   "cell_type": "markdown",
   "id": "5189bbfe",
   "metadata": {},
   "source": [
    "### Question 7."
   ]
  },
  {
   "cell_type": "code",
   "execution_count": 31,
   "id": "564a182e",
   "metadata": {},
   "outputs": [],
   "source": [
    "def generateMatrix(n):\n",
    "    matrix = [[0] * n for _ in range(n)]\n",
    "    num = 1\n",
    "    row_start, row_end = 0, n-1\n",
    "    col_start, col_end = 0, n-1\n",
    "    \n",
    "    while num <= n*n:\n",
    "        # Fill top row\n",
    "        for j in range(col_start, col_end+1):\n",
    "            matrix[row_start][j] = num\n",
    "            num += 1\n",
    "        row_start += 1\n",
    "\n",
    "        # Fill right column\n",
    "        for i in range(row_start, row_end+1):\n",
    "            matrix[i][col_end] = num\n",
    "            num += 1\n",
    "        col_end -= 1\n",
    "\n",
    "        # Fill bottom row\n",
    "        for j in range(col_end, col_start-1, -1):\n",
    "            matrix[row_end][j] = num\n",
    "            num += 1\n",
    "        row_end -= 1\n",
    "\n",
    "        # Fill left column\n",
    "        for i in range(row_end, row_start-1, -1):\n",
    "            matrix[i][col_start] = num\n",
    "            num += 1\n",
    "        col_start += 1\n",
    "\n",
    "    return matrix"
   ]
  },
  {
   "cell_type": "code",
   "execution_count": 33,
   "id": "66d9ee48",
   "metadata": {},
   "outputs": [
    {
     "name": "stdout",
     "output_type": "stream",
     "text": [
      "[1, 2, 3, 4]\n",
      "[12, 13, 14, 5]\n",
      "[11, 16, 15, 6]\n",
      "[10, 9, 8, 7]\n"
     ]
    }
   ],
   "source": [
    "n = 4\n",
    "result = generateMatrix(n)\n",
    "for row in result:\n",
    "    print(row)"
   ]
  },
  {
   "cell_type": "markdown",
   "id": "963b14b8",
   "metadata": {},
   "source": [
    "### Question 8."
   ]
  },
  {
   "cell_type": "code",
   "execution_count": 34,
   "id": "6d161233",
   "metadata": {},
   "outputs": [],
   "source": [
    "def multiply(mat1, mat2):\n",
    "    m = len(mat1)\n",
    "    k = len(mat1[0])\n",
    "    n = len(mat2[0])\n",
    "\n",
    "    result = [[0] * n for _ in range(m)]\n",
    "\n",
    "    for i in range(m):\n",
    "        for j in range(n):\n",
    "            sum = 0\n",
    "            for kk in range(k):\n",
    "                sum += mat1[i][kk] * mat2[kk][j]\n",
    "            result[i][j] = sum\n",
    "\n",
    "    return result\n"
   ]
  },
  {
   "cell_type": "code",
   "execution_count": 35,
   "id": "7061bd14",
   "metadata": {},
   "outputs": [
    {
     "name": "stdout",
     "output_type": "stream",
     "text": [
      "[7, 0, 0]\n",
      "[-7, 0, 3]\n"
     ]
    }
   ],
   "source": [
    "mat1 = [[1, 0, 0],\n",
    "        [-1, 0, 3]]\n",
    "\n",
    "mat2 = [[7, 0, 0],\n",
    "        [0, 0, 0],\n",
    "        [0, 0, 1]]\n",
    "\n",
    "result = multiply(mat1, mat2)\n",
    "\n",
    "for row in result:\n",
    "    print(row)\n"
   ]
  }
 ],
 "metadata": {
  "kernelspec": {
   "display_name": "Python 3 (ipykernel)",
   "language": "python",
   "name": "python3"
  },
  "language_info": {
   "codemirror_mode": {
    "name": "ipython",
    "version": 3
   },
   "file_extension": ".py",
   "mimetype": "text/x-python",
   "name": "python",
   "nbconvert_exporter": "python",
   "pygments_lexer": "ipython3",
   "version": "3.9.12"
  }
 },
 "nbformat": 4,
 "nbformat_minor": 5
}
