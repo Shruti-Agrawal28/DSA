{
 "cells": [
  {
   "cell_type": "markdown",
   "id": "687ffc02",
   "metadata": {},
   "source": [
    "### Question 1."
   ]
  },
  {
   "cell_type": "code",
   "execution_count": 1,
   "id": "50f9e2cb",
   "metadata": {},
   "outputs": [],
   "source": [
    "def isIsomorphic(s: str, t: str) -> bool:\n",
    "    if len(s) != len(t):\n",
    "        return False\n",
    "\n",
    "    s_to_t = {}\n",
    "    t_to_s = {}\n",
    "\n",
    "    for i in range(len(s)):\n",
    "        char_s = s[i]\n",
    "        char_t = t[i]\n",
    "\n",
    "        if char_s in s_to_t and char_t in t_to_s:\n",
    "            if s_to_t[char_s] != char_t or t_to_s[char_t] != char_s:\n",
    "                return False\n",
    "        elif char_s not in s_to_t and char_t not in t_to_s:\n",
    "            s_to_t[char_s] = char_t\n",
    "            t_to_s[char_t] = char_s\n",
    "        else:\n",
    "            return False\n",
    "\n",
    "    return True\n"
   ]
  },
  {
   "cell_type": "code",
   "execution_count": 2,
   "id": "01d692f2",
   "metadata": {},
   "outputs": [
    {
     "name": "stdout",
     "output_type": "stream",
     "text": [
      "True\n"
     ]
    }
   ],
   "source": [
    "s = \"egg\"\n",
    "t = \"add\"\n",
    "print(isIsomorphic(s, t))  # Output: True\n"
   ]
  },
  {
   "cell_type": "markdown",
   "id": "b5333f07",
   "metadata": {},
   "source": [
    "### Question 2."
   ]
  },
  {
   "cell_type": "code",
   "execution_count": 3,
   "id": "73a7378f",
   "metadata": {},
   "outputs": [],
   "source": [
    "def isStrobogrammatic(num: str) -> bool:\n",
    "    left, right = 0, len(num) - 1\n",
    "    while left <= right:\n",
    "        if not is_valid_pair(num[left], num[right]):\n",
    "            return False\n",
    "        left += 1\n",
    "        right -= 1\n",
    "    return True\n",
    "\n",
    "def is_valid_pair(digit1: str, digit2: str) -> bool:\n",
    "    valid_pairs = {'0': '0', '8': '8', '6': '9', '9': '6'}\n",
    "    return digit1 in valid_pairs and digit2 == valid_pairs[digit1]\n"
   ]
  },
  {
   "cell_type": "code",
   "execution_count": 4,
   "id": "b06b5a35",
   "metadata": {},
   "outputs": [
    {
     "name": "stdout",
     "output_type": "stream",
     "text": [
      "True\n",
      "False\n"
     ]
    }
   ],
   "source": [
    "num = \"69\"\n",
    "print(isStrobogrammatic(num))  \n",
    "\n",
    "num = \"1\"\n",
    "print(isStrobogrammatic(num)) \n"
   ]
  },
  {
   "cell_type": "markdown",
   "id": "738a0c57",
   "metadata": {},
   "source": [
    "### Question 3."
   ]
  },
  {
   "cell_type": "code",
   "execution_count": 5,
   "id": "de8c821d",
   "metadata": {},
   "outputs": [],
   "source": [
    "def addStrings(num1, num2) -> str:\n",
    "    i = len(num1) - 1\n",
    "    j = len(num2) - 1\n",
    "    carry = 0\n",
    "    result = \"\"\n",
    "\n",
    "    while i >= 0 or j >= 0:\n",
    "        digit1 = int(num1[i]) if i >= 0 else 0\n",
    "        digit2 = int(num2[j]) if j >= 0 else 0\n",
    "\n",
    "        current_sum = digit1 + digit2 + carry\n",
    "        carry = current_sum // 10\n",
    "        result = str(current_sum % 10) + result\n",
    "\n",
    "        i -= 1\n",
    "        j -= 1\n",
    "\n",
    "    if carry != 0:\n",
    "        result = str(carry) + result\n",
    "\n",
    "    return result"
   ]
  },
  {
   "cell_type": "code",
   "execution_count": 6,
   "id": "ae5dcf23",
   "metadata": {},
   "outputs": [
    {
     "name": "stdout",
     "output_type": "stream",
     "text": [
      "234\n"
     ]
    }
   ],
   "source": [
    "num1 = \"111\"\n",
    "num2 = \"123\"\n",
    "print(addStrings(num1, num2))  # Output: \"134\"\n"
   ]
  },
  {
   "cell_type": "markdown",
   "id": "2c435bf1",
   "metadata": {},
   "source": [
    "### Question 4."
   ]
  },
  {
   "cell_type": "code",
   "execution_count": 7,
   "id": "5ff0622f",
   "metadata": {},
   "outputs": [],
   "source": [
    "def reverseWords(s: str) -> str:\n",
    "    words = s.split()\n",
    "    reversed_words = [word[::-1] for word in words]\n",
    "    return ' '.join(reversed_words)"
   ]
  },
  {
   "cell_type": "code",
   "execution_count": 8,
   "id": "99116c57",
   "metadata": {},
   "outputs": [
    {
     "name": "stdout",
     "output_type": "stream",
     "text": [
      "s'teL ekat edoCteeL tsetnoc\n"
     ]
    }
   ],
   "source": [
    "s = \"Let's take LeetCode contest\"\n",
    "print(reverseWords(s))"
   ]
  },
  {
   "cell_type": "markdown",
   "id": "e55f942d",
   "metadata": {},
   "source": [
    "### Question 5."
   ]
  },
  {
   "cell_type": "code",
   "execution_count": 9,
   "id": "5d482247",
   "metadata": {},
   "outputs": [],
   "source": [
    "def reverseStr(s: str, k: int) -> str:\n",
    "    result = \"\"\n",
    "    reverse_flag = True\n",
    "\n",
    "    for i in range(0, len(s), k):\n",
    "        if reverse_flag:\n",
    "            result += s[i:i+k][::-1]\n",
    "        else:\n",
    "            result += s[i:i+k]\n",
    "        reverse_flag = not reverse_flag\n",
    "\n",
    "    return result\n"
   ]
  },
  {
   "cell_type": "code",
   "execution_count": 10,
   "id": "30405995",
   "metadata": {},
   "outputs": [
    {
     "name": "stdout",
     "output_type": "stream",
     "text": [
      "bacdfeg\n"
     ]
    }
   ],
   "source": [
    "s = \"abcdefg\"\n",
    "k = 2\n",
    "print(reverseStr(s, k)) "
   ]
  },
  {
   "cell_type": "markdown",
   "id": "e5f06f4e",
   "metadata": {},
   "source": [
    "### Question 6."
   ]
  },
  {
   "cell_type": "code",
   "execution_count": 11,
   "id": "c536cf41",
   "metadata": {},
   "outputs": [],
   "source": [
    "def rotateString(s: str, goal: str) -> bool:\n",
    "    if len(s) != len(goal):\n",
    "        return False\n",
    "\n",
    "    s_shifted = s + s\n",
    "    if goal in s_shifted:\n",
    "        return True\n",
    "    else:\n",
    "        return False\n"
   ]
  },
  {
   "cell_type": "code",
   "execution_count": 12,
   "id": "7f540b39",
   "metadata": {},
   "outputs": [
    {
     "name": "stdout",
     "output_type": "stream",
     "text": [
      "False\n"
     ]
    }
   ],
   "source": [
    "s = \"abcde\"\n",
    "goal = \"ceab\"\n",
    "print(rotateString(s, goal)) "
   ]
  },
  {
   "cell_type": "markdown",
   "id": "a7905c3d",
   "metadata": {},
   "source": [
    "### Question 7."
   ]
  },
  {
   "cell_type": "code",
   "execution_count": 13,
   "id": "c2e3fd6f",
   "metadata": {},
   "outputs": [],
   "source": [
    "def backspaceCompare(s: str, t: str) -> bool:\n",
    "    def processString(string: str) -> str:\n",
    "        stack = []\n",
    "        for char in string:\n",
    "            if char != '#':\n",
    "                stack.append(char)\n",
    "            elif stack:\n",
    "                stack.pop()\n",
    "        return ''.join(stack)\n",
    "\n",
    "    return processString(s) == processString(t)\n"
   ]
  },
  {
   "cell_type": "code",
   "execution_count": 14,
   "id": "345eb19a",
   "metadata": {},
   "outputs": [
    {
     "name": "stdout",
     "output_type": "stream",
     "text": [
      "True\n"
     ]
    }
   ],
   "source": [
    "s = \"ab#c\"\n",
    "t = \"aa#c\"\n",
    "print(backspaceCompare(s, t))  "
   ]
  }
 ],
 "metadata": {
  "kernelspec": {
   "display_name": "Python 3 (ipykernel)",
   "language": "python",
   "name": "python3"
  },
  "language_info": {
   "codemirror_mode": {
    "name": "ipython",
    "version": 3
   },
   "file_extension": ".py",
   "mimetype": "text/x-python",
   "name": "python",
   "nbconvert_exporter": "python",
   "pygments_lexer": "ipython3",
   "version": "3.9.12"
  }
 },
 "nbformat": 4,
 "nbformat_minor": 5
}
