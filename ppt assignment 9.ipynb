{
 "cells": [
  {
   "cell_type": "markdown",
   "id": "2bafff8b",
   "metadata": {},
   "source": [
    "### Question 1."
   ]
  },
  {
   "cell_type": "code",
   "execution_count": 6,
   "id": "dfcf05a1",
   "metadata": {},
   "outputs": [],
   "source": [
    "import numpy as np\n",
    "def isPowerOfTwo(n):\n",
    "    if n <= 0:\n",
    "        return False\n",
    "    root = np.sqrt(n)\n",
    "    return root == int(root)"
   ]
  },
  {
   "cell_type": "code",
   "execution_count": 9,
   "id": "7115dc44",
   "metadata": {},
   "outputs": [
    {
     "data": {
      "text/plain": [
       "True"
      ]
     },
     "execution_count": 9,
     "metadata": {},
     "output_type": "execute_result"
    }
   ],
   "source": [
    "isPowerOfTwo(16)"
   ]
  },
  {
   "cell_type": "markdown",
   "id": "8d9c2021",
   "metadata": {},
   "source": [
    "### Question 2."
   ]
  },
  {
   "cell_type": "code",
   "execution_count": 38,
   "id": "7bf542df",
   "metadata": {},
   "outputs": [],
   "source": [
    "def firstNsum(n):\n",
    "    sum1 = (n * (n + 1)) // 2\n",
    "    return sum1"
   ]
  },
  {
   "cell_type": "code",
   "execution_count": 39,
   "id": "4dcce1bd",
   "metadata": {},
   "outputs": [
    {
     "data": {
      "text/plain": [
       "55"
      ]
     },
     "execution_count": 39,
     "metadata": {},
     "output_type": "execute_result"
    }
   ],
   "source": [
    "firstNsum(10)"
   ]
  },
  {
   "cell_type": "markdown",
   "id": "401f0b26",
   "metadata": {},
   "source": [
    "### Question 3."
   ]
  },
  {
   "cell_type": "code",
   "execution_count": 41,
   "id": "11b39566",
   "metadata": {},
   "outputs": [],
   "source": [
    "import math\n",
    "def factorial(n):\n",
    "    factorial = math.factorial(n)\n",
    "    return factorial"
   ]
  },
  {
   "cell_type": "code",
   "execution_count": 42,
   "id": "a4a88ef3",
   "metadata": {},
   "outputs": [
    {
     "data": {
      "text/plain": [
       "24"
      ]
     },
     "execution_count": 42,
     "metadata": {},
     "output_type": "execute_result"
    }
   ],
   "source": [
    "factorial(4)"
   ]
  },
  {
   "cell_type": "markdown",
   "id": "3315bdba",
   "metadata": {},
   "source": [
    "### Question 4."
   ]
  },
  {
   "cell_type": "code",
   "execution_count": 45,
   "id": "c9e22c6c",
   "metadata": {},
   "outputs": [],
   "source": [
    "def nPowerToP(n, p):\n",
    "    if p == 0:\n",
    "        return 1\n",
    "    else:\n",
    "        i = n ** p\n",
    "    return i"
   ]
  },
  {
   "cell_type": "code",
   "execution_count": 47,
   "id": "62af70ce",
   "metadata": {},
   "outputs": [
    {
     "data": {
      "text/plain": [
       "32"
      ]
     },
     "execution_count": 47,
     "metadata": {},
     "output_type": "execute_result"
    }
   ],
   "source": [
    "n = 2\n",
    "p = 5\n",
    "nPowerToP(n, p)"
   ]
  },
  {
   "cell_type": "markdown",
   "id": "355e4d1d",
   "metadata": {},
   "source": [
    "### Question 5."
   ]
  },
  {
   "cell_type": "code",
   "execution_count": 49,
   "id": "c332da0d",
   "metadata": {},
   "outputs": [],
   "source": [
    "def find_max(arr):\n",
    "    n = len(arr)\n",
    "    if n == 1:\n",
    "        return arr[0]\n",
    "    else:\n",
    "        return max(arr[0], find_max(arr[1:]))"
   ]
  },
  {
   "cell_type": "code",
   "execution_count": 50,
   "id": "0c4172bd",
   "metadata": {},
   "outputs": [
    {
     "data": {
      "text/plain": [
       "8"
      ]
     },
     "execution_count": 50,
     "metadata": {},
     "output_type": "execute_result"
    }
   ],
   "source": [
    "arr = [1,2,3,4,6,7,8,-10]\n",
    "find_max(arr)"
   ]
  },
  {
   "cell_type": "markdown",
   "id": "1d315491",
   "metadata": {},
   "source": [
    "### Question 6."
   ]
  },
  {
   "cell_type": "code",
   "execution_count": 59,
   "id": "eaba84c3",
   "metadata": {},
   "outputs": [],
   "source": [
    "def nth_term(a, d, n):\n",
    "    ap = a + (n-1) * d\n",
    "    return ap"
   ]
  },
  {
   "cell_type": "code",
   "execution_count": 60,
   "id": "bd6be887",
   "metadata": {},
   "outputs": [
    {
     "data": {
      "text/plain": [
       "23"
      ]
     },
     "execution_count": 60,
     "metadata": {},
     "output_type": "execute_result"
    }
   ],
   "source": [
    "nth_term(5,2,10)"
   ]
  },
  {
   "cell_type": "markdown",
   "id": "e3f54ed4",
   "metadata": {},
   "source": [
    "### Question 7."
   ]
  },
  {
   "cell_type": "code",
   "execution_count": 70,
   "id": "9f309903",
   "metadata": {},
   "outputs": [],
   "source": [
    "from itertools import permutations\n",
    "def str_perm(s):\n",
    "    perm = list(permutations(s))\n",
    "    for p in perm:\n",
    "        print(''.join(p))"
   ]
  },
  {
   "cell_type": "code",
   "execution_count": 71,
   "id": "dbc98279",
   "metadata": {},
   "outputs": [
    {
     "name": "stdout",
     "output_type": "stream",
     "text": [
      "XYZ\n",
      "XZY\n",
      "YXZ\n",
      "YZX\n",
      "ZXY\n",
      "ZYX\n"
     ]
    }
   ],
   "source": [
    "s = \"XYZ\"\n",
    "str_perm(s)"
   ]
  },
  {
   "cell_type": "markdown",
   "id": "3d5d2414",
   "metadata": {},
   "source": [
    "### Question 8."
   ]
  },
  {
   "cell_type": "code",
   "execution_count": 75,
   "id": "741f7ec1",
   "metadata": {},
   "outputs": [],
   "source": [
    "def find_prod(arr):\n",
    "    product = 1\n",
    "    for i in arr:\n",
    "        product *= i\n",
    "    return product"
   ]
  },
  {
   "cell_type": "code",
   "execution_count": 76,
   "id": "ecbb93f7",
   "metadata": {},
   "outputs": [
    {
     "data": {
      "text/plain": [
       "18"
      ]
     },
     "execution_count": 76,
     "metadata": {},
     "output_type": "execute_result"
    }
   ],
   "source": [
    "arr = {1,6,3}\n",
    "find_prod(arr)"
   ]
  }
 ],
 "metadata": {
  "kernelspec": {
   "display_name": "Python 3 (ipykernel)",
   "language": "python",
   "name": "python3"
  },
  "language_info": {
   "codemirror_mode": {
    "name": "ipython",
    "version": 3
   },
   "file_extension": ".py",
   "mimetype": "text/x-python",
   "name": "python",
   "nbconvert_exporter": "python",
   "pygments_lexer": "ipython3",
   "version": "3.9.12"
  }
 },
 "nbformat": 4,
 "nbformat_minor": 5
}
