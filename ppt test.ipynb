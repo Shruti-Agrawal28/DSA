{
 "cells": [
  {
   "cell_type": "markdown",
   "id": "24d681be",
   "metadata": {},
   "source": [
    "### Move zeroes"
   ]
  },
  {
   "cell_type": "code",
   "execution_count": 10,
   "id": "85e33ede",
   "metadata": {},
   "outputs": [],
   "source": [
    "def move_zero(nums):\n",
    "    swap = 0\n",
    "    for i in nums:\n",
    "        if i != 0:\n",
    "            nums[swap] = i\n",
    "            swap += 1\n",
    "    while swap < len(nums):\n",
    "        nums[swap] = 0\n",
    "        swap += 1"
   ]
  },
  {
   "cell_type": "code",
   "execution_count": 11,
   "id": "12c2c0a7",
   "metadata": {},
   "outputs": [
    {
     "name": "stdout",
     "output_type": "stream",
     "text": [
      "[1, 3, 2, 4, 5, 0, 0]\n"
     ]
    }
   ],
   "source": [
    "nums = [0,1,3,0,2,4,5]\n",
    "move_zero(nums)\n",
    "print(nums)"
   ]
  },
  {
   "cell_type": "markdown",
   "id": "5f7c82f6",
   "metadata": {},
   "source": [
    "### First unique character"
   ]
  },
  {
   "cell_type": "code",
   "execution_count": 12,
   "id": "bfc9faa0",
   "metadata": {},
   "outputs": [],
   "source": [
    "def first_unique(string):\n",
    "    count = {}\n",
    "    for i in string:\n",
    "        count[i] = count.get(i,0) + 1\n",
    "    for i in range(len(string)):\n",
    "        if count[string[i]] == 1:\n",
    "            return i\n",
    "    return -1"
   ]
  },
  {
   "cell_type": "code",
   "execution_count": 13,
   "id": "4e19157d",
   "metadata": {},
   "outputs": [
    {
     "data": {
      "text/plain": [
       "0"
      ]
     },
     "execution_count": 13,
     "metadata": {},
     "output_type": "execute_result"
    }
   ],
   "source": [
    "s = \"leetcode\"\n",
    "first_unique(s)"
   ]
  },
  {
   "cell_type": "code",
   "execution_count": 14,
   "id": "bbdb2371",
   "metadata": {},
   "outputs": [
    {
     "data": {
      "text/plain": [
       "2"
      ]
     },
     "execution_count": 14,
     "metadata": {},
     "output_type": "execute_result"
    }
   ],
   "source": [
    "s = \"loveleetcode\"\n",
    "first_unique(s)"
   ]
  },
  {
   "cell_type": "code",
   "execution_count": 15,
   "id": "a5a31b85",
   "metadata": {},
   "outputs": [
    {
     "data": {
      "text/plain": [
       "-1"
      ]
     },
     "execution_count": 15,
     "metadata": {},
     "output_type": "execute_result"
    }
   ],
   "source": [
    "s = \"aabb\"\n",
    "first_unique(s)"
   ]
  }
 ],
 "metadata": {
  "kernelspec": {
   "display_name": "Python 3 (ipykernel)",
   "language": "python",
   "name": "python3"
  },
  "language_info": {
   "codemirror_mode": {
    "name": "ipython",
    "version": 3
   },
   "file_extension": ".py",
   "mimetype": "text/x-python",
   "name": "python",
   "nbconvert_exporter": "python",
   "pygments_lexer": "ipython3",
   "version": "3.9.12"
  }
 },
 "nbformat": 4,
 "nbformat_minor": 5
}
