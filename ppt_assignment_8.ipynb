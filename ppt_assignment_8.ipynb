{
  "nbformat": 4,
  "nbformat_minor": 0,
  "metadata": {
    "colab": {
      "provenance": [],
      "authorship_tag": "ABX9TyNboalP3++BTfdhCa1cTJ4N"
    },
    "kernelspec": {
      "name": "python3",
      "display_name": "Python 3"
    },
    "language_info": {
      "name": "python"
    }
  },
  "cells": [
    {
      "cell_type": "markdown",
      "source": [
        "### Question 1."
      ],
      "metadata": {
        "id": "QmIx6j__UEMq"
      }
    },
    {
      "cell_type": "code",
      "source": [
        "def minimumDeleteSum(s1, s2):\n",
        "    m, n = len(s1), len(s2)\n",
        "    dp = [[0] * (n + 1) for _ in range(m + 1)]\n",
        "\n",
        "    for i in range(1, m + 1):\n",
        "        dp[i][0] = dp[i-1][0] + ord(s1[i-1])\n",
        "    for j in range(1, n + 1):\n",
        "        dp[0][j] = dp[0][j-1] + ord(s2[j-1])\n",
        "\n",
        "    for i in range(1, m + 1):\n",
        "        for j in range(1, n + 1):\n",
        "            if s1[i-1] == s2[j-1]:\n",
        "                dp[i][j] = dp[i-1][j-1]\n",
        "            else:\n",
        "                dp[i][j] = min(dp[i-1][j] + ord(s1[i-1]), dp[i][j-1] + ord(s2[j-1]), dp[i-1][j-1] + ord(s1[i-1]) + ord(s2[j-1]))\n",
        "\n",
        "    return dp[m][n]"
      ],
      "metadata": {
        "id": "TNiSIvHJSkaf"
      },
      "execution_count": 3,
      "outputs": []
    },
    {
      "cell_type": "code",
      "source": [
        "s1 = \"sea\"\n",
        "s2 = \"eat\"\n",
        "result = minimumDeleteSum(s1, s2)\n",
        "print(result)"
      ],
      "metadata": {
        "colab": {
          "base_uri": "https://localhost:8080/"
        },
        "id": "d0IC6GufS1vH",
        "outputId": "f87b4393-44eb-4648-e7d5-b69fece74da6"
      },
      "execution_count": 4,
      "outputs": [
        {
          "output_type": "stream",
          "name": "stdout",
          "text": [
            "231\n"
          ]
        }
      ]
    },
    {
      "cell_type": "markdown",
      "source": [
        "### Question 2."
      ],
      "metadata": {
        "id": "oqgyG2o7UJnN"
      }
    },
    {
      "cell_type": "code",
      "source": [
        "def isValid(s):\n",
        "    open_count = 0\n",
        "    star_count = 0\n",
        "\n",
        "    for c in s:\n",
        "        if c == '(':\n",
        "            open_count += 1\n",
        "        elif c == '*':\n",
        "            star_count += 1\n",
        "        elif c == ')':\n",
        "            if open_count > 0:\n",
        "                open_count -= 1\n",
        "            elif star_count > 0:\n",
        "                star_count -= 1\n",
        "            else:\n",
        "                return False\n",
        "\n",
        "    return open_count == 0 or (open_count > 0 and star_count >= open_count)"
      ],
      "metadata": {
        "id": "IY_gsPx3S7v-"
      },
      "execution_count": 5,
      "outputs": []
    },
    {
      "cell_type": "code",
      "source": [
        "s = \"(*)\"\n",
        "result = isValid(s)\n",
        "print(result)"
      ],
      "metadata": {
        "colab": {
          "base_uri": "https://localhost:8080/"
        },
        "id": "wlpiLQIgS74Q",
        "outputId": "03a43e3c-8f96-4355-9b05-06d8e03e1175"
      },
      "execution_count": 7,
      "outputs": [
        {
          "output_type": "stream",
          "name": "stdout",
          "text": [
            "True\n"
          ]
        }
      ]
    },
    {
      "cell_type": "markdown",
      "source": [
        "### Question 3."
      ],
      "metadata": {
        "id": "sds88eKnUR-p"
      }
    },
    {
      "cell_type": "code",
      "source": [
        "def minSteps(word1, word2):\n",
        "    def LCS(word1, word2):\n",
        "        m, n = len(word1), len(word2)\n",
        "        dp = [[0] * (n + 1) for _ in range(m + 1)]\n",
        "\n",
        "        for i in range(1, m + 1):\n",
        "            for j in range(1, n + 1):\n",
        "                if word1[i - 1] == word2[j - 1]:\n",
        "                    dp[i][j] = dp[i - 1][j - 1] + 1\n",
        "                else:\n",
        "                    dp[i][j] = max(dp[i - 1][j], dp[i][j - 1])\n",
        "\n",
        "        return dp[m][n]\n",
        "\n",
        "    return len(word1) + len(word2) - 2 * LCS(word1, word2)"
      ],
      "metadata": {
        "id": "VMWbYm8pTYTQ"
      },
      "execution_count": 8,
      "outputs": []
    },
    {
      "cell_type": "code",
      "source": [
        "word1 = \"seed\"\n",
        "word2 = \"eat\"\n",
        "result = minSteps(word1, word2)\n",
        "print(result)"
      ],
      "metadata": {
        "colab": {
          "base_uri": "https://localhost:8080/"
        },
        "id": "Vv6Qvzl8Tyzk",
        "outputId": "35e9b6d7-25e9-4a3e-df09-30bb4ded8266"
      },
      "execution_count": 10,
      "outputs": [
        {
          "output_type": "stream",
          "name": "stdout",
          "text": [
            "5\n"
          ]
        }
      ]
    },
    {
      "cell_type": "markdown",
      "source": [
        "### Question 5."
      ],
      "metadata": {
        "id": "nIFbfAS0UVp0"
      }
    },
    {
      "cell_type": "code",
      "source": [
        "\n",
        "def compress(chars):\n",
        "    write = 0\n",
        "    count = 1\n",
        "\n",
        "    for i in range(1, len(chars)):\n",
        "        if chars[i] == chars[i-1]:\n",
        "            count += 1\n",
        "        else:\n",
        "            chars[write] = chars[i-1]\n",
        "            write += 1\n",
        "            if count > 1:\n",
        "                for digit in str(count):\n",
        "                    chars[write] = digit\n",
        "                    write += 1\n",
        "            count = 1\n",
        "\n",
        "    chars[write] = chars[-1]\n",
        "    write += 1\n",
        "    if count > 1:\n",
        "        for digit in str(count):\n",
        "            chars[write] = digit\n",
        "            write += 1\n",
        "\n",
        "    return write"
      ],
      "metadata": {
        "id": "LH25q7Z0UYeq"
      },
      "execution_count": 11,
      "outputs": []
    },
    {
      "cell_type": "code",
      "source": [
        "chars = [\"a\", \"a\", \"b\", \"b\", \"c\", \"c\", \"c\"]\n",
        "length = compress(chars)\n",
        "print(length) \n",
        "print(chars[:length])"
      ],
      "metadata": {
        "colab": {
          "base_uri": "https://localhost:8080/"
        },
        "id": "dGHyNnhCVwzV",
        "outputId": "ef5f08ab-6728-4506-a2a2-495929cbac38"
      },
      "execution_count": 12,
      "outputs": [
        {
          "output_type": "stream",
          "name": "stdout",
          "text": [
            "6\n",
            "['a', '2', 'b', '2', 'c', '3']\n"
          ]
        }
      ]
    },
    {
      "cell_type": "markdown",
      "source": [
        "### Question 6."
      ],
      "metadata": {
        "id": "3nAH0s5VWRN4"
      }
    },
    {
      "cell_type": "code",
      "source": [
        "\n",
        "from collections import Counter\n",
        "\n",
        "def findAnagrams(s, p):\n",
        "    p_count = Counter(p)\n",
        "    window_count = Counter()\n",
        "    start = 0\n",
        "    result = []\n",
        "\n",
        "    for end in range(len(s)):\n",
        "        window_count[s[end]] += 1\n",
        "\n",
        "        if end >= len(p):\n",
        "            window_count[s[start]] -= 1\n",
        "            if window_count[s[start]] == 0:\n",
        "                del window_count[s[start]]\n",
        "            start += 1\n",
        "\n",
        "        if window_count == p_count:\n",
        "            result.append(start)\n",
        "\n",
        "    return result"
      ],
      "metadata": {
        "id": "rF6IjCnyVw77"
      },
      "execution_count": 13,
      "outputs": []
    },
    {
      "cell_type": "code",
      "source": [
        "s = \"cbaebabacd\"\n",
        "p = \"abc\"\n",
        "indices = findAnagrams(s, p)\n",
        "print(indices)  # Output: [0, 6]"
      ],
      "metadata": {
        "colab": {
          "base_uri": "https://localhost:8080/"
        },
        "id": "34X6YUo2Vw_3",
        "outputId": "e2458981-2b17-4116-fc55-337bebd749f2"
      },
      "execution_count": 14,
      "outputs": [
        {
          "output_type": "stream",
          "name": "stdout",
          "text": [
            "[0, 6]\n"
          ]
        }
      ]
    },
    {
      "cell_type": "markdown",
      "source": [
        "### Question 7."
      ],
      "metadata": {
        "id": "GlvjV7_6Wdbb"
      }
    },
    {
      "cell_type": "code",
      "source": [
        "def decodeString(s):\n",
        "    stack = []\n",
        "    current_string = \"\"\n",
        "\n",
        "    for c in s:\n",
        "        if c == \"[\":\n",
        "            stack.append(current_string)\n",
        "            current_string = \"\"\n",
        "        elif c == \"]\":\n",
        "            decoded_string = stack.pop()\n",
        "            repeat_count = int(stack.pop())\n",
        "            current_string = decoded_string + current_string * repeat_count\n",
        "        elif c.isdigit():\n",
        "            if stack and stack[-1].isdigit():\n",
        "                stack[-1] += c\n",
        "            else:\n",
        "                stack.append(c)\n",
        "        else:\n",
        "            current_string += c\n",
        "\n",
        "    return current_string"
      ],
      "metadata": {
        "id": "tQEBogBiXjxK"
      },
      "execution_count": 22,
      "outputs": []
    },
    {
      "cell_type": "code",
      "source": [
        "s = \"3[a]2[bc]\"\n",
        "decoded_string = decodeString(s)\n",
        "print(decoded_string)"
      ],
      "metadata": {
        "colab": {
          "base_uri": "https://localhost:8080/"
        },
        "id": "dUqn_FU6Wryb",
        "outputId": "32e39c6d-35d6-41e6-a83e-398050d0f91d"
      },
      "execution_count": 23,
      "outputs": [
        {
          "output_type": "stream",
          "name": "stdout",
          "text": [
            "aaabcbc\n"
          ]
        }
      ]
    },
    {
      "cell_type": "markdown",
      "source": [
        "### Question 8."
      ],
      "metadata": {
        "id": "P1SUFXB2XsY7"
      }
    },
    {
      "cell_type": "code",
      "source": [
        "def swapped(s, goal):\n",
        "    if len(s) != len(goal):\n",
        "        return False\n",
        "\n",
        "    diff_s = []\n",
        "    diff_goal = []\n",
        "\n",
        "    for c_s, c_goal in zip(s, goal):\n",
        "        if c_s != c_goal:\n",
        "            diff_s.append(c_s)\n",
        "            diff_goal.append(c_goal)\n",
        "\n",
        "    if len(diff_s) != 2 or diff_s[0] != diff_goal[1] or diff_s[1] != diff_goal[0]:\n",
        "        return False\n",
        "\n",
        "    return True"
      ],
      "metadata": {
        "id": "7ViTNLcnXweu"
      },
      "execution_count": 25,
      "outputs": []
    },
    {
      "cell_type": "code",
      "source": [
        "s = \"abc\"\n",
        "goal = \"bac\"\n",
        "result = swapped(s, goal)\n",
        "print(result)"
      ],
      "metadata": {
        "colab": {
          "base_uri": "https://localhost:8080/"
        },
        "id": "ltA9V0ScXww1",
        "outputId": "7cf9f15d-0daa-4af4-b689-a0202f006629"
      },
      "execution_count": 28,
      "outputs": [
        {
          "output_type": "stream",
          "name": "stdout",
          "text": [
            "True\n"
          ]
        }
      ]
    }
  ]
}